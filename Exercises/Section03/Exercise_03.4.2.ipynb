{
 "cells": [
  {
   "cell_type": "markdown",
   "metadata": {},
   "source": [
    "# Exercise 3.4.2"
   ]
  },
  {
   "cell_type": "code",
   "execution_count": null,
   "metadata": {},
   "outputs": [],
   "source": [
    "%matplotlib inline\n",
    "import matplotlib.pyplot as plt\n",
    "import numpy as np\n",
    "import time"
   ]
  },
  {
   "cell_type": "markdown",
   "metadata": {},
   "source": [
    "### Data"
   ]
  },
  {
   "cell_type": "code",
   "execution_count": null,
   "metadata": {},
   "outputs": [],
   "source": [
    "# create random square matrix\n",
    "ndim_max = 1000\n",
    "A = np.random.randn(ndim_max,ndim_max)"
   ]
  },
  {
   "cell_type": "markdown",
   "metadata": {},
   "source": [
    "### Compute Time for SVD"
   ]
  },
  {
   "cell_type": "code",
   "execution_count": null,
   "metadata": {},
   "outputs": [],
   "source": [
    "# set up list of dimension lengths\n",
    "npoint = 6\n",
    "array_ndim = np.linspace(500,1000,npoint)\n",
    "# create initial array of zeros for time calculation\n",
    "array_time = np.zeros((npoint))\n",
    "# repeat experiment nrun times to smooth out results\n",
    "nrun = 10\n",
    "# record time to compute svd of A[0:ndim,0:ndim] over nrun cases\n",
    "for i in range(npoint):\n",
    "    ndim = int(array_ndim[i])\n",
    "    time_start = time.time()\n",
    "    for count in range(nrun):\n",
    "        np.linalg.svd(A[0:ndim,0:ndim])\n",
    "    time_end = time.time()\n",
    "    array_time[i] = time_end - time_start"
   ]
  },
  {
   "cell_type": "markdown",
   "metadata": {},
   "source": [
    "### Plot log log Results"
   ]
  },
  {
   "cell_type": "code",
   "execution_count": null,
   "metadata": {},
   "outputs": [],
   "source": [
    "plt.figure()\n",
    "log_ndim = np.log(array_ndim)\n",
    "log_time = np.log(array_time)\n",
    "plt.title(\"Log data\")\n",
    "plt.xlabel(\"Log Dimension\")\n",
    "plt.ylabel(\"Log Time\")\n",
    "plt.plot(log_ndim,log_time,\"ro\")\n",
    "plt.show()"
   ]
  },
  {
   "cell_type": "markdown",
   "metadata": {},
   "source": [
    "### Compute complexity power"
   ]
  },
  {
   "cell_type": "code",
   "execution_count": null,
   "metadata": {},
   "outputs": [],
   "source": [
    "# fit log ndim/log time data to linear function using polyfit input 1 means fit to linear function\n",
    "coeff = np.polyfit(log_ndim,log_time,1)\n",
    "print(\"Coefficients: {}\".format(coeff))\n",
    "print(\"Complexity power: {}\".format(coeff[0]))\n",
    "# create polynomial(linear function) based on coefficients\n",
    "p = np.poly1d(coeff)\n",
    "plt.figure()\n",
    "# plot log_ndim log_time data\n",
    "plt.plot(log_ndim,log_time,\"ro\",label=\"data\")\n",
    "# plot log_ndim versus polynomial p evaluated at log_ndim points\n",
    "plt.plot(log_ndim,p(log_ndim),\"b-\",label=\"fit\")\n",
    "plt.legend()\n",
    "plt.show()"
   ]
  },
  {
   "cell_type": "code",
   "execution_count": null,
   "metadata": {},
   "outputs": [],
   "source": []
  }
 ],
 "metadata": {
  "kernelspec": {
   "display_name": "Python 3",
   "language": "python",
   "name": "python3"
  },
  "language_info": {
   "codemirror_mode": {
    "name": "ipython",
    "version": 3
   },
   "file_extension": ".py",
   "mimetype": "text/x-python",
   "name": "python",
   "nbconvert_exporter": "python",
   "pygments_lexer": "ipython3",
   "version": "3.8.3"
  }
 },
 "nbformat": 4,
 "nbformat_minor": 2
}
