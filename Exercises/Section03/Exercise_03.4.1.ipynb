{
 "cells": [
  {
   "cell_type": "markdown",
   "metadata": {},
   "source": [
    "# Exercise 3.4.1"
   ]
  },
  {
   "cell_type": "code",
   "execution_count": null,
   "metadata": {},
   "outputs": [],
   "source": [
    "import numpy as np"
   ]
  },
  {
   "cell_type": "markdown",
   "metadata": {},
   "source": [
    "### Data"
   ]
  },
  {
   "cell_type": "code",
   "execution_count": null,
   "metadata": {},
   "outputs": [],
   "source": [
    "X = np.array([[11,15,-9],[2,-6,1],[13,7,-11],[4,18,12]])\n",
    "X"
   ]
  },
  {
   "cell_type": "markdown",
   "metadata": {},
   "source": [
    "#### (a) Compute SVD"
   ]
  },
  {
   "cell_type": "code",
   "execution_count": null,
   "metadata": {},
   "outputs": [],
   "source": [
    "U,Sigma,Vt = np.linalg.svd(X,full_matrices=False)\n",
    "print(\"U: \\n{}\".format(U))\n",
    "print(\"Sigma: {}\".format(Sigma))\n",
    "print(\"V transpose: \\n{}\".format(Vt))"
   ]
  },
  {
   "cell_type": "code",
   "execution_count": null,
   "metadata": {},
   "outputs": [],
   "source": [
    "# check\n",
    "diff = X - np.matmul(U,np.matmul(np.diag(Sigma),Vt))\n",
    "diff"
   ]
  },
  {
   "cell_type": "markdown",
   "metadata": {},
   "source": [
    "#### Distance function"
   ]
  },
  {
   "cell_type": "code",
   "execution_count": null,
   "metadata": {},
   "outputs": [],
   "source": [
    "def lengthl2(X):\n",
    "    # compute l2 length of X\n",
    "    return np.sqrt(np.sum(np.square(X),axis=0))"
   ]
  },
  {
   "cell_type": "markdown",
   "metadata": {},
   "source": [
    "#### (b) Check U"
   ]
  },
  {
   "cell_type": "code",
   "execution_count": null,
   "metadata": {},
   "outputs": [],
   "source": [
    "# check lengths\n",
    "print(\"L2 Length U0: {}\".format(lengthl2(U[:,0])))\n",
    "print(\"L2 length U1: {}\".format(lengthl2(U[:,1])))\n",
    "print(\"L2 length U2: {}\".format(lengthl2(U[:,2])))"
   ]
  },
  {
   "cell_type": "code",
   "execution_count": null,
   "metadata": {},
   "outputs": [],
   "source": [
    "# check dot products:\n",
    "print(\"U0.T dot U1: {}\".format(np.dot(U[:,0].T,U[:,1])))\n",
    "print(\"U0.T dot U2: {}\".format(np.dot(U[:,0].T,U[:,2])))\n",
    "print(\"U1.T dot U2: {}\".format(np.dot(U[:,1].T,U[:,2])))"
   ]
  },
  {
   "cell_type": "markdown",
   "metadata": {},
   "source": [
    "#### (c) Check V"
   ]
  },
  {
   "cell_type": "code",
   "execution_count": null,
   "metadata": {},
   "outputs": [],
   "source": [
    "V = Vt.T\n",
    "# check lengths\n",
    "print(\"L2 Length V0: {}\".format(lengthl2(V[:,0])))\n",
    "print(\"L2 length V1: {}\".format(lengthl2(V[:,1])))\n",
    "print(\"L2 length V2: {}\".format(lengthl2(V[:,2])))"
   ]
  },
  {
   "cell_type": "code",
   "execution_count": null,
   "metadata": {},
   "outputs": [],
   "source": [
    "# check dot products:\n",
    "print(\"V0.T dot V1: {}\".format(np.dot(V[:,0].T,V[:,1])))\n",
    "print(\"V0.T dot V2: {}\".format(np.dot(V[:,0].T,V[:,2])))\n",
    "print(\"V1.T dot V2: {}\".format(np.dot(V[:,1].T,V[:,2])))"
   ]
  },
  {
   "cell_type": "code",
   "execution_count": null,
   "metadata": {},
   "outputs": [],
   "source": []
  }
 ],
 "metadata": {
  "kernelspec": {
   "display_name": "Python 3",
   "language": "python",
   "name": "python3"
  },
  "language_info": {
   "codemirror_mode": {
    "name": "ipython",
    "version": 3
   },
   "file_extension": ".py",
   "mimetype": "text/x-python",
   "name": "python",
   "nbconvert_exporter": "python",
   "pygments_lexer": "ipython3",
   "version": "3.8.3"
  }
 },
 "nbformat": 4,
 "nbformat_minor": 2
}
