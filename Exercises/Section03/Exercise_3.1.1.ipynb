{
 "cells": [
  {
   "cell_type": "markdown",
   "metadata": {},
   "source": [
    "# Exercise 3.1.1"
   ]
  },
  {
   "cell_type": "code",
   "execution_count": null,
   "metadata": {},
   "outputs": [],
   "source": [
    "import matplotlib.pyplot as plt\n",
    "import numpy as np\n",
    "from sklearn.feature_extraction.text import CountVectorizer\n",
    "from sklearn.feature_extraction.text import TfidfVectorizer\n",
    "from wordcloud import WordCloud"
   ]
  },
  {
   "cell_type": "markdown",
   "metadata": {},
   "source": [
    "### Create messages\n",
    "List of 3 messages"
   ]
  },
  {
   "cell_type": "code",
   "execution_count": null,
   "metadata": {},
   "outputs": [],
   "source": [
    "#dataset\n",
    "list_message = [\"I will pick you up\", \"See you soon\", \"Up or down\"]"
   ]
  },
  {
   "cell_type": "markdown",
   "metadata": {},
   "source": [
    "### Process text: using sklearn CountVectorizer"
   ]
  },
  {
   "cell_type": "code",
   "execution_count": null,
   "metadata": {},
   "outputs": [],
   "source": [
    "# Create instance of count vectorizer\n",
    "vectorizer = CountVectorizer()\n",
    "# Perform word counts\n",
    "Cfit = vectorizer.fit_transform(list_message)\n",
    "# Generate feature matrix (transform so sample axis is in column direction)\n",
    "C = Xfit.toarray().T\n",
    "print(\"C: \\n{}\".format(C))\n",
    "# list words in vocabulary (turn into numpy array)\n",
    "wordsC = np.array(vectorizer.get_feature_names())\n",
    "print(\"Words: {}\".format(wordsC))"
   ]
  },
  {
   "cell_type": "markdown",
   "metadata": {},
   "source": [
    "### Process text: using sklearn TfidfVectorizer"
   ]
  },
  {
   "cell_type": "code",
   "execution_count": null,
   "metadata": {},
   "outputs": [],
   "source": [
    "# Create instance of vectorizer\n",
    "vectorizer_tfidf = TfidfVectorizer()\n",
    "# Perform word counts\n",
    "Tfit = vectorizer_tfidf.fit_transform(list_message)\n",
    "# Generate feature matrix (transform so sample axis is in column direction)\n",
    "T = Tfit.toarray().T\n",
    "print(\"T: \\n{}\".format(T))\n",
    "# list words in vocabulary (turn into numpy array)\n",
    "wordsT = np.array(vectorizer_tfidf.get_feature_names())\n",
    "print(\"Words: {}\".format(wordsT))"
   ]
  },
  {
   "cell_type": "markdown",
   "metadata": {},
   "source": [
    "### Compute document frequency"
   ]
  },
  {
   "cell_type": "code",
   "execution_count": null,
   "metadata": {},
   "outputs": [],
   "source": [
    "# Determine document frequency\n",
    "DF = np.zeros(np.size(wordsC))\n",
    "for m in range(np.size(wordsC)):\n",
    "    for n in range(len(list_message)):\n",
    "        if C[m,n]>0:\n",
    "            DF[m] += 1\n",
    "print(\"DF: \\n{}\".format(DF))"
   ]
  },
  {
   "cell_type": "markdown",
   "metadata": {},
   "source": [
    "### Multiply Count by inverse document frequency"
   ]
  },
  {
   "cell_type": "code",
   "execution_count": null,
   "metadata": {},
   "outputs": [],
   "source": [
    "U = np.zeros((np.size(wordsC),len(list_message)))\n",
    "ndoc = len(list_message)\n",
    "for m in range(np.size(wordsC)):\n",
    "    for n in range(len(list_message)):\n",
    "        U[m,n] = C[m,n]*(np.log((1+ndoc)/(1+DF[m]))+1)\n",
    "print(\"U: \\n{}\".format(U))"
   ]
  },
  {
   "cell_type": "markdown",
   "metadata": {},
   "source": [
    "### Normalize"
   ]
  },
  {
   "cell_type": "code",
   "execution_count": null,
   "metadata": {},
   "outputs": [],
   "source": [
    "L = np.zeros(len(list_message))\n",
    "for m in range(np.size(wordsC)):\n",
    "    for n in range(len(list_message)):\n",
    "        L[n] += U[m,n]**2\n",
    "\n",
    "TFIDF = U\n",
    "for m in range(np.size(wordsC)):\n",
    "    for n in range(len(list_message)):\n",
    "        TFIDF[m,n] = TFIDF[m,n]/np.sqrt(L[n])\n",
    "\n",
    "print(\"TFIDF: \\n{}\".format(TFIDF))"
   ]
  },
  {
   "cell_type": "markdown",
   "metadata": {},
   "source": [
    "### Compare with direct Tfidf calculation"
   ]
  },
  {
   "cell_type": "code",
   "execution_count": null,
   "metadata": {},
   "outputs": [],
   "source": [
    "diff = TFIDF - T\n",
    "print(\"diff: \\n{}\".format(diff))"
   ]
  },
  {
   "cell_type": "markdown",
   "metadata": {},
   "source": [
    "### Vectorized calculation"
   ]
  },
  {
   "cell_type": "code",
   "execution_count": null,
   "metadata": {},
   "outputs": [],
   "source": [
    "DF_vectorized = np.sum(C>0,axis=1,keepdims=True)\n",
    "U_vectorized = C * (np.log((1+ndoc)/(1+DF_vectorized))+1)\n",
    "TFIDF_vectorized = U_vectorized/np.sqrt(np.sum(np.square(U_vectorized),axis=0,keepdims=True))\n",
    "diff_vectorized = TFIDF_vectorized - T\n",
    "print(\"diff_vectorized: \\n{}\".format(diff_vectorized))"
   ]
  },
  {
   "cell_type": "code",
   "execution_count": null,
   "metadata": {},
   "outputs": [],
   "source": []
  }
 ],
 "metadata": {
  "kernelspec": {
   "display_name": "Python 3",
   "language": "python",
   "name": "python3"
  },
  "language_info": {
   "codemirror_mode": {
    "name": "ipython",
    "version": 3
   },
   "file_extension": ".py",
   "mimetype": "text/x-python",
   "name": "python",
   "nbconvert_exporter": "python",
   "pygments_lexer": "ipython3",
   "version": "3.8.3"
  }
 },
 "nbformat": 4,
 "nbformat_minor": 2
}
