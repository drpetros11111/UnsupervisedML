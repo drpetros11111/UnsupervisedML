{
 "cells": [
  {
   "cell_type": "markdown",
   "metadata": {},
   "source": [
    "# Exercise 3.1.1"
   ]
  },
  {
   "cell_type": "code",
   "execution_count": null,
   "metadata": {},
   "outputs": [],
   "source": [
    "%matplotlib inline\n",
    "import matplotlib.pyplot as plt\n",
    "import numpy as np\n",
    "from sklearn.feature_extraction.text import CountVectorizer\n",
    "from sklearn.feature_extraction.text import TfidfVectorizer\n",
    "from wordcloud import WordCloud"
   ]
  },
  {
   "cell_type": "markdown",
   "metadata": {},
   "source": [
    "### Create messages\n",
    "List of 4 messages"
   ]
  },
  {
   "cell_type": "code",
   "execution_count": null,
   "metadata": {},
   "outputs": [],
   "source": [
    "#dataset\n",
    "list_message = [\"A bird in the hand is worth two in the bush\", \"The early bird gets the worm\", \"Time is money\",\n",
    "               \"Honesty is the best policy\"]"
   ]
  },
  {
   "cell_type": "markdown",
   "metadata": {},
   "source": [
    "### Process text: using sklearn CountVectorizer"
   ]
  },
  {
   "cell_type": "code",
   "execution_count": null,
   "metadata": {},
   "outputs": [],
   "source": [
    "# Create instance of count vectorizer\n",
    "vectorizer = CountVectorizer()\n",
    "# Perform word counts\n",
    "Xfit = vectorizer.fit_transform(list_message)\n",
    "# Generate feature matrix (transform so sample axis is in column direction)\n",
    "X = Xfit.toarray().T\n",
    "print(\"X: \\n{}\".format(X))\n",
    "# list words in vocabulary (turn into numpy array)\n",
    "words = np.array(vectorizer.get_feature_names())\n",
    "print(\"Words: {}\".format(words))"
   ]
  },
  {
   "cell_type": "code",
   "execution_count": null,
   "metadata": {},
   "outputs": [],
   "source": [
    "# Count number of times each word appears in all messages\n",
    "# sum in column direction\n",
    "word_count = np.sum(X,axis=1)\n",
    "print(\"Word count: {}\".format(word_count))\n",
    "print(\"Words: {}\".format(words))"
   ]
  },
  {
   "cell_type": "markdown",
   "metadata": {},
   "source": [
    "### Word Cloud\n",
    "Create a word cloud using \"frequencies\" approach"
   ]
  },
  {
   "cell_type": "code",
   "execution_count": null,
   "metadata": {},
   "outputs": [],
   "source": [
    "# create a dictionary key = word and value = word_count for each word\n",
    "dict_freq = {words[i]:word_count[i] for i in range(np.size(words))}\n",
    "print(\"dictionary: {}\".format(dict_freq))\n",
    "# use generate_from_frequencies approach for WordCloud\n",
    "wc = WordCloud(background_color=\"white\",width=1000,height=600, random_state=11).generate_from_frequencies(dict_freq)\n",
    "plt.figure()\n",
    "plt.imshow(wc)\n",
    "plt.show()"
   ]
  },
  {
   "cell_type": "markdown",
   "metadata": {},
   "source": [
    "### Repeat using stop_words\n",
    "Use stopwords"
   ]
  },
  {
   "cell_type": "code",
   "execution_count": null,
   "metadata": {},
   "outputs": [],
   "source": [
    "# Create instance of count vectorizer\n",
    "vectorizer = CountVectorizer(stop_words=[\"the\", \"is\", \"in\"])\n",
    "# Perform word counts\n",
    "Xfit = vectorizer.fit_transform(list_message)\n",
    "# Generate feature matrix (transform so sample axis is in column direction)\n",
    "X = Xfit.toarray().T\n",
    "print(\"X: \\n{}\".format(X))\n",
    "# list words in vocabulary (turn into numpy array)\n",
    "words = np.array(vectorizer.get_feature_names())\n",
    "print(\"Words: {}\".format(words))"
   ]
  },
  {
   "cell_type": "code",
   "execution_count": null,
   "metadata": {},
   "outputs": [],
   "source": [
    "# Count number of times each word appears in all messages\n",
    "# sum in column direction\n",
    "word_count = np.sum(X,axis=1)\n",
    "print(\"Word count: {}\".format(word_count))\n",
    "print(\"Words: {}\".format(words))"
   ]
  },
  {
   "cell_type": "code",
   "execution_count": null,
   "metadata": {},
   "outputs": [],
   "source": [
    "# create a dictionary key = word and value = word_count for each word\n",
    "dict_freq = {words[i]:word_count[i] for i in range(np.size(words))}\n",
    "print(\"dictionary: {}\".format(dict_freq))\n",
    "# use generate_from_frequencies approach for WordCloud\n",
    "wc = WordCloud(background_color=\"white\",width=1000,height=600, random_state=11).generate_from_frequencies(dict_freq)\n",
    "plt.figure()\n",
    "plt.imshow(wc)\n",
    "plt.show()"
   ]
  },
  {
   "cell_type": "code",
   "execution_count": null,
   "metadata": {},
   "outputs": [],
   "source": []
  }
 ],
 "metadata": {
  "kernelspec": {
   "display_name": "Python 3",
   "language": "python",
   "name": "python3"
  },
  "language_info": {
   "codemirror_mode": {
    "name": "ipython",
    "version": 3
   },
   "file_extension": ".py",
   "mimetype": "text/x-python",
   "name": "python",
   "nbconvert_exporter": "python",
   "pygments_lexer": "ipython3",
   "version": "3.8.3"
  }
 },
 "nbformat": 4,
 "nbformat_minor": 2
}
