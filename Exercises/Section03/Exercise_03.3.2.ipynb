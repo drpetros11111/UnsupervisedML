{
 "cells": [
  {
   "cell_type": "markdown",
   "metadata": {},
   "source": [
    "# Exercise 3.3.2"
   ]
  },
  {
   "cell_type": "code",
   "execution_count": null,
   "metadata": {},
   "outputs": [],
   "source": [
    "%matplotlib inline\n",
    "import matplotlib.pyplot as plt\n",
    "import numpy as np\n",
    "import time"
   ]
  },
  {
   "cell_type": "markdown",
   "metadata": {},
   "source": [
    "### Distance functions"
   ]
  },
  {
   "cell_type": "code",
   "execution_count": null,
   "metadata": {},
   "outputs": [],
   "source": [
    "# loop over points in Xdata\n",
    "def distance1(Xdata,Y):\n",
    "    # Xdata is dataset/feature matrix with d rows and nsample columns\n",
    "    # Y is a single data point with d rows and 1 column\n",
    "    # ouptut is 1 row and nsample columns\n",
    "    nsample = Xdata.shape[1]\n",
    "    output = np.zeros((1,nsample))\n",
    "    for i in range(nsample):\n",
    "        output[0,i] = np.sqrt(np.sum(np.square(Xdata[:,[i]]-Y)))\n",
    "    return output"
   ]
  },
  {
   "cell_type": "code",
   "execution_count": null,
   "metadata": {},
   "outputs": [],
   "source": [
    "# use vectorized approach\n",
    "def distance2(Xdata,Y):\n",
    "    # Xdata is dataset/feature matrix with d rows and nsample columns\n",
    "    # Y is a single data point with d rows and 1\n",
    "    return np.sqrt(np.sum(np.square(Xdata - Y),axis=0,keepdims=True))"
   ]
  },
  {
   "cell_type": "markdown",
   "metadata": {},
   "source": [
    "### Timing"
   ]
  },
  {
   "cell_type": "code",
   "execution_count": null,
   "metadata": {},
   "outputs": [],
   "source": [
    "nsample = 100000\n",
    "nfeature = 5\n",
    "Y = np.random.randn(nfeature,1)\n",
    "Xdata = np.random.randn(nfeature,nsample)"
   ]
  },
  {
   "cell_type": "code",
   "execution_count": null,
   "metadata": {},
   "outputs": [],
   "source": [
    "# set up list of dimension lengths\n",
    "array_ncol = [1000,2000,5000,10000,20000,50000,100000]\n",
    "# create initial array of zeros for time calculation\n",
    "array_time = np.zeros(np.size(array_ncol))\n",
    "# repeat experiment nrun times to smooth out results\n",
    "nrun = 10\n",
    "# record time to compute distance between Y and Xdata over nrun cases\n",
    "for i in range(np.size(array_ncol)):\n",
    "    ndim = array_ncol[i]\n",
    "    time_start = time.time()\n",
    "    for count in range(nrun):\n",
    "        # replace with distance2 function and re-run to get results for vectorized approach\n",
    "        d = distance1(Xdata[:,0:ndim],Y)\n",
    "    time_end = time.time()\n",
    "    array_time[i] = time_end - time_start\n",
    "print(\"array_ncol: {}\".format(array_ncol))\n",
    "print(\"array_time: {}\".format(array_time))"
   ]
  },
  {
   "cell_type": "markdown",
   "metadata": {},
   "source": [
    "Take log of dimension and time and plot"
   ]
  },
  {
   "cell_type": "code",
   "execution_count": null,
   "metadata": {},
   "outputs": [],
   "source": [
    "log_ncol = np.log(array_ncol)\n",
    "log_time = np.log(array_time)\n",
    "plt.figure()\n",
    "plt.title(\"Data\")\n",
    "plt.xlabel(\"log number of columns\")\n",
    "plt.ylabel(\"log Time\")\n",
    "plt.plot(log_ncol,log_time,\"ro\")\n",
    "plt.show()"
   ]
  },
  {
   "cell_type": "markdown",
   "metadata": {},
   "source": [
    "Fit line to log dimension -- log time data and plot results"
   ]
  },
  {
   "cell_type": "code",
   "execution_count": null,
   "metadata": {},
   "outputs": [],
   "source": [
    "# fit log ncol/log time data to linear function using polyfit \n",
    "# input 1 means fit to linear function\n",
    "coeff = np.polyfit(log_ncol,log_time,1)\n",
    "print(\"Coefficients: {}\".format(coeff))\n",
    "print(\"Complexity power: {}\".format(coeff[0]))"
   ]
  },
  {
   "cell_type": "code",
   "execution_count": null,
   "metadata": {},
   "outputs": [],
   "source": [
    "# create polynomial(linear function) based on coefficients\n",
    "p = np.poly1d(coeff)\n",
    "# evaluate poloynomaial at log_ncol points\n",
    "plogndim = p(log_ncol)\n",
    "plt.figure()\n",
    "# plot orginal data again on loglog plot\n",
    "plt.plot(log_ncol,log_time,\"ro\",label=\"data\")\n",
    "# plot fit line on loglog plot\n",
    "plt.plot(log_ncol,plogndim,\"b-\",label=\"fit\")\n",
    "plt.legend()\n",
    "plt.title(\"Data and Fit\")\n",
    "plt.ylabel(\"log Time\")\n",
    "plt.xlabel(\"log number of columns\")\n",
    "plt.show()"
   ]
  },
  {
   "cell_type": "code",
   "execution_count": null,
   "metadata": {},
   "outputs": [],
   "source": []
  }
 ],
 "metadata": {
  "kernelspec": {
   "display_name": "Python 3",
   "language": "python",
   "name": "python3"
  },
  "language_info": {
   "codemirror_mode": {
    "name": "ipython",
    "version": 3
   },
   "file_extension": ".py",
   "mimetype": "text/x-python",
   "name": "python",
   "nbconvert_exporter": "python",
   "pygments_lexer": "ipython3",
   "version": "3.8.3"
  }
 },
 "nbformat": 4,
 "nbformat_minor": 4
}
