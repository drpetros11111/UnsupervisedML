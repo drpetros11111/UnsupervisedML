{
 "cells": [
  {
   "cell_type": "markdown",
   "metadata": {
    "id": "_3GgDlvWRgzw"
   },
   "source": [
    "# Exercise 2.4.2"
   ]
  },
  {
   "cell_type": "code",
   "execution_count": null,
   "metadata": {
    "id": "Ip0IvS6fnsJj"
   },
   "outputs": [],
   "source": [
    "%matplotlib inline\n",
    "from IPython.display import HTML\n",
    "import matplotlib.animation as animation\n",
    "import matplotlib.pyplot as plt\n",
    "from matplotlib import cm\n",
    "import numpy as np"
   ]
  },
  {
   "cell_type": "markdown",
   "metadata": {
    "id": "ID2yctcyRwSY"
   },
   "source": [
    "#### Generate data"
   ]
  },
  {
   "cell_type": "code",
   "execution_count": null,
   "metadata": {},
   "outputs": [],
   "source": [
    "nframe = 25\n",
    "ndimension = 2\n",
    "ncluster = 4\n",
    "# number of static data points\n",
    "nsample1 = 50\n",
    "# number of moving data points\n",
    "nsample2 = 5\n",
    "# generate static data points\n",
    "dataset = np.random.randn(ndimension,nsample1)\n",
    "# generate cluster assignments for static data points\n",
    "clustersave = [np.random.randint(0,ncluster,nsample1) for _ in range(nframe)]\n",
    "# generate moving data points\n",
    "datasave = [np.random.randn(ndimension,nsample2) for _ in range(nframe)]"
   ]
  },
  {
   "cell_type": "code",
   "execution_count": null,
   "metadata": {
    "colab": {
     "base_uri": "https://localhost:8080/",
     "height": 586
    },
    "id": "xb3_Yw8-Rt8w",
    "outputId": "1f058ca6-0ae6-4aba-cc31-877e5fa47571"
   },
   "outputs": [],
   "source": [
    "# create plotting object\n",
    "fig,ax = plt.subplots()\n",
    "ax.set_xlim(-5,5,)\n",
    "ax.set_ylim(-5,5)\n",
    "# create scat1 ax object for static data points\n",
    "scat1 = ax.scatter(dataset[0,:], dataset[1,:], marker=\"o\", s=20)\n",
    "# create scat2 ax ojbect for moving data points (set color)\n",
    "color = cm.jet((1+np.arange(0,nsample2))/nsample2)\n",
    "scat2 = ax.scatter(datasave[0][0,:],datasave[0][1,:], color = color, marker=\"s\", s=50)\n",
    "\n",
    "# the function that controls what is updated in the animation at each frame\n",
    "# must have at least 1 argument: frame_number is integer\n",
    "# scatter1, clustersave, ncluster, scatter2, datasave are optional\n",
    "# function updates color for scatter1 and location for scatter2\n",
    "def update(frame_number, scatter1, clustersave, ncluster, scatter2, datasave):\n",
    "    # compute and update color for scatter1\n",
    "    array_color = cm.jet((1+clustersave[frame_number])/ncluster)\n",
    "    scatter1.set_color(array_color)\n",
    "    # update location for scatter2\n",
    "    scatter2.set_offsets(datasave[frame_number].T)\n",
    "    return scatter1, scatter2\n",
    "\n",
    "# fargs are the optional arguments in the update function\n",
    "# interval is time between frame updates in milliseconds (500 = 0.5 seconds)\n",
    "ani = animation.FuncAnimation(fig=fig, func=update, frames=nframe, fargs=(scat1, clustersave, ncluster, scat2, datasave),\n",
    "                                   interval=500, repeat = False, blit=True)\n",
    "\n",
    "# animation must be convereted to HTML video for displaying on Jupyter Notebooks\n",
    "#vid = HTML(ani.to_html5_video())\n",
    "#vid\n",
    "plt.rcParams[\"animation.html\"] = \"jshtml\"\n",
    "plt.close()\n",
    "ani"
   ]
  },
  {
   "cell_type": "code",
   "execution_count": null,
   "metadata": {
    "id": "s-_KPQYIX4f9"
   },
   "outputs": [],
   "source": []
  }
 ],
 "metadata": {
  "colab": {
   "collapsed_sections": [],
   "name": "Animation-demo2.ipynb",
   "provenance": []
  },
  "kernelspec": {
   "display_name": "Python 3",
   "language": "python",
   "name": "python3"
  },
  "language_info": {
   "codemirror_mode": {
    "name": "ipython",
    "version": 3
   },
   "file_extension": ".py",
   "mimetype": "text/x-python",
   "name": "python",
   "nbconvert_exporter": "python",
   "pygments_lexer": "ipython3",
   "version": "3.8.3"
  }
 },
 "nbformat": 4,
 "nbformat_minor": 1
}
