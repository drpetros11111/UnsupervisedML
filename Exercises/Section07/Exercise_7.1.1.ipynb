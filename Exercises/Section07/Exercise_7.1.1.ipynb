{
 "cells": [
  {
   "cell_type": "markdown",
   "metadata": {},
   "source": [
    "# Exercise_7.1.1"
   ]
  },
  {
   "cell_type": "code",
   "execution_count": 21,
   "metadata": {},
   "outputs": [],
   "source": [
    "import matplotlib.pyplot as plt\n",
    "import numpy as np\n",
    "import time"
   ]
  },
  {
   "cell_type": "markdown",
   "metadata": {},
   "source": [
    "### Non-vectorized normal pdf function"
   ]
  },
  {
   "cell_type": "code",
   "execution_count": 22,
   "metadata": {},
   "outputs": [],
   "source": [
    "# non-vectorized - loop over each sample in data set X\n",
    "def normalpdf(X,mean,Sigma):\n",
    "    d,nsample = X.shape\n",
    "    Z = np.zeros((1,nsample))\n",
    "    for i in range(nsample):\n",
    "        Z[0,i] = np.exp(-0.5*np.matmul((X[:,[i]]-mean).T,np.matmul(np.linalg.inv(Sigma),X[:,[i]]-mean)))/np.sqrt(np.power(2*np.pi,d)*np.linalg.det(Sigma))\n",
    "    return Z"
   ]
  },
  {
   "cell_type": "markdown",
   "metadata": {},
   "source": [
    "### Vectorized normal pdf function"
   ]
  },
  {
   "cell_type": "code",
   "execution_count": 23,
   "metadata": {},
   "outputs": [],
   "source": [
    "# vectorized\n",
    "def normalpdf_vectorized(X,mean,Sigma):\n",
    "    d = X.shape[0]\n",
    "    Z = np.exp(-0.5*np.sum((X-mean)*np.matmul(np.linalg.inv(Sigma),X-mean),axis=0,keepdims=True))/np.sqrt(np.power(2*np.pi,d)*np.linalg.det(Sigma))\n",
    "    return Z"
   ]
  },
  {
   "cell_type": "markdown",
   "metadata": {},
   "source": [
    "### Comparison"
   ]
  },
  {
   "cell_type": "code",
   "execution_count": 24,
   "metadata": {},
   "outputs": [
    {
     "name": "stdout",
     "output_type": "stream",
     "text": [
      "Dimension: 100  Diff = non-vectorized-vectorized: 3.99507373889002e-18\n",
      "Dimension: 500  Diff = non-vectorized-vectorized: 8.928801430035304e-18\n",
      "Dimension: 1000  Diff = non-vectorized-vectorized: -1.1075055744328465e-17\n",
      "Dimension: 2000  Diff = non-vectorized-vectorized: -1.589224656801997e-17\n",
      "Dimension: 5000  Diff = non-vectorized-vectorized: -2.339937738721458e-17\n"
     ]
    },
    {
     "data": {
      "text/plain": [
       "<matplotlib.legend.Legend at 0x28c5e05be80>"
      ]
     },
     "execution_count": 24,
     "metadata": {},
     "output_type": "execute_result"
    },
    {
     "data": {
      "image/png": "[encoded data removed]",
      "text/plain": [
       "<Figure size 432x288 with 1 Axes>"
      ]
     },
     "metadata": {
      "needs_background": "light"
     },
     "output_type": "display_data"
    }
   ],
   "source": [
    "nfeature = 5\n",
    "nsample = 5000\n",
    "X = np.random.randn(nfeature,nsample)\n",
    "list_time_vectorized = []\n",
    "list_time_nonvectorized = []\n",
    "list_ndim = [100,500,1000,2000,5000]\n",
    "mean = np.random.randn(nfeature,1)\n",
    "Covariance = np.diag(np.random.rand(5))\n",
    "for ndim in list_ndim:\n",
    "    time_start = time.time()\n",
    "    Z1 = normalpdf(X[:,0:ndim],mean,Covariance)\n",
    "    time_nonvectorized = time.time()\n",
    "    list_time_nonvectorized.append(time_nonvectorized - time_start)\n",
    "    time_start = time.time()\n",
    "    Z2 = normalpdf_vectorized(X[:,0:ndim],mean,Covariance)\n",
    "    list_time_vectorized.append(time.time() - time_start)\n",
    "    error = np.sum(Z1-Z2)\n",
    "    print(\"Dimension: {}  Diff = non-vectorized-vectorized: {}\".format(ndim,error))\n",
    "\n",
    "fig = plt.figure()\n",
    "plt.plot(list_ndim,list_time_nonvectorized,\"r-\",label=\"Non-Vectorized\")\n",
    "plt.plot(list_ndim,list_time_vectorized,\"b-\",label=\"Vectorized\")\n",
    "plt.legend()"
   ]
  },
  {
   "cell_type": "code",
   "execution_count": null,
   "metadata": {},
   "outputs": [],
   "source": []
  }
 ],
 "metadata": {
  "kernelspec": {
   "display_name": "Python 3",
   "language": "python",
   "name": "python3"
  },
  "language_info": {
   "codemirror_mode": {
    "name": "ipython",
    "version": 3
   },
   "file_extension": ".py",
   "mimetype": "text/x-python",
   "name": "python",
   "nbconvert_exporter": "python",
   "pygments_lexer": "ipython3",
   "version": "3.8.3"
  }
 },
 "nbformat": 4,
 "nbformat_minor": 4
}
