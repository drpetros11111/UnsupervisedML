{
 "cells": [
  {
   "cell_type": "markdown",
   "metadata": {},
   "source": [
    "# Exercise 7.1.2"
   ]
  },
  {
   "cell_type": "code",
   "execution_count": null,
   "metadata": {},
   "outputs": [],
   "source": [
    "import numpy as np\n",
    "import time"
   ]
  },
  {
   "cell_type": "markdown",
   "metadata": {},
   "source": [
    "### Vectorized Dot Product"
   ]
  },
  {
   "cell_type": "code",
   "execution_count": null,
   "metadata": {},
   "outputs": [],
   "source": [
    "def dot_vec(X,Y):\n",
    "    # X is 2d array dxM\n",
    "    # Y is 2d array dXM\n",
    "    # output is 2d array 1xM\n",
    "    return np.sum(X*Y,axis=0,keepdims=True)"
   ]
  },
  {
   "cell_type": "code",
   "execution_count": null,
   "metadata": {},
   "outputs": [],
   "source": [
    "X = np.array([[1,2,3],[4,5,6],[7,8,9]])\n",
    "print(\"X: \\n{}\".format(X))\n",
    "Y = X\n",
    "print(\"Y: \\n{}\".format(Y))\n",
    "dotprod = dot_vec(X,Y)\n",
    "dotprod"
   ]
  },
  {
   "cell_type": "markdown",
   "metadata": {},
   "source": [
    "### Non-vectorized normal pdf function"
   ]
  },
  {
   "cell_type": "code",
   "execution_count": null,
   "metadata": {},
   "outputs": [],
   "source": [
    "def normalpdf(X,mean,Sigma):\n",
    "    # X is 2d array with d rows and nsample columns\n",
    "    # mean is 2d array d rows and 1 column\n",
    "    # Sigma covariance matrix is 2d array with d rows and d columns \n",
    "    # Z ouptut (1 row and nsample columns) is normal pdf\n",
    "    d,nsample = X.shape\n",
    "    Z = np.zeros((1,nsample))\n",
    "    invSigma = np.linalg.inv(Sigma)\n",
    "    detSigma = np.linalg.det(Sigma)\n",
    "    for i in range(nsample):\n",
    "        Z[0,i] = np.exp(-0.5*np.dot((X[:,[i]]-mean).T,np.matmul(invSigma,X[:,[i]]-mean)))/np.sqrt(np.power(2*np.pi,d)*detSigma)\n",
    "    return Z"
   ]
  },
  {
   "cell_type": "markdown",
   "metadata": {},
   "source": [
    "### Vectorized normal pdf function"
   ]
  },
  {
   "cell_type": "code",
   "execution_count": null,
   "metadata": {},
   "outputs": [],
   "source": [
    "# vectorized\n",
    "def normalpdf_vectorized(X,mean,Sigma):\n",
    "    # X is 2d array with d rows and nsample columns\n",
    "    # mean is 2d array d rows and 1 column\n",
    "    # Sigma covariance matrix is 2d array with d rows and d columns \n",
    "    # Z ouptut (1 row and nsample columns) is normal pdf\n",
    "    d = X.shape[0]\n",
    "    Z = np.exp(-0.5*np.sum((X-mean)*np.matmul(np.linalg.inv(Sigma),X-mean),axis=0,keepdims=True))/np.sqrt(np.power(2*np.pi,d)*np.linalg.det(Sigma))\n",
    "    return Z"
   ]
  },
  {
   "cell_type": "markdown",
   "metadata": {},
   "source": [
    "### Comparison"
   ]
  },
  {
   "cell_type": "code",
   "execution_count": null,
   "metadata": {},
   "outputs": [],
   "source": [
    "nfeature = 2\n",
    "nsample = 100000\n",
    "X = np.random.rand(nfeature,nsample)\n",
    "mean = np.array([[1],[-1]])\n",
    "Covariance = np.array([[2,0.5],[0.5,3]])\n",
    "# non-vectorized caluclation\n",
    "time_start = time.time()\n",
    "Z1 = normalpdf(X,mean,Covariance)\n",
    "time_nonvectorized = time.time() - time_start\n",
    "time_start = time.time()\n",
    "Z2 = normalpdf_vectorized(X,mean,Covariance)\n",
    "time_vectorized = time.time() - time_start\n",
    "diff = np.sum(Z1-Z2)\n",
    "print(\"Difference: {}\".format(diff))\n",
    "print(\"Time nonvectorized: {}\".format(time_nonvectorized))\n",
    "print(\"Time vectorized: {}\".format(time_vectorized))"
   ]
  },
  {
   "cell_type": "code",
   "execution_count": null,
   "metadata": {},
   "outputs": [],
   "source": []
  }
 ],
 "metadata": {
  "kernelspec": {
   "display_name": "Python 3",
   "language": "python",
   "name": "python3"
  },
  "language_info": {
   "codemirror_mode": {
    "name": "ipython",
    "version": 3
   },
   "file_extension": ".py",
   "mimetype": "text/x-python",
   "name": "python",
   "nbconvert_exporter": "python",
   "pygments_lexer": "ipython3",
   "version": "3.8.3"
  }
 },
 "nbformat": 4,
 "nbformat_minor": 4
}
