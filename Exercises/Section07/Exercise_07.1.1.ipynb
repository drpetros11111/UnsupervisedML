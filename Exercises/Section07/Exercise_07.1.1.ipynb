{
 "cells": [
  {
   "cell_type": "markdown",
   "metadata": {},
   "source": [
    "# Exercise 7.1.1"
   ]
  },
  {
   "cell_type": "code",
   "execution_count": null,
   "metadata": {},
   "outputs": [],
   "source": [
    "%matplotlib inline\n",
    "from matplotlib.patches import Ellipse\n",
    "import matplotlib.pyplot as plt\n",
    "from matplotlib import cm\n",
    "import numpy as np"
   ]
  },
  {
   "cell_type": "markdown",
   "metadata": {},
   "source": [
    "####  Multi-dimensional Normal PDF"
   ]
  },
  {
   "cell_type": "code",
   "execution_count": null,
   "metadata": {},
   "outputs": [],
   "source": [
    "def normalpdf(X,mean,Sigma):\n",
    "    # X is 2d array with d rows and nsample columns\n",
    "    # mean is 2d array d rows and 1 column\n",
    "    # Sigma covariance matrix is 2d array with d rows and d columns \n",
    "    # Z ouptut (1 row and nsample columns) is normal pdf\n",
    "    d,nsample = X.shape\n",
    "    Z = np.zeros((1,nsample))\n",
    "    invSigma = np.linalg.inv(Sigma)\n",
    "    detSigma = np.linalg.det(Sigma)\n",
    "    for i in range(nsample):\n",
    "        Z[0,i] = np.exp(-0.5*np.dot((X[:,[i]]-mean).T,np.matmul(invSigma,X[:,[i]]-mean)))/np.sqrt(np.power(2*np.pi,d)*detSigma)\n",
    "    return Z"
   ]
  },
  {
   "cell_type": "markdown",
   "metadata": {},
   "source": [
    "#### Data"
   ]
  },
  {
   "cell_type": "code",
   "execution_count": null,
   "metadata": {},
   "outputs": [],
   "source": [
    "mean = np.array([[1],[-1]])\n",
    "Cov = np.array([[2.0,0.5],[0.5,3.0]])"
   ]
  },
  {
   "cell_type": "markdown",
   "metadata": {},
   "source": [
    "### Create Contours"
   ]
  },
  {
   "cell_type": "code",
   "execution_count": null,
   "metadata": {},
   "outputs": [],
   "source": [
    "# Compute SVD\n",
    "U,Sigma,Vt = np.linalg.svd(Cov)\n",
    "print(\"Sigma: {}\".format(Sigma))"
   ]
  },
  {
   "cell_type": "code",
   "execution_count": null,
   "metadata": {},
   "outputs": [],
   "source": [
    "# contour c = 0.04\n",
    "contour = 0.04\n",
    "alpha1 = np.sqrt(-2*np.log(contour*2*np.pi*np.sqrt(np.linalg.det(Cov))))\n",
    "width1 = 2*alpha1*np.sqrt(Sigma[0])\n",
    "height1= 2*alpha1*np.sqrt(Sigma[1])\n",
    "# contour c = 0.06\n",
    "contour = 0.06\n",
    "alpha2 = np.sqrt(-2*np.log(contour*2*np.pi*np.sqrt(np.linalg.det(Cov))))\n",
    "width2 = 2*alpha2*np.sqrt(Sigma[0])\n",
    "height2= 2*alpha2*np.sqrt(Sigma[1])"
   ]
  },
  {
   "cell_type": "code",
   "execution_count": null,
   "metadata": {},
   "outputs": [],
   "source": [
    "fig,ax  = plt.subplots()\n",
    "ax.set_xlim(-4,4)\n",
    "ax.set_ylim(-4,4)\n",
    "ax.set_aspect(\"equal\")\n",
    "# compute angle - convert from radians to degrees\n",
    "angle = np.arctan(U[1][0]/(U[0,0]+1e-10))*180/np.pi\n",
    "ellipse1 = Ellipse(xy=np.squeeze(mean),width=width1,height=height1,angle=angle, fill=False)\n",
    "ellipse2 = Ellipse(xy=np.squeeze(mean),width=width2,height=height2,angle=angle, fill=False )\n",
    "ax.add_patch(ellipse1)\n",
    "ax.add_patch(ellipse2)"
   ]
  },
  {
   "cell_type": "code",
   "execution_count": null,
   "metadata": {},
   "outputs": [],
   "source": []
  }
 ],
 "metadata": {
  "kernelspec": {
   "display_name": "Python 3",
   "language": "python",
   "name": "python3"
  },
  "language_info": {
   "codemirror_mode": {
    "name": "ipython",
    "version": 3
   },
   "file_extension": ".py",
   "mimetype": "text/x-python",
   "name": "python",
   "nbconvert_exporter": "python",
   "pygments_lexer": "ipython3",
   "version": "3.8.3"
  }
 },
 "nbformat": 4,
 "nbformat_minor": 4
}
