{
 "cells": [
  {
   "cell_type": "markdown",
   "metadata": {},
   "source": [
    "# Normal Distributions"
   ]
  },
  {
   "cell_type": "code",
   "execution_count": null,
   "metadata": {},
   "outputs": [],
   "source": [
    "from matplotlib.patches import Ellipse\n",
    "import matplotlib.pyplot as plt\n",
    "from matplotlib import cm\n",
    "import numpy as np\n",
    "import time"
   ]
  },
  {
   "cell_type": "markdown",
   "metadata": {},
   "source": [
    "### One Dimension"
   ]
  },
  {
   "cell_type": "code",
   "execution_count": null,
   "metadata": {},
   "outputs": [],
   "source": [
    "def normalpdf_1d(X,mean,sigma2):\n",
    "    return np.exp(-0.5*np.square(X-mean)/sigma2)/np.sqrt(2*np.pi*sigma2)"
   ]
  },
  {
   "cell_type": "code",
   "execution_count": null,
   "metadata": {},
   "outputs": [],
   "source": [
    "# create plot of 1d normal probability distribution function\n",
    "npoint = 100\n",
    "X = np.linspace(-5,5,npoint)\n",
    "Z1 = normalpdf_1d(X,0,1)\n",
    "Z2 = normalpdf_1d(X,0.5,4)\n",
    "Z3 = normalpdf_1d(X,-1,0.25)"
   ]
  },
  {
   "cell_type": "code",
   "execution_count": null,
   "metadata": {},
   "outputs": [],
   "source": [
    "# plot pdf\n",
    "plt.figure()\n",
    "plt.plot(X,Z1,\"r-\",label=\"$\\mu=0$, $\\sigma^2=1$\")\n",
    "plt.plot(X,Z2,\"b-\",label=\"$\\mu=0.5$, $\\sigma^2=4$\")\n",
    "plt.plot(X,Z3,\"g-\", label=\"$\\mu=-1$, $\\sigma^2=0.25$\")\n",
    "plt.legend()"
   ]
  },
  {
   "cell_type": "markdown",
   "metadata": {},
   "source": [
    "### Multi-dimensional Normal PDF"
   ]
  },
  {
   "cell_type": "code",
   "execution_count": null,
   "metadata": {},
   "outputs": [],
   "source": [
    "def normalpdf(X,mean,Sigma):\n",
    "    d,nsample = X.shape\n",
    "    Z = np.zeros((1,nsample))\n",
    "    for i in range(nsample):\n",
    "        Z[0,i] = np.exp(-0.5*np.matmul((X[:,[i]]-mean).T,np.matmul(np.linalg.inv(Sigma),X[:,[i]]-mean)))/np.sqrt(np.power(2*np.pi,d)*np.linalg.det(Sigma))\n",
    "    return Z"
   ]
  },
  {
   "cell_type": "markdown",
   "metadata": {},
   "source": [
    "### Surface Plot"
   ]
  },
  {
   "cell_type": "code",
   "execution_count": null,
   "metadata": {},
   "outputs": [],
   "source": [
    "npoint = 100\n",
    "Cov = np.array([[1,-0.5],[-0.5,2]])\n",
    "mean = np.array([[0.5],[0.5]])\n",
    "xmax = mean[0,0]+3\n",
    "xmin = mean[0,0]-3\n",
    "ymax = mean[1,0]+3\n",
    "ymin = mean[1,0]-3\n",
    "Xval,Yval = np.meshgrid(np.linspace(xmin,xmax,npoint),np.linspace(xmin,xmax,npoint))\n",
    "X = np.concatenate((np.reshape(Xval,(1,npoint*npoint)),np.reshape(Yval,(1,npoint*npoint))),axis=0)\n",
    "Z = normalpdf(X,mean,Cov)\n",
    "Zval = np.reshape(Z,(npoint,npoint))"
   ]
  },
  {
   "cell_type": "code",
   "execution_count": null,
   "metadata": {},
   "outputs": [],
   "source": [
    "fig = plt.figure()\n",
    "ax = plt.axes(projection=\"3d\")\n",
    "ax.plot_surface(Xval,Yval,Zval,cmap=cm.jet)\n",
    "ax.set_xlabel(\"X0\")\n",
    "ax.set_ylabel(\"X1\")\n",
    "ax.set_zlabel(\"Z\")\n",
    "ax.view_init(60, -30)"
   ]
  },
  {
   "cell_type": "markdown",
   "metadata": {},
   "source": [
    "### Contours in x0-x1 plane"
   ]
  },
  {
   "cell_type": "code",
   "execution_count": null,
   "metadata": {},
   "outputs": [],
   "source": [
    "# plot contours of normal pdf in 2d\n",
    "fig,ax = plt.subplots()\n",
    "ax.set_aspect(\"equal\")\n",
    "plt.contour(Xval,Yval,Zval)\n",
    "U,Sigma,Vt = np.linalg.svd(Cov)\n",
    "print(\"Sigma: {}\".format(Sigma))"
   ]
  },
  {
   "cell_type": "markdown",
   "metadata": {},
   "source": [
    "### Create contour using Matplotlib Ellipse"
   ]
  },
  {
   "cell_type": "code",
   "execution_count": null,
   "metadata": {},
   "outputs": [],
   "source": [
    "fig,ax  = plt.subplots()\n",
    "ax.set_aspect(\"equal\")\n",
    "Sigma0 = np.sqrt(Sigma[0])\n",
    "Sigma1 = np.sqrt(Sigma[1])\n",
    "ax.set_xlim(xmin,xmax)\n",
    "ax.set_ylim(ymin,ymax)\n",
    "# compute angle - convert from radians to degrees\n",
    "angle = np.arctan(U[1][0]/(U[0,0]+1e-10))*180/np.pi\n",
    "ellipse = Ellipse(xy=np.squeeze(mean),width=2*Sigma0,height=2*Sigma1,angle=angle, fill=False)\n",
    "ax.add_patch(ellipse)"
   ]
  },
  {
   "cell_type": "markdown",
   "metadata": {},
   "source": [
    "### Vectorized vs Non-Vectorized Normal PDF Function"
   ]
  },
  {
   "cell_type": "code",
   "execution_count": null,
   "metadata": {},
   "outputs": [],
   "source": [
    "# non-vectorized - loop over each sample in data set X\n",
    "def normalpdf(X,mean,Sigma):\n",
    "    d,nsample = X.shape\n",
    "    Z = np.zeros((1,nsample))\n",
    "    for i in range(nsample):\n",
    "        Z[0,i] = np.exp(-0.5*np.matmul((X[:,[i]]-mean).T,np.matmul(np.linalg.inv(Sigma),X[:,[i]]-mean)))/np.sqrt(np.power(2*np.pi,d)*np.linalg.det(Sigma))\n",
    "    return Z"
   ]
  },
  {
   "cell_type": "code",
   "execution_count": null,
   "metadata": {},
   "outputs": [],
   "source": [
    "# vectorized\n",
    "def normalpdf_vectorized(X,mean,Sigma):\n",
    "    d = X.shape[0]\n",
    "    Z = np.exp(-0.5*(X-mean)*np.matmul(np.linalg.inv(Sigma),X-mean))/np.sqrt(np.power(2*np.pi,d)*np.linalg.det(Sigma))\n",
    "    return Z"
   ]
  },
  {
   "cell_type": "code",
   "execution_count": null,
   "metadata": {},
   "outputs": [],
   "source": [
    "nfeature = 5\n",
    "nsample = 5000\n",
    "X = np.random.randn(nfeature,nsample)\n",
    "list_time_vectorized = []\n",
    "list_time_nonvectorized = []\n",
    "list_n = []\n",
    "increment = 100\n",
    "mean = np.random.randn(nfeature,1)\n",
    "Covariance = np.diag(np.random.rand(5))\n",
    "for count in range(1,int(nsample/increment)+1):\n",
    "    n = count*increment\n",
    "    list_n.append(n)\n",
    "    time_start = time.time()\n",
    "    Z1 = normalpdf(X[:,0:n],mean,Covariance)\n",
    "    time_nonvectorized = time.time()\n",
    "    list_time_nonvectorized.append(time_nonvectorized - time_start)\n",
    "    Z2 = normalpdf_vectorized(X[:,0:n],mean,Covariance)\n",
    "    list_time_vectorized.append(time.time() - time_nonvectorized)\n",
    "\n",
    "fig = plt.figure()\n",
    "plt.plot(list_n,list_time_nonvectorized,\"r-\",label=\"Non-Vectorized\")\n",
    "plt.plot(list_n,list_time_vectorized,\"b-\",label=\"Vectorized\")\n",
    "plt.legend()"
   ]
  },
  {
   "cell_type": "code",
   "execution_count": null,
   "metadata": {},
   "outputs": [],
   "source": []
  }
 ],
 "metadata": {
  "kernelspec": {
   "display_name": "Python 3",
   "language": "python",
   "name": "python3"
  },
  "language_info": {
   "codemirror_mode": {
    "name": "ipython",
    "version": 3
   },
   "file_extension": ".py",
   "mimetype": "text/x-python",
   "name": "python",
   "nbconvert_exporter": "python",
   "pygments_lexer": "ipython3",
   "version": "3.8.3"
  }
 },
 "nbformat": 4,
 "nbformat_minor": 4
}
