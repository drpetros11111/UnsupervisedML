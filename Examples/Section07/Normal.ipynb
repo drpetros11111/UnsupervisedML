{
 "cells": [
  {
   "cell_type": "markdown",
   "metadata": {},
   "source": [
    "# Normal Distributions"
   ]
  },
  {
   "cell_type": "code",
   "execution_count": null,
   "metadata": {},
   "outputs": [],
   "source": [
    "from matplotlib.patches import Ellipse\n",
    "import matplotlib.pyplot as plt\n",
    "from matplotlib import cm\n",
    "import numpy as np"
   ]
  },
  {
   "cell_type": "markdown",
   "metadata": {},
   "source": [
    "### One Dimensional Normal PDF"
   ]
  },
  {
   "cell_type": "code",
   "execution_count": null,
   "metadata": {},
   "outputs": [],
   "source": [
    "def normalpdf_1d(X,mean,var):\n",
    "    return np.exp(-0.5*np.square(X-mean)/var)/np.sqrt(2*np.pi*var)"
   ]
  },
  {
   "cell_type": "markdown",
   "metadata": {},
   "source": [
    "### Plot"
   ]
  },
  {
   "cell_type": "code",
   "execution_count": null,
   "metadata": {},
   "outputs": [],
   "source": [
    "# create plot of 1d normal probability distribution function\n",
    "npoint = 100\n",
    "X = np.linspace(-5,5,npoint)\n",
    "Z1 = normalpdf_1d(X,0,1)\n",
    "Z2 = normalpdf_1d(X,0.5,4)\n",
    "Z3 = normalpdf_1d(X,-1,0.25)"
   ]
  },
  {
   "cell_type": "code",
   "execution_count": null,
   "metadata": {},
   "outputs": [],
   "source": [
    "# plot pdf\n",
    "plt.figure()\n",
    "plt.plot(X,Z1,\"r-\",label=\"$\\mu=0$, $var=1$\")\n",
    "plt.plot(X,Z2,\"b-\",label=\"$\\mu=0.5$, $var=4$\")\n",
    "plt.plot(X,Z3,\"g-\", label=\"$\\mu=-1$, $var=0.25$\")\n",
    "plt.legend()"
   ]
  },
  {
   "cell_type": "markdown",
   "metadata": {},
   "source": [
    "### Multi-dimensional Normal PDF"
   ]
  },
  {
   "cell_type": "code",
   "execution_count": null,
   "metadata": {},
   "outputs": [],
   "source": [
    "def normalpdf(X,mean,Sigma):\n",
    "    # X is 2d array with d rows and nsample columns\n",
    "    # mean is 2d array d rows and 1 column\n",
    "    # Sigma covariance matrix is 2d array with d rows and d columns \n",
    "    # Z ouptut (1 row and nsample columns) is normal pdf\n",
    "    d,nsample = X.shape\n",
    "    Z = np.zeros((1,nsample))\n",
    "    invSigma = np.linalg.inv(Sigma)\n",
    "    detSigma = np.linalg.det(Sigma)\n",
    "    for i in range(nsample):\n",
    "        Z[0,i] = np.exp(-0.5*np.dot((X[:,[i]]-mean).T,np.matmul(invSigma,X[:,[i]]-mean)))/np.sqrt(np.power(2*np.pi,d)*detSigma)\n",
    "    return Z"
   ]
  },
  {
   "cell_type": "markdown",
   "metadata": {},
   "source": [
    "### Surface Plot"
   ]
  },
  {
   "cell_type": "code",
   "execution_count": null,
   "metadata": {},
   "outputs": [],
   "source": [
    "# create gridpoints in x0-x1 plane\n",
    "npoint = 10\n",
    "Cov = np.array([[1,-0.5],[-0.5,2]])\n",
    "mean = np.array([[0.5],[0.5]])\n",
    "x0max = mean[0,0]+3\n",
    "x0min = mean[0,0]-3\n",
    "x1max = mean[1,0]+3\n",
    "x1min = mean[1,0]-3\n",
    "X0val,X1val = np.meshgrid(np.linspace(x0min,x0max,npoint),np.linspace(x1min,x1max,npoint))"
   ]
  },
  {
   "cell_type": "code",
   "execution_count": null,
   "metadata": {},
   "outputs": [],
   "source": [
    "plt.figure()\n",
    "plt.scatter(X0val,X1val)"
   ]
  },
  {
   "cell_type": "code",
   "execution_count": null,
   "metadata": {},
   "outputs": [],
   "source": [
    "# compute 2d normald pdf at gridpoints\n",
    "# create dataset of X0 and X1 coordinates\n",
    "X = np.concatenate((np.reshape(X0val,(1,npoint*npoint)),np.reshape(X1val,(1,npoint*npoint))),axis=0)\n",
    "# compute normal pdf Z  row vector of dimension 1 x npoint*npoint\n",
    "Z = normalpdf(X,mean,Cov)\n",
    "# reshape Z into grid of npoint x npoint\n",
    "Zval = np.reshape(Z,(npoint,npoint))"
   ]
  },
  {
   "cell_type": "code",
   "execution_count": null,
   "metadata": {},
   "outputs": [],
   "source": [
    "fig = plt.figure()\n",
    "ax = plt.axes(projection=\"3d\")\n",
    "ax.plot_surface(X0val,X1val,Zval,cmap=cm.jet)\n",
    "ax.set_xlabel(\"X0\")\n",
    "ax.set_ylabel(\"X1\")\n",
    "ax.set_zlabel(\"Z\")\n",
    "ax.view_init(60, -30)"
   ]
  },
  {
   "cell_type": "markdown",
   "metadata": {},
   "source": [
    "### Contours in x0-x1 plane"
   ]
  },
  {
   "cell_type": "code",
   "execution_count": null,
   "metadata": {},
   "outputs": [],
   "source": [
    "# plot contours of normal pdf in 2d\n",
    "fig,ax = plt.subplots()\n",
    "ax.set_aspect(\"equal\")\n",
    "plt.contour(X0val,X1val,Zval)"
   ]
  },
  {
   "cell_type": "markdown",
   "metadata": {},
   "source": [
    "### Create contour using Matplotlib Ellipse"
   ]
  },
  {
   "cell_type": "code",
   "execution_count": null,
   "metadata": {},
   "outputs": [],
   "source": [
    "# Create contour for C = 0.02\n",
    "U,Sigma,Vt = np.linalg.svd(Cov)\n",
    "print(\"Sigma: {}\".format(Sigma))\n",
    "contour = 0.02\n",
    "alpha=np.sqrt(-2*np.log(contour*2*np.pi*np.sqrt(np.linalg.det(Cov))))\n",
    "fig,ax  = plt.subplots()\n",
    "ax.set_aspect(\"equal\")\n",
    "width = 2*alpha*np.sqrt(Sigma[0])\n",
    "height = 2*alpha*np.sqrt(Sigma[1])\n",
    "ax.set_xlim(x0min,x0max)\n",
    "ax.set_ylim(x1min,x1max)\n",
    "# compute angle - convert from radians to degrees\n",
    "angle = np.arctan(U[1][0]/(U[0,0]+1e-10))*180/np.pi\n",
    "ellipse = Ellipse(xy=np.squeeze(mean),width=width,height=height,angle=angle, fill=False)\n",
    "ax.add_patch(ellipse)"
   ]
  },
  {
   "cell_type": "code",
   "execution_count": null,
   "metadata": {},
   "outputs": [],
   "source": []
  }
 ],
 "metadata": {
  "kernelspec": {
   "display_name": "Python 3",
   "language": "python",
   "name": "python3"
  },
  "language_info": {
   "codemirror_mode": {
    "name": "ipython",
    "version": 3
   },
   "file_extension": ".py",
   "mimetype": "text/x-python",
   "name": "python",
   "nbconvert_exporter": "python",
   "pygments_lexer": "ipython3",
   "version": "3.8.3"
  }
 },
 "nbformat": 4,
 "nbformat_minor": 4
}
