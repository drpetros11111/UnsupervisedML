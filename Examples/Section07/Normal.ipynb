{
 "cells": [
  {
   "cell_type": "markdown",
   "metadata": {},
   "source": [
    "# Normal Distributions"
   ]
  },
  {
   "cell_type": "code",
   "execution_count": null,
   "metadata": {},
   "outputs": [],
   "source": [
    "%matplotlib inline\n",
    "from matplotlib.patches import Ellipse\n",
    "import matplotlib.pyplot as plt\n",
    "from matplotlib import cm\n",
    "import numpy as np"
   ]
  },
  {
   "cell_type": "markdown",
   "metadata": {},
   "source": [
    "### One Dimensional Normal PDF"
   ]
  },
  {
   "cell_type": "code",
   "execution_count": null,
   "metadata": {},
   "outputs": [],
   "source": [
    "def normalpdf_1d(X,mean,var):\n",
    "    # X can be float or numpy array\n",
    "    return np.exp(-0.5*np.square(X-mean)/var)/np.sqrt(2*np.pi*var)"
   ]
  },
  {
   "cell_type": "markdown",
   "metadata": {},
   "source": [
    "### Plot"
   ]
  },
  {
   "cell_type": "code",
   "execution_count": null,
   "metadata": {},
   "outputs": [],
   "source": [
    "# create data for 1d normal probability distribution\n",
    "npoint = 100\n",
    "X = np.linspace(-5,5,npoint)\n",
    "Z1 = normalpdf_1d(X,0,1)\n",
    "Z2 = normalpdf_1d(X,0.5,4)\n",
    "Z3 = normalpdf_1d(X,-1,0.25)"
   ]
  },
  {
   "cell_type": "code",
   "execution_count": null,
   "metadata": {},
   "outputs": [],
   "source": [
    "# plot pdf\n",
    "plt.figure()\n",
    "plt.plot(X,Z1,\"r-\",label=\"$\\mu=0$, $var=1$\")\n",
    "plt.plot(X,Z2,\"b-\",label=\"$\\mu=0.5$, $var=4$\")\n",
    "plt.plot(X,Z3,\"g-\", label=\"$\\mu=-1$, $var=0.25$\")\n",
    "plt.legend()"
   ]
  },
  {
   "cell_type": "markdown",
   "metadata": {},
   "source": [
    "### Multi-dimensional Normal PDF"
   ]
  },
  {
   "cell_type": "code",
   "execution_count": null,
   "metadata": {},
   "outputs": [],
   "source": [
    "def normalpdf(X,mean,Sigma):\n",
    "    # X is 2d array with d rows and nsample columns\n",
    "    # mean is 2d array d rows and 1 column\n",
    "    # Sigma covariance matrix is 2d array with d rows and d columns \n",
    "    # Z ouptut (1 row and nsample columns) is normal pdf\n",
    "    d,nsample = X.shape\n",
    "    Z = np.zeros((1,nsample))\n",
    "    invSigma = np.linalg.inv(Sigma)\n",
    "    detSigma = np.linalg.det(Sigma)\n",
    "    for i in range(nsample):\n",
    "        Z[0,i] = np.exp(-0.5*np.dot((X[:,[i]]-mean).T,np.matmul(invSigma,X[:,[i]]-mean)))/np.sqrt(np.power(2*np.pi,d)*detSigma)\n",
    "    return Z"
   ]
  },
  {
   "cell_type": "markdown",
   "metadata": {},
   "source": [
    "### Surface Plot"
   ]
  },
  {
   "cell_type": "code",
   "execution_count": null,
   "metadata": {},
   "outputs": [],
   "source": [
    "# create gridpoints in x0-x1 plane\n",
    "npoint = 25\n",
    "x0max = 5.5\n",
    "x0min = -4.5\n",
    "x1max = 5.5\n",
    "x1min = -4.5\n",
    "X0grid,X1grid = np.meshgrid(np.linspace(x0min,x0max,npoint),np.linspace(x1min,x1max,npoint))"
   ]
  },
  {
   "cell_type": "code",
   "execution_count": null,
   "metadata": {},
   "outputs": [],
   "source": [
    "plt.figure()\n",
    "plt.scatter(X0grid,X1grid)\n",
    "plt.xlabel(\"x0\")\n",
    "plt.ylabel(\"x1\")\n",
    "# X0grid is x0 value for each point in grid\n",
    "# X1grid is x1 value for each point in grid"
   ]
  },
  {
   "cell_type": "code",
   "execution_count": null,
   "metadata": {},
   "outputs": [],
   "source": [
    "# X0 is row vector version of X0grid\n",
    "X0 = np.reshape(X0grid,(1,npoint*npoint))\n",
    "# X1 is row vector version of X1grid\n",
    "X1 = np.reshape(X1grid,(1,npoint*npoint))\n",
    "# concatenate X0 and X1 into array with 2 rows\n",
    "X = np.concatenate((X0,X1),axis=0)"
   ]
  },
  {
   "cell_type": "code",
   "execution_count": null,
   "metadata": {},
   "outputs": [],
   "source": [
    "# compute normal distribution pdf\n",
    "Cov = np.array([[1,-0.5],[-0.5,2]])\n",
    "mean = np.array([[0.5],[0.5]])\n",
    "# compute normal pdf Z  row vector of dimension 1 x npoint*npoint\n",
    "Z = normalpdf(X,mean,Cov)\n",
    "# reshape Z into grid of npoint x npoint\n",
    "Zgrid = np.reshape(Z,(npoint,npoint))"
   ]
  },
  {
   "cell_type": "code",
   "execution_count": null,
   "metadata": {},
   "outputs": [],
   "source": [
    "fig = plt.figure()\n",
    "ax = plt.axes(projection=\"3d\")\n",
    "ax.plot_surface(X0grid,X1grid,Zgrid,cmap=cm.jet)\n",
    "ax.set_xlabel(\"X0\")\n",
    "ax.set_ylabel(\"X1\")\n",
    "ax.set_zlabel(\"Z\")\n",
    "ax.view_init(60, 90)"
   ]
  },
  {
   "cell_type": "markdown",
   "metadata": {},
   "source": [
    "### Contours in x0-x1 plane"
   ]
  },
  {
   "cell_type": "code",
   "execution_count": null,
   "metadata": {},
   "outputs": [],
   "source": [
    "# plot contours of normal pdf in 2d based on surface plot\n",
    "fig,ax = plt.subplots()\n",
    "ax.set_aspect(\"equal\")\n",
    "ax.set_xlabel(\"x0\")\n",
    "ax.set_ylabel(\"x1\")\n",
    "plt.contour(X0grid,X1grid,Zgrid)"
   ]
  },
  {
   "cell_type": "markdown",
   "metadata": {},
   "source": [
    "### Create contour using SVD and Matplotlib Ellipse"
   ]
  },
  {
   "cell_type": "code",
   "execution_count": null,
   "metadata": {},
   "outputs": [],
   "source": [
    "# Create contour for C = 0.02\n",
    "U,Sigma,Vt = np.linalg.svd(Cov)\n",
    "print(\"Sigma: {}\".format(Sigma))\n",
    "contour = 0.02\n",
    "alpha=np.sqrt(-2*np.log(contour*2*np.pi*np.sqrt(np.linalg.det(Cov))))\n",
    "width = 2*alpha*np.sqrt(Sigma[0])\n",
    "height = 2*alpha*np.sqrt(Sigma[1])\n",
    "# compute angle = ratio U10/U00 - convert from radians to degrees\n",
    "angle = np.arctan(U[1][0]/(U[0][0]+1e-10))*180/np.pi"
   ]
  },
  {
   "cell_type": "code",
   "execution_count": null,
   "metadata": {},
   "outputs": [],
   "source": [
    "fig,ax  = plt.subplots()\n",
    "ax.set_aspect(\"equal\")\n",
    "ax.set_xlim(x0min,x0max)\n",
    "ax.set_ylim(x1min,x1max)\n",
    "# use matplotlib Ellipse function to create ellipse object\n",
    "ellipse = Ellipse(xy=np.squeeze(mean),width=width,height=height,angle=angle, fill=False)\n",
    "ax.add_patch(ellipse)"
   ]
  },
  {
   "cell_type": "code",
   "execution_count": null,
   "metadata": {},
   "outputs": [],
   "source": []
  }
 ],
 "metadata": {
  "kernelspec": {
   "display_name": "Python 3",
   "language": "python",
   "name": "python3"
  },
  "language_info": {
   "codemirror_mode": {
    "name": "ipython",
    "version": 3
   },
   "file_extension": ".py",
   "mimetype": "text/x-python",
   "name": "python",
   "nbconvert_exporter": "python",
   "pygments_lexer": "ipython3",
   "version": "3.8.3"
  }
 },
 "nbformat": 4,
 "nbformat_minor": 4
}
