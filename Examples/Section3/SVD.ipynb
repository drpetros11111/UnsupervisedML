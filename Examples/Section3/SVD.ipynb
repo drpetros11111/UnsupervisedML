{
 "cells": [
  {
   "cell_type": "markdown",
   "metadata": {},
   "source": [
    "# Singluar Value Decomposition"
   ]
  },
  {
   "cell_type": "code",
   "execution_count": null,
   "metadata": {},
   "outputs": [],
   "source": [
    "import matplotlib.pyplot as plt\n",
    "import matplotlib\n",
    "import numpy as np"
   ]
  },
  {
   "cell_type": "markdown",
   "metadata": {},
   "source": [
    "### Example"
   ]
  },
  {
   "cell_type": "code",
   "execution_count": null,
   "metadata": {},
   "outputs": [],
   "source": [
    "# matrix is\n",
    "# A = [1  -1]\n",
    "#     [2  1]\n",
    "A = np.array([[1, -1],[0.5,1]])"
   ]
  },
  {
   "cell_type": "code",
   "execution_count": null,
   "metadata": {},
   "outputs": [],
   "source": [
    "# Compute svd\n",
    "U,Sigma,Vt = np.linalg.svd(A)"
   ]
  },
  {
   "cell_type": "code",
   "execution_count": null,
   "metadata": {},
   "outputs": [],
   "source": [
    "print(\"U0: \\n{}\".format(U[:,[0]]))\n",
    "print(\"U1: \\n{}\".format(U[:,[1]]))"
   ]
  },
  {
   "cell_type": "code",
   "execution_count": null,
   "metadata": {},
   "outputs": [],
   "source": [
    "# print singular values (non-negative and in descending order)\n",
    "print(\"Sigma: {}\".format(Sigma))"
   ]
  },
  {
   "cell_type": "code",
   "execution_count": null,
   "metadata": {},
   "outputs": [],
   "source": [
    "V = Vt.T\n",
    "print(\"V0: \\n{}\".format(V[:,[0]]))\n",
    "print(\"V1: \\n{}\".format(V[:,[1]]))"
   ]
  },
  {
   "cell_type": "code",
   "execution_count": null,
   "metadata": {},
   "outputs": [],
   "source": [
    "# confirm svd\n",
    "diff = A - np.matmul(np.matmul(U,np.diag(Sigma)),Vt)\n",
    "print(\"A - U*Sigma*Vt =  \\n{}\".format(diff))"
   ]
  },
  {
   "cell_type": "code",
   "execution_count": null,
   "metadata": {},
   "outputs": [],
   "source": [
    "x = np.array([[0],[1]])\n",
    "y = np.matmul(A,x)\n",
    "print(\"x: \\n{}\".format(x))\n",
    "print(\"y: \\n{}\".format(y))"
   ]
  },
  {
   "cell_type": "markdown",
   "metadata": {},
   "source": [
    "### Plot results"
   ]
  },
  {
   "cell_type": "code",
   "execution_count": null,
   "metadata": {},
   "outputs": [],
   "source": [
    "scale=1.2*np.max(Sigma)"
   ]
  },
  {
   "cell_type": "code",
   "execution_count": null,
   "metadata": {},
   "outputs": [],
   "source": [
    "# Plot v0 and v1\n",
    "fig, ax = plt.subplots()\n",
    "plt.xlim(-scale,scale)\n",
    "plt.ylim(-scale,scale)\n",
    "ax.set_aspect(\"equal\")\n",
    "plt.arrow(0,0,V[0,0],V[1,0],color=\"r\",width=0.01,length_includes_head=True,head_width=0.08)\n",
    "plt.arrow(0,0,V[0,1],V[1,1],color=\"r\",width=0.01,length_includes_head=True,head_width=0.08)\n",
    "plt.arrow(0,0,x[0,0],x[1,0],color=\"k\",width=0.01,length_includes_head=True,head_width=0.08)\n",
    "ax.text(1.2*V[0,0],1.2*V[1,0],\"v0\")\n",
    "ax.text(1.2*V[0,1],1.2*V[1,1],\"v1\")\n",
    "ax.text(1.2*x[0,0],1.2*x[1,0],\"x\")\n",
    "# create ellipse\n",
    "ellipse0 = matplotlib.patches.Ellipse(xy=[0,0],height=2,width=2)\n",
    "ax.add_patch(ellipse0)"
   ]
  },
  {
   "cell_type": "code",
   "execution_count": null,
   "metadata": {},
   "outputs": [],
   "source": [
    "# plot s0*u0 and s1*u1\n",
    "fig, ax = plt.subplots()\n",
    "plt.xlim(-scale,scale)\n",
    "plt.ylim(-scale,scale)\n",
    "ax.set_aspect(\"equal\")\n",
    "plt.arrow(0,0,Sigma[0]*U[0,0],Sigma[0]*U[1,0],color=\"r\",width=0.01,length_includes_head=True,head_width=0.08)\n",
    "plt.arrow(0,0,Sigma[1]*U[0,1],Sigma[1]*U[1,1],color=\"r\",width=0.01,length_includes_head=True,head_width=0.08)\n",
    "plt.arrow(0,0,y[0,0],y[1,0],color=\"k\",width=0.01,length_includes_head=True,head_width=0.08)\n",
    "ax.text(1.3*Sigma[0]*U[0,0],1.3*Sigma[0]*U[1,0],\"s0*u0\")\n",
    "ax.text(1.2*Sigma[1]*U[0,1],1.2*Sigma[1]*U[1,1],\"s1*u1\")\n",
    "ax.text(1.2*y[0,0],1.2*y[1,0],\"y\")\n",
    "# create ellipse\n",
    "angle = np.arctan(U[0,1]/(U[0,0]+1e-10))\n",
    "ellipse1 = matplotlib.patches.Ellipse(xy=[0,0],width=2*Sigma[0],height=2*Sigma[1],angle=angle*180/np.pi)\n",
    "ax.add_patch(ellipse1)"
   ]
  },
  {
   "cell_type": "code",
   "execution_count": null,
   "metadata": {},
   "outputs": [],
   "source": []
  }
 ],
 "metadata": {
  "kernelspec": {
   "display_name": "IntroML-env",
   "language": "python",
   "name": "introml-env"
  },
  "language_info": {
   "codemirror_mode": {
    "name": "ipython",
    "version": 3
   },
   "file_extension": ".py",
   "mimetype": "text/x-python",
   "name": "python",
   "nbconvert_exporter": "python",
   "pygments_lexer": "ipython3",
   "version": "3.7.1"
  }
 },
 "nbformat": 4,
 "nbformat_minor": 2
}
