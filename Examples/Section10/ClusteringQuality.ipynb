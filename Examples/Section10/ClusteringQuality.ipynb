{
 "cells": [
  {
   "cell_type": "markdown",
   "metadata": {},
   "source": [
    "# Clustering Quality"
   ]
  },
  {
   "cell_type": "code",
   "execution_count": null,
   "metadata": {},
   "outputs": [],
   "source": [
    "import numpy as np\n",
    "import pandas as pd"
   ]
  },
  {
   "attachments": {
    "ClusterClass.png": {
     "image/png": "[encoded data removed]"
    }
   },
   "cell_type": "markdown",
   "metadata": {},
   "source": [
    "### Sample Data\n",
    "Cluster and class asisgnments shown in the following image\n",
    "\n",
    "![ClusterClass.png](attachment:ClusterClass.png)"
   ]
  },
  {
   "cell_type": "code",
   "execution_count": null,
   "metadata": {},
   "outputs": [],
   "source": [
    "class_assignment = np.array([\"red\",\"blue\",\"green\",\"red\",\"red\",\"blue\",\"blue\",\"red\",\"blue\",\"red\",\n",
    "                             \"green\",\"green\",\"green\",\"green\",\"green\",\"green\",\"green\",\"blue\",\"green\",\"red\"])\n",
    "cluster_assignment = np.array([0,1,2,0,0,1,1,0,0,2,\n",
    "                               0,2,2,2,2,2,2,1,1,1])"
   ]
  },
  {
   "cell_type": "markdown",
   "metadata": {},
   "source": [
    "### Purity Calculation"
   ]
  },
  {
   "cell_type": "code",
   "execution_count": null,
   "metadata": {},
   "outputs": [],
   "source": [
    "def purity(cluster_assignment,class_assignment):\n",
    "    nsample = np.size(cluster_assignment)\n",
    "    # determine cluster labels\n",
    "    array_cluster_label = np.unique(cluster_assignment)\n",
    "    total_number = 0\n",
    "    for cluster in array_cluster_label:\n",
    "        # determine indices for cluster\n",
    "        idx_cluster = np.where(np.absolute(cluster_assignment - cluster)<1e-5)[0]\n",
    "        # count number of times each class appears in cluster\n",
    "        values,count = np.unique(class_assignment[idx_cluster],return_counts=True)\n",
    "        print(\"Cluster: {}  values: {}  count: {}\".format(cluster,values,count))\n",
    "        # add maximum number\n",
    "        total_number += np.max(count)\n",
    "    return total_number/nsample"
   ]
  },
  {
   "cell_type": "code",
   "execution_count": null,
   "metadata": {},
   "outputs": [],
   "source": [
    "purity_value = purity(cluster_assignment,class_assignment)\n",
    "print(\"Purity: {}\".format(purity_value))"
   ]
  },
  {
   "cell_type": "markdown",
   "metadata": {},
   "source": [
    "### Bar Chart using Dataframe in Pandas\n",
    "Create data frame based on cluster label and class label for each data point"
   ]
  },
  {
   "cell_type": "code",
   "execution_count": null,
   "metadata": {},
   "outputs": [],
   "source": [
    "nsample = np.size(cluster_assignment)\n",
    "ncluster = np.size(np.unique(cluster_assignment))\n",
    "print(\"Number of Samples: {}\".format(nsample))\n",
    "print(\"Number of Clusters: {}\".format(ncluster))\n",
    "df = pd.DataFrame({\"clusterlabel\": cluster_assignment,\n",
    "                   \"classlabel\": class_assignment, \"cluster\": np.ones(np.size(cluster_assignment))})\n",
    "df.head(20)"
   ]
  },
  {
   "cell_type": "markdown",
   "metadata": {},
   "source": [
    "Group by clusterlabel and classlabel and sum cluster value"
   ]
  },
  {
   "cell_type": "code",
   "execution_count": null,
   "metadata": {},
   "outputs": [],
   "source": [
    "counts = df.groupby([\"clusterlabel\", \"classlabel\"]).sum()\n",
    "counts.head(10)"
   ]
  },
  {
   "cell_type": "markdown",
   "metadata": {},
   "source": [
    "Create bar chart version of counts"
   ]
  },
  {
   "cell_type": "code",
   "execution_count": null,
   "metadata": {},
   "outputs": [],
   "source": [
    "fig = counts.unstack(level=0).plot(kind=\"bar\", subplots=True,\n",
    "                                   sharey=True, sharex=False,\n",
    "                                   layout=(1,ncluster), \n",
    "                                   figsize=(8,4), legend=False)"
   ]
  },
  {
   "cell_type": "code",
   "execution_count": null,
   "metadata": {},
   "outputs": [],
   "source": []
  }
 ],
 "metadata": {
  "kernelspec": {
   "display_name": "Python 3",
   "language": "python",
   "name": "python3"
  },
  "language_info": {
   "codemirror_mode": {
    "name": "ipython",
    "version": 3
   },
   "file_extension": ".py",
   "mimetype": "text/x-python",
   "name": "python",
   "nbconvert_exporter": "python",
   "pygments_lexer": "ipython3",
   "version": "3.8.3"
  }
 },
 "nbformat": 4,
 "nbformat_minor": 4
}
