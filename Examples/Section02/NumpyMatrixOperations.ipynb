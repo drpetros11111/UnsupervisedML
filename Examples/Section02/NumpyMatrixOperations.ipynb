{
 "cells": [
  {
   "cell_type": "markdown",
   "metadata": {},
   "source": [
    "# NumPy Demo Matrix Operations\n",
    "NumPy is a package for scientific computing with Python. This notebook has examples of matrix operations."
   ]
  },
  {
   "cell_type": "code",
   "execution_count": null,
   "metadata": {},
   "outputs": [],
   "source": [
    "import numpy as np"
   ]
  },
  {
   "cell_type": "markdown",
   "metadata": {},
   "source": [
    "## Dot Product\n",
    "Use np.dot() function to compute dot product of 1d arrays -> result is a scalar"
   ]
  },
  {
   "cell_type": "code",
   "execution_count": null,
   "metadata": {},
   "outputs": [],
   "source": [
    "# X and Y are 1d arrays\n",
    "# dot product \n",
    "X = np.array([1,2,3])\n",
    "Y = np.array([4,5,6])\n",
    "z = np.dot(X,Y)\n",
    "print(\"z: {}\".format(z))"
   ]
  },
  {
   "cell_type": "markdown",
   "metadata": {},
   "source": [
    "Use np.dot() function to compute dot product of 2d row vector and 2d column vector -> result is a 2d array (1x1)"
   ]
  },
  {
   "cell_type": "code",
   "execution_count": null,
   "metadata": {},
   "outputs": [],
   "source": [
    "# if X and Y are 2d arrays, then X needs to be a 2d row vector and Y needs to be a 2d column vector\n",
    "# X = [1,2,3]\n",
    "# Y = [4]\n",
    "#     [5]\n",
    "#     [6]\n",
    "# X dot Y = [1,2,3] dot [4]\n",
    "#                       [5]\n",
    "#                       [6]\n",
    "X = np.array([[1,2,3]])\n",
    "Y = np.array([[4],[5],[6]])\n",
    "print(\"X: {}\".format(X))\n",
    "print(\"Y: \\n{}\".format(Y))\n",
    "z = np.dot(X,Y)\n",
    "print(\"z: {}\".format(z))\n",
    "print(\"z.shape: {}\".format(z.shape))"
   ]
  },
  {
   "cell_type": "markdown",
   "metadata": {},
   "source": [
    "Use np.dot() function to compute dot product of 2d row vector and transpose of 2d column vector -> result is same as above"
   ]
  },
  {
   "cell_type": "code",
   "execution_count": null,
   "metadata": {},
   "outputs": [],
   "source": [
    "# if X and Y are 2d arrays row vectors, then take transpose of Y (using .T attribute) before computing dot producct\n",
    "# X = [1,2,3]\n",
    "# Y = [4,5,6]\n",
    "# X dot Y.T = [1,2,3] dot [4]\n",
    "#                         [5]\n",
    "#                         [6]\n",
    "X = np.array([[1,2,3]])\n",
    "Y = np.array([[4,5,6]])\n",
    "print(\"X: {}\".format(X))\n",
    "print(\"Y.T: \\n{}\".format(Y.T))\n",
    "z = np.dot(X,Y.T)\n",
    "# result is a 1x1 array\n",
    "print(\"z: {}\".format(z))\n",
    "print(\"z.shape: {}\".format(z.shape))"
   ]
  },
  {
   "cell_type": "markdown",
   "metadata": {},
   "source": [
    "Use np.dot() to compute transpose Y times X"
   ]
  },
  {
   "cell_type": "code",
   "execution_count": null,
   "metadata": {},
   "outputs": [],
   "source": [
    "# # X and Y are 2d arrays row vector -> compute Y transpose dot X\n",
    "# X = [1,2,3]\n",
    "# Y = [4,5,6]\n",
    "# \n",
    "# Y.T dot X = [4]  dot [1,2,3]\n",
    "#             [5]\n",
    "#             [6]\n",
    "X = np.array([[1,2,3]])\n",
    "Y = np.array([[4,5,6]])\n",
    "print(\"X: {}\".format(X))\n",
    "print(\"Y.T: \\n{}\".format(Y.T))\n",
    "z = np.dot(Y.T,X)\n",
    "# result is a 3x3 array\n",
    "print(\"z: \\n{}\".format(z))\n",
    "print(\"z.shape: {}\".format(z.shape))"
   ]
  },
  {
   "cell_type": "markdown",
   "metadata": {},
   "source": [
    "## Matrix multiplication\n",
    "Use np.matmul() function"
   ]
  },
  {
   "cell_type": "code",
   "execution_count": null,
   "metadata": {},
   "outputs": [],
   "source": [
    "# X = [1 2]\n",
    "#     [3 4]\n",
    "# Y = [5 6]\n",
    "#     [7 8]\n",
    "X = np.array([[1,2],[3,4]])\n",
    "Y = np.array([[5,6],[7,8]])\n",
    "print(\"X: \\n{}\".format(X))\n",
    "print(\"Y: \\n{}\".format(Y))\n",
    "Z = np.matmul(X,Y)\n",
    "# Z is a 2x2 array\n",
    "print(\"Z = X Y: \\n{}\".format(Z))"
   ]
  },
  {
   "cell_type": "markdown",
   "metadata": {},
   "source": [
    "Compute matrix multiplication: X transpose  S  X"
   ]
  },
  {
   "cell_type": "code",
   "execution_count": null,
   "metadata": {},
   "outputs": [],
   "source": [
    "# if X is column vector and S is 3x3 matrix\n",
    "# X = [1]\n",
    "#     [2]\n",
    "#     [3]\n",
    "# S = [1 2 3]\n",
    "#     [4 5 6]\n",
    "#     [7 8 9]\n",
    "# X.T S X = [1,2,3] [1 2 3] [1]\n",
    "#                   [4 5 6] [2]\n",
    "#                   [7 8 9] [3]\n",
    "X = np.array([[1],[2],[3]])\n",
    "S = np.array([[1,2,3],[4,5,6],[7,8,9]])\n",
    "result = np.matmul(X.T,np.matmul(S,X))\n",
    "print(\"X: \\n{}\".format(X))\n",
    "print(\"S: \\n{}\".format(S))\n",
    "print(\"X.T S X: {}\".format(result))"
   ]
  },
  {
   "cell_type": "markdown",
   "metadata": {},
   "source": [
    "## Matrix Inverse\n",
    "use np.linalg.inv() function"
   ]
  },
  {
   "cell_type": "code",
   "execution_count": null,
   "metadata": {},
   "outputs": [],
   "source": [
    "# X = [1, 2]\n",
    "#     [4, 5]\n",
    "X = np.array([[1,2],[4,5]])\n",
    "Xinv = np.linalg.inv(X)\n",
    "print(\"X: \\n{}\".format(X))\n",
    "print(\"X inverse: \\n{}\".format(Xinv))\n",
    "# confirm inverse calculation - should be identity\n",
    "# X * Xinv\n",
    "Confirm = np.matmul(X,Xinv)\n",
    "print(\"Check X*Xinv: \\n{}\".format(Confirm))"
   ]
  },
  {
   "cell_type": "markdown",
   "metadata": {},
   "source": [
    "## Determinant\n",
    "use np.linalg.det() to compute determinant of a matrix"
   ]
  },
  {
   "cell_type": "code",
   "execution_count": null,
   "metadata": {},
   "outputs": [],
   "source": [
    "# X = [1 2]\n",
    "#     [3 4]\n",
    "X = np.array([[1,2],[3,4]])\n",
    "det = np.linalg.det(X)\n",
    "print(\"determinant of X: \\n{}\".format(det))"
   ]
  },
  {
   "cell_type": "code",
   "execution_count": null,
   "metadata": {},
   "outputs": [],
   "source": []
  }
 ],
 "metadata": {
  "kernelspec": {
   "display_name": "Python 3",
   "language": "python",
   "name": "python3"
  },
  "language_info": {
   "codemirror_mode": {
    "name": "ipython",
    "version": 3
   },
   "file_extension": ".py",
   "mimetype": "text/x-python",
   "name": "python",
   "nbconvert_exporter": "python",
   "pygments_lexer": "ipython3",
   "version": "3.8.3"
  }
 },
 "nbformat": 4,
 "nbformat_minor": 2
}
