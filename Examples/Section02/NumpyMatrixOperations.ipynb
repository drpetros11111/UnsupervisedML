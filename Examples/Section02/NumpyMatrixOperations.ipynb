{
 "cells": [
  {
   "cell_type": "markdown",
   "metadata": {},
   "source": [
    "# NumPy Matrix Operations Demo\n",
    "NumPy is a package for scientific computing with Python. This notebook has examples of matrix operations."
   ]
  },
  {
   "cell_type": "code",
   "execution_count": null,
   "metadata": {},
   "outputs": [],
   "source": [
    "import numpy as np"
   ]
  },
  {
   "cell_type": "markdown",
   "metadata": {},
   "source": [
    "### Transpose"
   ]
  },
  {
   "cell_type": "code",
   "execution_count": null,
   "metadata": {},
   "outputs": [],
   "source": [
    "X = np.array([[1,2,3]])\n",
    "print(\"X: {}\".format(X))\n",
    "# Transpose is .T attribute\n",
    "print(\"X.T: \\n{}\".format(X.T))"
   ]
  },
  {
   "cell_type": "code",
   "execution_count": null,
   "metadata": {},
   "outputs": [],
   "source": [
    "Y = np.array([[1,2,3],[4,5,6]])\n",
    "print(\"Y: \\n{}\".format(Y))\n",
    "# Transpose is .T attribute\n",
    "print(\"Y.T: \\n{}\".format(Y.T))"
   ]
  },
  {
   "cell_type": "markdown",
   "metadata": {},
   "source": [
    "### Flipud and Fliplr"
   ]
  },
  {
   "cell_type": "code",
   "execution_count": null,
   "metadata": {},
   "outputs": [],
   "source": [
    "# create matrix\n",
    "X = np.array([[1,2,3,4],[5,6,7,8],[9,10,11,12],[13,14,15,16]])\n",
    "X"
   ]
  },
  {
   "cell_type": "code",
   "execution_count": null,
   "metadata": {},
   "outputs": [],
   "source": [
    "# flipud - reverse order of rows\n",
    "np.flipud(X)"
   ]
  },
  {
   "cell_type": "code",
   "execution_count": null,
   "metadata": {},
   "outputs": [],
   "source": [
    "# fliplr - reverse order of columns\n",
    "np.fliplr(X)"
   ]
  },
  {
   "cell_type": "markdown",
   "metadata": {},
   "source": [
    "###  Dot Product of 1d arrays\n",
    "Use np.dot() function to compute dot product of 1d arrays -> result is a scalar"
   ]
  },
  {
   "cell_type": "code",
   "execution_count": null,
   "metadata": {},
   "outputs": [],
   "source": [
    "# X and Y are 1d arrays\n",
    "# dot product \n",
    "X = np.array([1,2,3])\n",
    "Y = np.array([4,5,6])\n",
    "z = np.dot(X,Y)\n",
    "print(\"z: {}\".format(z))"
   ]
  },
  {
   "cell_type": "markdown",
   "metadata": {},
   "source": [
    "### Dot product of 2d arrays\n",
    "Use np.dot() function to compute dot product of 2d row vector and 2d column vector -> result is a 2d array (1x1)"
   ]
  },
  {
   "cell_type": "code",
   "execution_count": null,
   "metadata": {},
   "outputs": [],
   "source": [
    "# X = [1,2,3]\n",
    "# Y = [4]\n",
    "#     [5]\n",
    "#     [6]\n",
    "# X dot Y = [1,2,3] dot [4]\n",
    "#                       [5]\n",
    "#                       [6]\n",
    "X = np.array([[1,2,3]])\n",
    "Y = np.array([[4],[5],[6]])\n",
    "print(\"X: {}\".format(X))\n",
    "print(\"Y: \\n{}\".format(Y))\n",
    "z = np.dot(X,Y)\n",
    "print(\"z: {}\".format(z))\n",
    "print(\"z.shape: {}\".format(z.shape))"
   ]
  },
  {
   "cell_type": "code",
   "execution_count": null,
   "metadata": {},
   "outputs": [],
   "source": [
    "# if X and Y are row vectors (2d arrays), then np.dot(X,Y) yields error (unless both are 1x1)\n",
    "# number of columns of X must equal number of rows of Y for np.dot(X,Y) to work for 2d arrays\n",
    "# X = [1,2,3]\n",
    "# Y = [4,5,6]\n",
    "# X dot Y = [1,2,3] dot [4,5,6]\n",
    "X = np.array([[1,2,3]])\n",
    "Y = np.array([[4,5,6]])\n",
    "print(\"X: {}\".format(X))\n",
    "print(\"Y: {}\".format(Y))\n",
    "z = np.dot(X,Y)\n",
    "print(\"z: {}\".format(z))\n",
    "print(\"z.shape: {}\".format(z.shape))"
   ]
  },
  {
   "cell_type": "markdown",
   "metadata": {},
   "source": [
    "## Matrix multiplication\n",
    "Use np.matmul() function"
   ]
  },
  {
   "cell_type": "code",
   "execution_count": null,
   "metadata": {},
   "outputs": [],
   "source": [
    "# X = [1 2]\n",
    "#     [3 4]\n",
    "# Y = [5 6]\n",
    "#     [7 8]\n",
    "X = np.array([[1,2],[3,4]])\n",
    "Y = np.array([[5,6],[7,8]])\n",
    "print(\"X: \\n{}\".format(X))\n",
    "print(\"Y: \\n{}\".format(Y))\n",
    "# Z = X * Y\n",
    "Z = np.matmul(X,Y)\n",
    "# Z is a 2x2 array\n",
    "print(\"Z = X * Y: \\n{}\".format(Z))"
   ]
  },
  {
   "cell_type": "markdown",
   "metadata": {},
   "source": [
    "## Matrix Inverse\n",
    "use np.linalg.inv() function"
   ]
  },
  {
   "cell_type": "code",
   "execution_count": null,
   "metadata": {},
   "outputs": [],
   "source": [
    "# X = [1, 2]\n",
    "#     [4, 5]\n",
    "X = np.array([[1,2],[4,5]])\n",
    "print(\"X: \\n{}\".format(X))\n",
    "Xinv = np.linalg.inv(X)\n",
    "print(\"X inverse: \\n{}\".format(Xinv))\n",
    "# confirm inverse calculation - should be identity\n",
    "# X * Xinv\n",
    "Confirm = np.matmul(X,Xinv)\n",
    "print(\"Check X * Xinv: \\n{}\".format(Confirm))"
   ]
  },
  {
   "cell_type": "code",
   "execution_count": null,
   "metadata": {},
   "outputs": [],
   "source": [
    "# Example of a singular matrix (non-invertible)\n",
    "# X = [1, 2]\n",
    "#     [1, 2]\n",
    "X = np.array([[1,2],[1,2]])\n",
    "print(\"X: \\n{}\".format(X))\n",
    "Xinv = np.linalg.inv(X)\n",
    "print(\"X inverse: \\n{}\".format(Xinv))"
   ]
  },
  {
   "cell_type": "markdown",
   "metadata": {},
   "source": [
    "## Determinant\n",
    "use np.linalg.det() to compute determinant of a matrix"
   ]
  },
  {
   "cell_type": "code",
   "execution_count": null,
   "metadata": {},
   "outputs": [],
   "source": [
    "# X = [1 2]\n",
    "#     [3 4]\n",
    "X = np.array([[1,2],[3,4]])\n",
    "det = np.linalg.det(X)\n",
    "print(\"determinant of X: \\n{}\".format(det))"
   ]
  },
  {
   "cell_type": "code",
   "execution_count": null,
   "metadata": {},
   "outputs": [],
   "source": []
  }
 ],
 "metadata": {
  "kernelspec": {
   "display_name": "Python 3",
   "language": "python",
   "name": "python3"
  },
  "language_info": {
   "codemirror_mode": {
    "name": "ipython",
    "version": 3
   },
   "file_extension": ".py",
   "mimetype": "text/x-python",
   "name": "python",
   "nbconvert_exporter": "python",
   "pygments_lexer": "ipython3",
   "version": "3.8.3"
  }
 },
 "nbformat": 4,
 "nbformat_minor": 2
}
