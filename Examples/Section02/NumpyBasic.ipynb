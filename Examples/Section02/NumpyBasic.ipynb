{
 "cells": [
  {
   "cell_type": "markdown",
   "metadata": {},
   "source": [
    "# NumPy Basic Demo\n",
    "NumPy is a package for scientific computing with Python. This notebook has examples of basic functionality."
   ]
  },
  {
   "cell_type": "code",
   "execution_count": null,
   "metadata": {},
   "outputs": [],
   "source": [
    "import numpy as np"
   ]
  },
  {
   "cell_type": "markdown",
   "metadata": {},
   "source": [
    "## Array Creation and Indexing"
   ]
  },
  {
   "cell_type": "code",
   "execution_count": null,
   "metadata": {},
   "outputs": [],
   "source": [
    "# array of integers 0 to 4 using arange (similar to python range)\n",
    "a = np.arange(5)\n",
    "print(\"a: {}\".format(a))\n",
    "print(\"Type: {}\".format(type(a)))"
   ]
  },
  {
   "cell_type": "code",
   "execution_count": null,
   "metadata": {},
   "outputs": [],
   "source": [
    "# create numpy array from a list\n",
    "a = np.array([2,7,1])\n",
    "print(\"1d array: a: {}\".format(a))\n",
    "print(\"1d array: a.shape: {}\".format(a.shape))\n",
    "print(\"Index into array entry index 2: {}\".format(a[2]))"
   ]
  },
  {
   "cell_type": "code",
   "execution_count": null,
   "metadata": {},
   "outputs": [],
   "source": [
    "# example: row vector vector as 2d array\n",
    "# A = [2,7,1]\n",
    "# Define A as list of list for each row\n",
    "A = np.array([[2,7,1]])\n",
    "print(\"2d row matrix: A: {}\".format(A))\n",
    "print(\"2d row matrix: A.shape: {}\".format(A.shape))\n",
    "print(\"Index into matrix entry index row=0,col=2: {}\".format(A[0,2]))"
   ]
  },
  {
   "cell_type": "code",
   "execution_count": null,
   "metadata": {},
   "outputs": [],
   "source": [
    "# example: 2d-array as column vector\n",
    "# each row is a list\n",
    "# Define B as list of list for each row\n",
    "# B = [2]\n",
    "#     [7]\n",
    "#     [1]\n",
    "B = np.array([[2],[7],[1]])\n",
    "print(\"2d column matrix: B: \\n{}\".format(B))\n",
    "print(\"2d column matrix: B.shape: {}\".format(B.shape))\n",
    "print(\"Index into matrix entry index row=1,col=0: {}\".format(B[1,0]))"
   ]
  },
  {
   "cell_type": "code",
   "execution_count": null,
   "metadata": {},
   "outputs": [],
   "source": [
    "# example: matrix\n",
    "# X = [1 2 3]\n",
    "#     [4 5 6]\n",
    "# Define X as list of list for each row\n",
    "X = np.array([[1,2,3],[4,5,6]])\n",
    "print(\"2d array: X: \\n{}\".format(X))\n",
    "print(\"2d array: X.shape: {}\".format(X.shape))\n",
    "print(\"Index into matrix entry index row=1,col=1: {}\".format(X[1,1]))\n",
    "print(\"Number of entries using np.size: {}\".format(np.size(X)))"
   ]
  },
  {
   "cell_type": "code",
   "execution_count": null,
   "metadata": {},
   "outputs": [],
   "source": [
    "# index into numpy array using list or array\n",
    "idx_list = [1,2]\n",
    "print(\"X: \\n{}\".format(X))\n",
    "# index into row 0 cols [1,2]\n",
    "print(\"X[0,[1,2]]: {}\".format(X[0,idx_list]))\n",
    "# index into cols [1,2] using a numpy array\n",
    "idx_array = np.array([1,2])\n",
    "print(\"X[:,[1,2]]: \\n{}\".format(X[:,idx_array]))"
   ]
  },
  {
   "cell_type": "code",
   "execution_count": null,
   "metadata": {},
   "outputs": [],
   "source": [
    "# example: assign entry 17 to row=0,col=1 entry of X\n",
    "X[0,1] = 17\n",
    "print(\"X: \\n{}\".format(X))"
   ]
  },
  {
   "cell_type": "code",
   "execution_count": null,
   "metadata": {},
   "outputs": [],
   "source": [
    "# example: assign [11,12,13] to row 1 of X\n",
    "X[1,:] = np.array([[11,12,13]])\n",
    "print(\"X: \\n{}\".format(X))"
   ]
  },
  {
   "cell_type": "markdown",
   "metadata": {},
   "source": [
    "## Componentwise Operations\n",
    "addition, multiplication, and scalar multiplication"
   ]
  },
  {
   "cell_type": "code",
   "execution_count": null,
   "metadata": {},
   "outputs": [],
   "source": [
    "# X = [1 2 3]\n",
    "#     [4 5 6]\n",
    "# Y = [1 -1  2]\n",
    "#     [2  3 -2]\n",
    "X = np.array([[1,2,3],[4,5,6]])\n",
    "Y = np.array([[1,-1,2],[2,3,-2]])\n",
    "print(\"X: \\n{}\".format(X))\n",
    "print(\"Y: \\n{}\".format(Y))"
   ]
  },
  {
   "cell_type": "code",
   "execution_count": null,
   "metadata": {},
   "outputs": [],
   "source": [
    "#componentwise addition - add corresponding entries of X and Y\n",
    "Z1 = X + Y\n",
    "print(\"Z1=X+Y: \\n{}\".format(Z1))"
   ]
  },
  {
   "cell_type": "code",
   "execution_count": null,
   "metadata": {},
   "outputs": [],
   "source": [
    "#scalar multiplication - multiply all entries of X by 2\n",
    "Z2 = 2*X\n",
    "print(\"Z2=2*X: \\n{}\".format(Z2))"
   ]
  },
  {
   "cell_type": "code",
   "execution_count": null,
   "metadata": {},
   "outputs": [],
   "source": [
    "# componentwise multiplication - multiply corresponding entries of X and Y\n",
    "Z3 = X*Y\n",
    "print(\"X: \\n{}\".format(X))\n",
    "print(\"Y: \\n{}\".format(Y))\n",
    "print(\"Z3=X*Y: \\n{}\".format(Z3))"
   ]
  },
  {
   "cell_type": "markdown",
   "metadata": {},
   "source": [
    "## Broadcasting\n",
    "Componentwise addition of arrays of different size if calculation makes sense.\n",
    "Same ideas apply to componentwise subtraction, multiplication, and division"
   ]
  },
  {
   "cell_type": "code",
   "execution_count": null,
   "metadata": {},
   "outputs": [],
   "source": [
    "# X = [1 2 3]\n",
    "#     [4 5 6]\n",
    "# Y = [20,21,22]\n",
    "# X + Y -> add Y to each row of X\n",
    "X = np.array([[1,2,3],[4,5,6]])\n",
    "Y = np.array([[20,21,22]])\n",
    "Z = X + Y\n",
    "print(\"x: \\n{}\".format(X))\n",
    "print(\"Y: \\n{}\".format(Y))\n",
    "print(\"Z: \\n{}\".format(Z))"
   ]
  },
  {
   "cell_type": "markdown",
   "metadata": {},
   "source": [
    "## Functions\n",
    "Examples include square, exp, sqrt, absolute value, power, ..."
   ]
  },
  {
   "cell_type": "markdown",
   "metadata": {},
   "source": [
    "Take the absolute value of each element"
   ]
  },
  {
   "cell_type": "code",
   "execution_count": null,
   "metadata": {},
   "outputs": [],
   "source": [
    "Y = np.array([[1,-1,2],[2,3,-2]])\n",
    "Yabs = np.absolute(Y)\n",
    "print(\"Y: \\n{}\".format(Y))\n",
    "print(\"Absolute Value of Y: \\n{}\".format(Yabs))"
   ]
  },
  {
   "cell_type": "markdown",
   "metadata": {},
   "source": [
    "Take the square of each element"
   ]
  },
  {
   "cell_type": "code",
   "execution_count": null,
   "metadata": {},
   "outputs": [],
   "source": [
    "Xsq = np.square(X)\n",
    "print(\"X: \\n{}\".format(X))\n",
    "print(\"Square of X: \\n{}\".format(Xsq))"
   ]
  },
  {
   "cell_type": "markdown",
   "metadata": {},
   "source": [
    "## where function"
   ]
  },
  {
   "cell_type": "code",
   "execution_count": null,
   "metadata": {},
   "outputs": [],
   "source": [
    "# determine where a == 2\n",
    "a = np.array([1,2,3,4,1,2,3,4])\n",
    "idx = np.where(a == 2)[0]\n",
    "print(\"a: {}\".format(a))\n",
    "print(\"indices where a = 2: {}\".format(idx))"
   ]
  },
  {
   "cell_type": "code",
   "execution_count": null,
   "metadata": {},
   "outputs": [],
   "source": [
    "# if there is potential for rounding error, use:\n",
    "idx = np.where(np.absolute(a-2)<1e-5)[0]\n",
    "print(\"indices where a = 2: {}\".format(idx))"
   ]
  },
  {
   "cell_type": "markdown",
   "metadata": {},
   "source": [
    "## Concatenation"
   ]
  },
  {
   "cell_type": "code",
   "execution_count": null,
   "metadata": {},
   "outputs": [],
   "source": [
    "X = np.array([[1,2,3],[4,5,6]])\n",
    "Y = np.array([[1,-1,2],[2,3,-2]])\n",
    "print(\"X: \\n{}\".format(X))\n",
    "print(\"Y: \\n{}\".format(Y))\n",
    "# concatenation - in row direction - use axis=0 in 2nd input\n",
    "# result is [1  2  3]\n",
    "#           [4  5  6]\n",
    "#           [1 -1  2]\n",
    "#           [2  3 -2]\n",
    "XandYrow = np.concatenate((X,Y),axis=0)\n",
    "print(\"X and Y concatenated in row direction: \\n{}\".format(XandYrow))\n",
    "# concatenation X and Y - in column direction - use axis=1 in 2nd input\n",
    "# result is [1 2 3 1 -1  2]\n",
    "#           [4 5 6 2  3 -2]\n",
    "XandYcol = np.concatenate((X,Y),axis=1)\n",
    "print(\"X and Y concatenated in column direction: \\n{}\".format(XandYcol))"
   ]
  },
  {
   "cell_type": "markdown",
   "metadata": {},
   "source": [
    "## Reshape"
   ]
  },
  {
   "cell_type": "code",
   "execution_count": null,
   "metadata": {},
   "outputs": [],
   "source": [
    "X = np.array([[1,2,3],[4,5,6]])\n",
    "print(\"X: \\n{}\".format(X))\n",
    "# reshape X into 3,2 array\n",
    "Xreshape = np.reshape(X,(3,2))\n",
    "print(\"Xreshape: \\n{}\".format(Xreshape))"
   ]
  },
  {
   "cell_type": "markdown",
   "metadata": {},
   "source": [
    "## Summing Entries\n",
    "same functionality for computing mean using np.mean"
   ]
  },
  {
   "cell_type": "code",
   "execution_count": null,
   "metadata": {},
   "outputs": [],
   "source": [
    "# X = [1 2 3]\n",
    "#     [4 5 6]\n",
    "X = np.array([[1,2,3],[4,5,6]])\n",
    "print(\"X: \\n{}\".format(X))\n",
    "# sum all entries\n",
    "sum1 = np.sum(X)\n",
    "print(\"sum entries of x: {}\".format(sum1))"
   ]
  },
  {
   "cell_type": "code",
   "execution_count": null,
   "metadata": {},
   "outputs": [],
   "source": [
    "# sum in row direction - this removes an axis -> 1d array [5 7 9]\n",
    "rowsum1 = np.sum(X,axis=0)\n",
    "print(\"sum in row direction X: \\n{}\".format(rowsum1))\n",
    "print(\"rowsum1.shape: {}\".format(rowsum1.shape))"
   ]
  },
  {
   "cell_type": "code",
   "execution_count": null,
   "metadata": {},
   "outputs": [],
   "source": [
    "# sum in row direction - keep row axis -> row matrix [5 7 9]\n",
    "rowsum2 = np.sum(X,axis=0,keepdims=True)\n",
    "print(\"sum in row direction X keep row axis: \\n{}\".format(rowsum2))\n",
    "print(\"rowsum2.shape: {}\".format(rowsum2.shape))"
   ]
  },
  {
   "cell_type": "code",
   "execution_count": null,
   "metadata": {},
   "outputs": [],
   "source": [
    "# sum in column direction - keep column axis -> 2darray\n",
    "colsum1 = np.sum(X,axis=1,keepdims=True)\n",
    "print(\"sum in column direction keep col axis: \\n{}\".format(colsum1))\n",
    "print(\"colsum1.shape: {}\".format(colsum1.shape))"
   ]
  },
  {
   "cell_type": "markdown",
   "metadata": {},
   "source": [
    "## max and argmax functions\n",
    "similar functionality for np.min and np.argmin"
   ]
  },
  {
   "cell_type": "code",
   "execution_count": null,
   "metadata": {},
   "outputs": [],
   "source": [
    "# X = [1.1 5.2 3.1]\n",
    "#     [-4.2 -1.2 6.1]\n",
    "X = np.array([[1.1,5.2,3.1],[-4.2,-1.2,6.1]])\n",
    "print(\"X: \\n{}\".format(X))\n",
    "# find maximum entry for each column (take max in \"row\" direction)\n",
    "Xmax = np.max(X, axis =0)\n",
    "print(\"X max for each column: {}\".format(Xmax))\n",
    "# find row index of maximum entry in each column (take argmax in \"row\" direction)\n",
    "idx_argmax = np.argmax(X,axis=0)\n",
    "print(\"index of max entry in each col: {}\".format(idx_argmax))"
   ]
  },
  {
   "cell_type": "markdown",
   "metadata": {},
   "source": [
    "## Array of Zeros\n",
    "similar functionality for np.ones"
   ]
  },
  {
   "cell_type": "code",
   "execution_count": null,
   "metadata": {},
   "outputs": [],
   "source": [
    "# generate zero matrix dimension (3,2)\n",
    "Z0 = np.zeros((3,2))\n",
    "print(\"zero matrix: \\n{}\".format(Z0))"
   ]
  },
  {
   "cell_type": "markdown",
   "metadata": {},
   "source": [
    "## Array of Random Numbers"
   ]
  },
  {
   "cell_type": "code",
   "execution_count": null,
   "metadata": {},
   "outputs": [],
   "source": [
    "# generate random matrix  dim (2,3) - uniform distribution\n",
    "Runiform = np.random.rand(2,3)\n",
    "print(\"Runiform: \\n{}\".format(Runiform))"
   ]
  },
  {
   "cell_type": "code",
   "execution_count": null,
   "metadata": {},
   "outputs": [],
   "source": [
    "# generate random matrix  dim (2,3) - standard normal distribution\n",
    "# set seed first\n",
    "np.random.seed(10)\n",
    "Rnormal = np.random.randn(2,3)\n",
    "print(\"Rnormal: \\n{}\".format(Rnormal))"
   ]
  },
  {
   "cell_type": "code",
   "execution_count": null,
   "metadata": {},
   "outputs": [],
   "source": [
    "# random 1d array of 15 random integers between 0 and 9\n",
    "Rint = np.random.randint(0,10,15)\n",
    "print(\"Random integers: {}\".format(Rint))"
   ]
  },
  {
   "cell_type": "code",
   "execution_count": null,
   "metadata": {},
   "outputs": [],
   "source": [
    "# 1d numpy array of 7 numbers randomly chosen from Rint = [0,1,2,...,9]\n",
    "Rint = np.arange(10)\n",
    "print(\"Rint: {}\".format(Rint))\n",
    "Rchoice = np.random.choice(Rint,7,replace=False)\n",
    "print(\"Rchoice: {}\".format(Rchoice))"
   ]
  },
  {
   "cell_type": "code",
   "execution_count": null,
   "metadata": {},
   "outputs": [],
   "source": []
  }
 ],
 "metadata": {
  "kernelspec": {
   "display_name": "Python 3",
   "language": "python",
   "name": "python3"
  },
  "language_info": {
   "codemirror_mode": {
    "name": "ipython",
    "version": 3
   },
   "file_extension": ".py",
   "mimetype": "text/x-python",
   "name": "python",
   "nbconvert_exporter": "python",
   "pygments_lexer": "ipython3",
   "version": "3.8.3"
  }
 },
 "nbformat": 4,
 "nbformat_minor": 2
}
