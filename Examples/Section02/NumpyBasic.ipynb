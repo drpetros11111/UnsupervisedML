{
 "cells": [
  {
   "cell_type": "markdown",
   "metadata": {},
   "source": [
    "# NumPy Basic Demo\n",
    "NumPy is a package for scientific computing with Python. This notebook has examples of basic functionality."
   ]
  },
  {
   "cell_type": "code",
   "execution_count": 1,
   "metadata": {},
   "outputs": [],
   "source": [
    "import numpy as np"
   ]
  },
  {
   "cell_type": "markdown",
   "metadata": {},
   "source": [
    "## Array Creation and Indexing"
   ]
  },
  {
   "cell_type": "code",
   "execution_count": 2,
   "metadata": {},
   "outputs": [
    {
     "name": "stdout",
     "output_type": "stream",
     "text": [
      "1d array: a: [2 7 1]\n",
      "1d array: a.shape: (3,)\n",
      "Index into array entry index 2: 1\n"
     ]
    }
   ],
   "source": [
    "# convert list to numpy array\n",
    "a = np.array([2,7,1])\n",
    "print(\"1d array: a: {}\".format(a))\n",
    "print(\"1d array: a.shape: {}\".format(a.shape))\n",
    "print(\"Index into array entry index 2: {}\".format(a[2]))"
   ]
  },
  {
   "cell_type": "code",
   "execution_count": 3,
   "metadata": {},
   "outputs": [
    {
     "name": "stdout",
     "output_type": "stream",
     "text": [
      "2d row matrix: A: [[2 7 1]]\n",
      "2d row matrix: A.shape: (1, 3)\n",
      "Index into matrix entry index row=0,col=2: 1\n"
     ]
    }
   ],
   "source": [
    "# example: 2d-array as row vector\n",
    "# A = [2,7,1]\n",
    "# Define A as list of list for each row\n",
    "A = np.array([[2,7,1]])\n",
    "print(\"2d row matrix: A: {}\".format(A))\n",
    "print(\"2d row matrix: A.shape: {}\".format(A.shape))\n",
    "print(\"Index into matrix entry index row=0,col=2: {}\".format(A[0,2]))"
   ]
  },
  {
   "cell_type": "code",
   "execution_count": 4,
   "metadata": {},
   "outputs": [
    {
     "name": "stdout",
     "output_type": "stream",
     "text": [
      "2d column matrix: B: \n",
      "[[2]\n",
      " [7]\n",
      " [1]]\n",
      "2d column matrix: B.shape: (3, 1)\n",
      "Index into matrix entry index row=1,col=0: 7\n"
     ]
    }
   ],
   "source": [
    "# example: 2d-array as column vector\n",
    "# each row is a list\n",
    "# Define B as list of list for each row\n",
    "# B = [2]\n",
    "#     [7]\n",
    "#     [1]\n",
    "B = np.array([[2],[7],[1]])\n",
    "print(\"2d column matrix: B: \\n{}\".format(B))\n",
    "print(\"2d column matrix: B.shape: {}\".format(B.shape))\n",
    "print(\"Index into matrix entry index row=1,col=0: {}\".format(B[1,0]))"
   ]
  },
  {
   "cell_type": "code",
   "execution_count": 5,
   "metadata": {},
   "outputs": [
    {
     "name": "stdout",
     "output_type": "stream",
     "text": [
      "2d array: X: \n",
      "[[1 2 3]\n",
      " [4 5 6]]\n",
      "2d array: X.shape: (2, 3)\n",
      "Index into matrix entry index row=1,col=1: 5\n"
     ]
    }
   ],
   "source": [
    "# example: matrix\n",
    "# X = [1 2 3]\n",
    "#     [4 5 6]\n",
    "# Define X as list of list for each row\n",
    "X = np.array([[1,2,3],[4,5,6]])\n",
    "print(\"2d array: X: \\n{}\".format(X))\n",
    "print(\"2d array: X.shape: {}\".format(X.shape))\n",
    "print(\"Index into matrix entry index row=1,col=1: {}\".format(X[1,1]))"
   ]
  },
  {
   "cell_type": "code",
   "execution_count": 6,
   "metadata": {},
   "outputs": [
    {
     "name": "stdout",
     "output_type": "stream",
     "text": [
      "X: \n",
      "[[ 1 17  3]\n",
      " [ 4  5  6]]\n"
     ]
    }
   ],
   "source": [
    "# example: assign entry 17 to row=0,col=1 entry of X\n",
    "X[0,1] = 17\n",
    "print(\"X: \\n{}\".format(X))"
   ]
  },
  {
   "cell_type": "code",
   "execution_count": 7,
   "metadata": {},
   "outputs": [
    {
     "name": "stdout",
     "output_type": "stream",
     "text": [
      "X: \n",
      "[[ 1 17  3]\n",
      " [11 12 13]]\n"
     ]
    }
   ],
   "source": [
    "# example: assign [11,12,13] to row 1 of X\n",
    "X[1,:] = np.array([[11,12,13]])\n",
    "print(\"X: \\n{}\".format(X))"
   ]
  },
  {
   "cell_type": "markdown",
   "metadata": {},
   "source": [
    "## Componentwise Operations\n",
    "addition, multiplication, and scalar multiplication"
   ]
  },
  {
   "cell_type": "code",
   "execution_count": 8,
   "metadata": {},
   "outputs": [
    {
     "name": "stdout",
     "output_type": "stream",
     "text": [
      "X: \n",
      "[[1 2 3]\n",
      " [4 5 6]]\n",
      "Y: \n",
      "[[ 1 -1  2]\n",
      " [ 2  3 -2]]\n"
     ]
    }
   ],
   "source": [
    "# X = [1 2 3]\n",
    "#     [4 5 6]\n",
    "# Y = [1 -1  2]\n",
    "#     [2  3 -2]\n",
    "X = np.array([[1,2,3],[4,5,6]])\n",
    "Y = np.array([[1,-1,2],[2,3,-2]])\n",
    "print(\"X: \\n{}\".format(X))\n",
    "print(\"Y: \\n{}\".format(Y))"
   ]
  },
  {
   "cell_type": "code",
   "execution_count": 9,
   "metadata": {},
   "outputs": [
    {
     "name": "stdout",
     "output_type": "stream",
     "text": [
      "Z1=X+Y: \n",
      "[[2 1 5]\n",
      " [6 8 4]]\n"
     ]
    }
   ],
   "source": [
    "#componentwise addition - add corresponding entries of X and Y\n",
    "Z1 = X + Y\n",
    "print(\"Z1=X+Y: \\n{}\".format(Z1))"
   ]
  },
  {
   "cell_type": "code",
   "execution_count": 10,
   "metadata": {},
   "outputs": [
    {
     "name": "stdout",
     "output_type": "stream",
     "text": [
      "Z2=2*X: \n",
      "[[ 2  4  6]\n",
      " [ 8 10 12]]\n"
     ]
    }
   ],
   "source": [
    "#scalar multiplication - multiply all entries of X by 2\n",
    "Z2 = 2*X\n",
    "print(\"Z2=2*X: \\n{}\".format(Z2))"
   ]
  },
  {
   "cell_type": "code",
   "execution_count": 11,
   "metadata": {},
   "outputs": [
    {
     "name": "stdout",
     "output_type": "stream",
     "text": [
      "X: \n",
      "[[1 2 3]\n",
      " [4 5 6]]\n",
      "Y: \n",
      "[[ 1 -1  2]\n",
      " [ 2  3 -2]]\n",
      "Z3=X*Y: \n",
      "[[  1  -2   6]\n",
      " [  8  15 -12]]\n"
     ]
    }
   ],
   "source": [
    "# componentwise multiplication - multiply corresponding entries of X and Y\n",
    "Z3 = X*Y\n",
    "print(\"X: \\n{}\".format(X))\n",
    "print(\"Y: \\n{}\".format(Y))\n",
    "print(\"Z3=X*Y: \\n{}\".format(Z3))"
   ]
  },
  {
   "cell_type": "markdown",
   "metadata": {},
   "source": [
    "## Broadcasting\n",
    "Componentwise addition of arrays of different size if calculation makes sense.\n",
    "Same ideas apply to componentwise subtraction, multiplication, and division"
   ]
  },
  {
   "cell_type": "code",
   "execution_count": 14,
   "metadata": {},
   "outputs": [
    {
     "name": "stdout",
     "output_type": "stream",
     "text": [
      "x: \n",
      "[[1 2 3]\n",
      " [4 5 6]]\n",
      "Y: \n",
      "[[20 21 22]]\n",
      "Z: \n",
      "[[21 23 25]\n",
      " [24 26 28]]\n"
     ]
    }
   ],
   "source": [
    "# X = [1 2 3]\n",
    "#     [4 5 6]\n",
    "# Y = [20,21,22]\n",
    "# X + Y -> add Y to each row of X\n",
    "X = np.array([[1,2,3],[4,5,6]])\n",
    "Y = np.array([[20,21,22]])\n",
    "Z = X + Y\n",
    "print(\"x: \\n{}\".format(X))\n",
    "print(\"Y: \\n{}\".format(Y))\n",
    "print(\"Z: \\n{}\".format(Z))"
   ]
  },
  {
   "cell_type": "markdown",
   "metadata": {},
   "source": [
    "## Functions"
   ]
  },
  {
   "cell_type": "markdown",
   "metadata": {},
   "source": [
    "### Absolute Value\n",
    "Take the abslute value of each element"
   ]
  },
  {
   "cell_type": "code",
   "execution_count": 15,
   "metadata": {},
   "outputs": [
    {
     "name": "stdout",
     "output_type": "stream",
     "text": [
      "Y: \n",
      "[[ 1 -1  2]\n",
      " [ 2  3 -2]]\n",
      "Absolute Value of Y: \n",
      "[[1 1 2]\n",
      " [2 3 2]]\n"
     ]
    }
   ],
   "source": [
    "Y = np.array([[1,-1,2],[2,3,-2]])\n",
    "Yabs = np.absolute(Y)\n",
    "print(\"Y: \\n{}\".format(Y))\n",
    "print(\"Absolute Value of Y: \\n{}\".format(Yabs))"
   ]
  },
  {
   "cell_type": "markdown",
   "metadata": {},
   "source": [
    "### Square\n",
    "Take the square of each element"
   ]
  },
  {
   "cell_type": "code",
   "execution_count": 17,
   "metadata": {},
   "outputs": [
    {
     "name": "stdout",
     "output_type": "stream",
     "text": [
      "X: \n",
      "[[1 2 3]\n",
      " [4 5 6]]\n",
      "Square of X: \n",
      "[[  2.71828183   7.3890561   20.08553692]\n",
      " [ 54.59815003 148.4131591  403.42879349]]\n"
     ]
    }
   ],
   "source": [
    "Xsq = np.exp(X)\n",
    "print(\"X: \\n{}\".format(X))\n",
    "print(\"Square of X: \\n{}\".format(Xsq))"
   ]
  },
  {
   "cell_type": "markdown",
   "metadata": {},
   "source": [
    "## Concatenation"
   ]
  },
  {
   "cell_type": "code",
   "execution_count": 18,
   "metadata": {},
   "outputs": [
    {
     "name": "stdout",
     "output_type": "stream",
     "text": [
      "X: \n",
      "[[1 2 3]\n",
      " [4 5 6]]\n",
      "Y: \n",
      "[[ 1 -1  2]\n",
      " [ 2  3 -2]]\n",
      "X and Y concatenated in row direction: \n",
      "[[ 1  2  3]\n",
      " [ 4  5  6]\n",
      " [ 1 -1  2]\n",
      " [ 2  3 -2]]\n",
      "X and Y concatenated in column direction: \n",
      "[[ 1  2  3  1 -1  2]\n",
      " [ 4  5  6  2  3 -2]]\n"
     ]
    }
   ],
   "source": [
    "X = np.array([[1,2,3],[4,5,6]])\n",
    "Y = np.array([[1,-1,2],[2,3,-2]])\n",
    "print(\"X: \\n{}\".format(X))\n",
    "print(\"Y: \\n{}\".format(Y))\n",
    "# concatenation - in row direction - use axis=0 in 2nd input\n",
    "# result is [1  2  3]\n",
    "#           [4  5  6]\n",
    "#           [1 -1  2]\n",
    "#           [2  3 -2]\n",
    "XandYrow = np.concatenate((X,Y),axis=0)\n",
    "print(\"X and Y concatenated in row direction: \\n{}\".format(XandYrow))\n",
    "# concatenation X and Y - in column direction - use axis=1 in 2nd input\n",
    "# result is [1 2 3 1 -1  2]\n",
    "#           [4 5 6 2  3 -2]\n",
    "XandYcol = np.concatenate((X,Y),axis=1)\n",
    "print(\"X and Y concatenated in column direction: \\n{}\".format(XandYcol))"
   ]
  },
  {
   "cell_type": "markdown",
   "metadata": {},
   "source": [
    "## Summing Entries"
   ]
  },
  {
   "cell_type": "code",
   "execution_count": 19,
   "metadata": {},
   "outputs": [
    {
     "name": "stdout",
     "output_type": "stream",
     "text": [
      "X: \n",
      "[[1 2 3]\n",
      " [4 5 6]]\n",
      "sum entries of x: 21\n"
     ]
    }
   ],
   "source": [
    "# X = [1 2 3]\n",
    "#     [4 5 6]\n",
    "X = np.array([[1,2,3],[4,5,6]])\n",
    "print(\"X: \\n{}\".format(X))\n",
    "# sum all entries\n",
    "sum1 = np.sum(X)\n",
    "print(\"sum entries of x: {}\".format(sum1))"
   ]
  },
  {
   "cell_type": "code",
   "execution_count": 20,
   "metadata": {},
   "outputs": [
    {
     "name": "stdout",
     "output_type": "stream",
     "text": [
      "sum in row direction X: \n",
      "[5 7 9]\n",
      "rowsum1.shape: (3,)\n"
     ]
    }
   ],
   "source": [
    "# sum in row direction - this removes an axis -> 1d array [5 7 9]\n",
    "rowsum1 = np.sum(X,axis=0)\n",
    "print(\"sum in row direction X: \\n{}\".format(rowsum1))\n",
    "print(\"rowsum1.shape: {}\".format(rowsum1.shape))"
   ]
  },
  {
   "cell_type": "code",
   "execution_count": 21,
   "metadata": {},
   "outputs": [
    {
     "name": "stdout",
     "output_type": "stream",
     "text": [
      "sum in row direction X keep row axis: \n",
      "[[5 7 9]]\n",
      "rowsum2.shape: (1, 3)\n"
     ]
    }
   ],
   "source": [
    "# sum in row direction - keep row axis -> row matrix [5 7 9]\n",
    "rowsum2 = np.sum(X,axis=0,keepdims=True)\n",
    "print(\"sum in row direction X keep row axis: \\n{}\".format(rowsum2))\n",
    "print(\"rowsum2.shape: {}\".format(rowsum2.shape))"
   ]
  },
  {
   "cell_type": "code",
   "execution_count": 22,
   "metadata": {},
   "outputs": [
    {
     "name": "stdout",
     "output_type": "stream",
     "text": [
      "sum in column direction keep col axis: \n",
      "[[ 6]\n",
      " [15]]\n",
      "colsum1.shape: (2, 1)\n"
     ]
    }
   ],
   "source": [
    "# sum in column direction - keep column axis -> 2darray\n",
    "colsum1 = np.sum(X,axis=1,keepdims=True)\n",
    "print(\"sum in column direction keep col axis: \\n{}\".format(colsum1))\n",
    "print(\"colsum1.shape: {}\".format(colsum1.shape))"
   ]
  },
  {
   "cell_type": "markdown",
   "metadata": {},
   "source": [
    "## Array of Zeros"
   ]
  },
  {
   "cell_type": "code",
   "execution_count": 23,
   "metadata": {},
   "outputs": [
    {
     "name": "stdout",
     "output_type": "stream",
     "text": [
      "zero matrix: \n",
      "[[0. 0.]\n",
      " [0. 0.]\n",
      " [0. 0.]]\n"
     ]
    }
   ],
   "source": [
    "# generate zero matrix dimension (3,2)\n",
    "Z0 = np.zeros((3,2))\n",
    "print(\"zero matrix: \\n{}\".format(Z0))"
   ]
  },
  {
   "cell_type": "markdown",
   "metadata": {},
   "source": [
    "## Array of Random Numbers"
   ]
  },
  {
   "cell_type": "code",
   "execution_count": 25,
   "metadata": {},
   "outputs": [
    {
     "name": "stdout",
     "output_type": "stream",
     "text": [
      "Runiform: \n",
      "[[0.38357367 0.67000952 0.24068845]\n",
      " [0.21999931 0.0439532  0.00100496]]\n"
     ]
    }
   ],
   "source": [
    "# generate random matrix  dim (2,3) - uniform distribution\n",
    "Runiform = np.random.rand(2,3)\n",
    "print(\"Runiform: \\n{}\".format(Runiform))"
   ]
  },
  {
   "cell_type": "code",
   "execution_count": 26,
   "metadata": {},
   "outputs": [
    {
     "name": "stdout",
     "output_type": "stream",
     "text": [
      "Rnormal: \n",
      "[[ 1.3315865   0.71527897 -1.54540029]\n",
      " [-0.00838385  0.62133597 -0.72008556]]\n"
     ]
    }
   ],
   "source": [
    "# generate random matrix  dim (2,3) - standard normal distribution\n",
    "# set seed first\n",
    "np.random.seed(10)\n",
    "Rnormal = np.random.randn(2,3)\n",
    "print(\"Rnormal: \\n{}\".format(Rnormal))"
   ]
  },
  {
   "cell_type": "code",
   "execution_count": null,
   "metadata": {},
   "outputs": [],
   "source": []
  }
 ],
 "metadata": {
  "kernelspec": {
   "display_name": "Python 3",
   "language": "python",
   "name": "python3"
  },
  "language_info": {
   "codemirror_mode": {
    "name": "ipython",
    "version": 3
   },
   "file_extension": ".py",
   "mimetype": "text/x-python",
   "name": "python",
   "nbconvert_exporter": "python",
   "pygments_lexer": "ipython3",
   "version": "3.8.3"
  }
 },
 "nbformat": 4,
 "nbformat_minor": 2
}
