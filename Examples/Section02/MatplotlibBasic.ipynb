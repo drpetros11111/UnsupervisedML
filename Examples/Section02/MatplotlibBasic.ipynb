{
 "cells": [
  {
   "cell_type": "markdown",
   "metadata": {},
   "source": [
    "# Matplotlib Basics Demo"
   ]
  },
  {
   "cell_type": "code",
   "execution_count": null,
   "metadata": {},
   "outputs": [],
   "source": [
    "import numpy as np\n",
    "import matplotlib.pyplot as plt\n",
    "from matplotlib import cm"
   ]
  },
  {
   "cell_type": "markdown",
   "metadata": {},
   "source": [
    "## Plot using lists"
   ]
  },
  {
   "cell_type": "code",
   "execution_count": null,
   "metadata": {},
   "outputs": [],
   "source": [
    "# list of integers from 0 to 19\n",
    "x1 = [i for i in range(20)]\n",
    "print(\"x1: {}\".format(x1))\n",
    "y1 = x1\n",
    "print(\"y1: {}\".format(y1))"
   ]
  },
  {
   "cell_type": "code",
   "execution_count": null,
   "metadata": {},
   "outputs": [],
   "source": [
    "# plot of y=x, the 'r-' argument results in a solid red line\n",
    "plt.figure()\n",
    "plt.plot(x1, y1, 'r-')\n",
    "plt.title('Plot of y=x')\n",
    "plt.xlabel('x label')\n",
    "plt.ylabel('y label')\n",
    "plt.show()"
   ]
  },
  {
   "cell_type": "markdown",
   "metadata": {},
   "source": [
    "## Plot using 1d numpy arrays"
   ]
  },
  {
   "cell_type": "code",
   "execution_count": null,
   "metadata": {},
   "outputs": [],
   "source": [
    "# 21 equally spaced points between -5 and 5\n",
    "x2 = np.linspace(-5, 5, 21)\n",
    "print(\"x2: {}\".format(x2))\n",
    "print(\"x2.shape: {}\".format(x2.shape))"
   ]
  },
  {
   "cell_type": "code",
   "execution_count": null,
   "metadata": {},
   "outputs": [],
   "source": [
    "# y = x^2\n",
    "y2 = x2 ** 2\n",
    "print(\"y2: {}\".format(y2))\n",
    "print(\"y2.shape: {}\".format(y2.shape))"
   ]
  },
  {
   "cell_type": "code",
   "execution_count": null,
   "metadata": {},
   "outputs": [],
   "source": [
    "# plot of y=x^2, the 'bo' argument means plot blue dots at x2 & y2 points\n",
    "plt.figure()\n",
    "plt.plot(x2, y2, 'bo')\n",
    "plt.title('Plot of y=x^2')\n",
    "plt.xlabel('x label')\n",
    "plt.ylabel('y label')\n",
    "plt.show()"
   ]
  },
  {
   "cell_type": "markdown",
   "metadata": {},
   "source": [
    "## Plot using 2d numpy arrays\n",
    "Use \"squeeze\" to convert back to 1d array"
   ]
  },
  {
   "cell_type": "code",
   "execution_count": null,
   "metadata": {},
   "outputs": [],
   "source": [
    "x3 = x2.reshape(1, len(x2))\n",
    "print(\"x3: {}\".format(x3))\n",
    "print(\"x3.shape: {}\".format(x3.shape))"
   ]
  },
  {
   "cell_type": "code",
   "execution_count": null,
   "metadata": {},
   "outputs": [],
   "source": [
    "y3 = np.exp(x3)\n",
    "print(\"y3: {}\".format(y3))\n",
    "print(\"y3.shape: {}\".format(y3.shape))"
   ]
  },
  {
   "cell_type": "code",
   "execution_count": null,
   "metadata": {},
   "outputs": [],
   "source": [
    "# plot of y3 = exp(x3), the 'g--' argument results in dashed green line\n",
    "# use np.squeeze to convert 2d array row vector to 1d array\n",
    "plt.figure()\n",
    "plt.plot(np.squeeze(x3), np.squeeze(y3), 'g--')\n",
    "plt.title('Plot of y=exp(x)')\n",
    "plt.show()"
   ]
  },
  {
   "cell_type": "markdown",
   "metadata": {},
   "source": [
    "## Object Oriented Approach"
   ]
  },
  {
   "cell_type": "code",
   "execution_count": null,
   "metadata": {},
   "outputs": [],
   "source": [
    "# initialize figure object\n",
    "fig = plt.figure()\n",
    "# add set of axes to figure \n",
    "ax = fig.add_axes([0,0,1,1])\n",
    "# plot x^2 and x^3 on same canvas with legend\n",
    "ax.plot(x2, x2**2, 'bo', label='X^2')\n",
    "ax.plot(x2, x2**3, 'r-', label='X^3')\n",
    "ax.legend()\n",
    "\n",
    "plt.show()"
   ]
  },
  {
   "cell_type": "markdown",
   "metadata": {},
   "source": [
    "## Subplots"
   ]
  },
  {
   "cell_type": "code",
   "execution_count": null,
   "metadata": {},
   "outputs": [],
   "source": [
    "plt.figure()\n",
    "# 1 row 2 columns first plot\n",
    "plt.subplot(1, 2, 1)\n",
    "# specify linestyle and color explicitly\n",
    "# specify linewidth and alpha=transparency\n",
    "plt.plot(x1, y1, color='orange', linestyle='-', linewidth=2)\n",
    "\n",
    "# 1 row 2 columns second plot\n",
    "plt.subplot(1, 2, 2)\n",
    "plt.plot(x2, y2, color='green', marker='o', linewidth=0.5)\n",
    "\n",
    "plt.show()"
   ]
  },
  {
   "cell_type": "markdown",
   "metadata": {},
   "source": [
    "## Scatter plot"
   ]
  },
  {
   "cell_type": "code",
   "execution_count": null,
   "metadata": {},
   "outputs": [],
   "source": [
    "nfeature = 2\n",
    "nsample = 100\n",
    "# generate array of 2 rows and 100 columns\n",
    "X = np.random.randn(nfeature,nsample)\n",
    "# plot points using row 0 as x coordinate and row 1 as y coordinate\n",
    "# marker \"o\" means dots, s is size\n",
    "# color cm.jet(value) uses value color from jet colormap - here value is 0\n",
    "plt.figure()\n",
    "plt.scatter(X[0,:],X[1,:],color=cm.jet(0),marker=\"o\",s=20)"
   ]
  },
  {
   "cell_type": "markdown",
   "metadata": {},
   "source": [
    "## Scatter plot with different colors\n",
    "Use cm.jet colormap "
   ]
  },
  {
   "cell_type": "code",
   "execution_count": null,
   "metadata": {},
   "outputs": [],
   "source": [
    "fix, ax = plt.subplots()\n",
    "# nclass is the number of different classes\n",
    "nclass = 4\n",
    "# generate random class label 0,1,2, or 3 for each sample\n",
    "nclass_label = np.random.randint(0,nclass,(nsample))\n",
    "# generate color for each sample using jet colormap \n",
    "# each entry of nclass_label/nclass is one of 0, 0.25, 0.50, or 0.75\n",
    "color = cm.jet(nclass_label/nclass)\n",
    "# scatter plot: point index = i will have color index = i\n",
    "scat = ax.scatter(X[0,:],X[1,:], color=color ,marker=\"o\",s=20)"
   ]
  },
  {
   "cell_type": "code",
   "execution_count": null,
   "metadata": {},
   "outputs": [],
   "source": []
  }
 ],
 "metadata": {
  "kernelspec": {
   "display_name": "Python 3",
   "language": "python",
   "name": "python3"
  },
  "language_info": {
   "codemirror_mode": {
    "name": "ipython",
    "version": 3
   },
   "file_extension": ".py",
   "mimetype": "text/x-python",
   "name": "python",
   "nbconvert_exporter": "python",
   "pygments_lexer": "ipython3",
   "version": "3.8.3"
  }
 },
 "nbformat": 4,
 "nbformat_minor": 4
}
