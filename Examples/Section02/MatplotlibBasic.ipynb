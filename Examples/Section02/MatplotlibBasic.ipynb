{
 "cells": [
  {
   "cell_type": "markdown",
   "metadata": {},
   "source": [
    "# Matplotlib Basic Demo"
   ]
  },
  {
   "cell_type": "code",
   "execution_count": null,
   "metadata": {},
   "outputs": [],
   "source": [
    "%matplotlib inline\n",
    "import numpy as np\n",
    "import matplotlib.pyplot as plt"
   ]
  },
  {
   "cell_type": "markdown",
   "metadata": {},
   "source": [
    "## Plot using lists and range"
   ]
  },
  {
   "cell_type": "code",
   "execution_count": null,
   "metadata": {},
   "outputs": [],
   "source": [
    "# simple example of plotting single list of 6 entries\n",
    "y0 = [1,5,2,3,7,2]\n",
    "# plot y0 against indices 0,1,2,3,4,5\n",
    "plt.figure()\n",
    "plt.plot(y0)"
   ]
  },
  {
   "cell_type": "code",
   "execution_count": null,
   "metadata": {},
   "outputs": [],
   "source": [
    "# range of integers\n",
    "x1 = range(0,20)\n",
    "print(\"x1: {}\".format(x1))\n",
    "y1 = x1\n",
    "print(\"y1: {}\".format(y1))"
   ]
  },
  {
   "cell_type": "code",
   "execution_count": null,
   "metadata": {},
   "outputs": [],
   "source": [
    "# plot of y=x, the 'r-' argument means 'r'=red and '-'=solid line \n",
    "plt.figure()\n",
    "plt.plot(x1, y1, 'r-')\n",
    "plt.title('Plot of y=x')\n",
    "plt.xlabel('x label')\n",
    "plt.ylabel('y label')\n",
    "# show is required when running in command window (not required in notebook)\n",
    "plt.show()"
   ]
  },
  {
   "cell_type": "markdown",
   "metadata": {},
   "source": [
    "## Plot using 1d numpy arrays"
   ]
  },
  {
   "cell_type": "code",
   "execution_count": null,
   "metadata": {},
   "outputs": [],
   "source": [
    "# 21 equally spaced points between -5 and 5\n",
    "x2 = np.linspace(-5, 5, 21)\n",
    "print(\"x2: {}\".format(x2))\n",
    "print(\"x2.shape: {}\".format(x2.shape))"
   ]
  },
  {
   "cell_type": "code",
   "execution_count": null,
   "metadata": {},
   "outputs": [],
   "source": [
    "# y = x^2\n",
    "y2 = x2 ** 2\n",
    "print(\"y2: {}\".format(y2))\n",
    "print(\"y2.shape: {}\".format(y2.shape))"
   ]
  },
  {
   "cell_type": "code",
   "execution_count": null,
   "metadata": {},
   "outputs": [],
   "source": [
    "# plot of y=x^2\n",
    "#'b-' means blue solid line\n",
    "# marker = 'o' means plot blue dots at x2 & y2 points\n",
    "plt.figure()\n",
    "plt.plot(x2, y2, 'b-', marker='o')\n",
    "plt.title('Plot of y=x^2')\n",
    "plt.xlabel('x label')\n",
    "plt.ylabel('y label')\n",
    "plt.show()"
   ]
  },
  {
   "cell_type": "markdown",
   "metadata": {},
   "source": [
    "## Subplots"
   ]
  },
  {
   "cell_type": "code",
   "execution_count": null,
   "metadata": {},
   "outputs": [],
   "source": [
    "# create figure with subplots in 1 row and 2 columns\n",
    "fig = plt.subplots(1,2)\n",
    "# create 1st subplot (on left)\n",
    "plt.subplot(1,2,1)\n",
    "# specify linewidth\n",
    "plt.plot(x1, y1, color='orange', linewidth=2)\n",
    "\n",
    "# create 2nd subplot (on right)\n",
    "plt.subplot(1, 2, 2)\n",
    "plt.plot(x2, y2, color='green', linewidth=0.5)\n",
    "\n",
    "plt.show()"
   ]
  },
  {
   "cell_type": "markdown",
   "metadata": {},
   "source": [
    "## Object Oriented Approach"
   ]
  },
  {
   "cell_type": "code",
   "execution_count": null,
   "metadata": {},
   "outputs": [],
   "source": [
    "# initialize figure object\n",
    "fig, ax = plt.subplots()\n",
    "# plot x^2 and x^3 on same canvas with legend\n",
    "y = x2**2\n",
    "z = x2**3\n",
    "# add to the ax object\n",
    "ax.plot(x2, y, 'bo', label='X^2')\n",
    "ax.plot(x2, z, 'r-', label='X^3')\n",
    "ax.legend(loc=\"lower right\")\n",
    "plt.show()"
   ]
  },
  {
   "cell_type": "code",
   "execution_count": null,
   "metadata": {},
   "outputs": [],
   "source": [
    "# object oriented approach with 2x2 subplots\n",
    "fig, ax = plt.subplots(2,2)\n",
    "# add to ax object\n",
    "ax[0,0].plot(x1, y1, color='orange', linewidth=2)\n",
    "ax[0,1].plot(x2, y2, color='green', linewidth=0.5)\n",
    "ax[1,0].plot(x1, y1, color='red', linewidth=2)\n",
    "ax[1,1].plot(x2, y2, color='blue', linewidth=0.5)\n",
    "plt.show()"
   ]
  },
  {
   "cell_type": "code",
   "execution_count": null,
   "metadata": {},
   "outputs": [],
   "source": []
  }
 ],
 "metadata": {
  "kernelspec": {
   "display_name": "Python 3",
   "language": "python",
   "name": "python3"
  },
  "language_info": {
   "codemirror_mode": {
    "name": "ipython",
    "version": 3
   },
   "file_extension": ".py",
   "mimetype": "text/x-python",
   "name": "python",
   "nbconvert_exporter": "python",
   "pygments_lexer": "ipython3",
   "version": "3.8.3"
  }
 },
 "nbformat": 4,
 "nbformat_minor": 4
}
