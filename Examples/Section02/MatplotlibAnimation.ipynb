{
 "cells": [
  {
   "cell_type": "markdown",
   "metadata": {
    "id": "_3GgDlvWRgzw"
   },
   "source": [
    "# **Animations with Matplotlib**"
   ]
  },
  {
   "cell_type": "code",
   "execution_count": null,
   "metadata": {
    "id": "Ip0IvS6fnsJj"
   },
   "outputs": [],
   "source": [
    "from IPython.display import HTML\n",
    "import matplotlib.animation as animation\n",
    "import matplotlib.pyplot as plt\n",
    "from matplotlib import cm\n",
    "import numpy as np"
   ]
  },
  {
   "cell_type": "markdown",
   "metadata": {},
   "source": [
    "## Create Dataset"
   ]
  },
  {
   "cell_type": "code",
   "execution_count": null,
   "metadata": {},
   "outputs": [],
   "source": [
    "# create random data set 2 dimensions and 200 samples\n",
    "ndimension = 2\n",
    "nsample = 200\n",
    "X = np.random.randn(ndimension,nsample)"
   ]
  },
  {
   "cell_type": "markdown",
   "metadata": {},
   "source": [
    "## Basic Scatter Plot"
   ]
  },
  {
   "cell_type": "code",
   "execution_count": null,
   "metadata": {},
   "outputs": [],
   "source": [
    "fig, ax = plt.subplots()\n",
    "# ncluster is the number of different clusters\n",
    "ncluster = 4\n",
    "# generate random cluster label 0,1,2, or 3 for each sample\n",
    "ncluster_label = np.random.randint(0,ncluster,(nsample))\n",
    "# generate color for each sample using jet colormap \n",
    "# each entry of ncluster_label/ncluster is one of 0.25, 0.5, 0.75, or 1.00\n",
    "color = cm.jet((1+ncluster_label)/ncluster)\n",
    "# point i will have color index i\n",
    "ax.scatter(X[0,:],X[1,:], color=color ,marker=\"o\",s=20)\n",
    "plt.show()"
   ]
  },
  {
   "cell_type": "markdown",
   "metadata": {
    "id": "ID2yctcyRwSY"
   },
   "source": [
    "## Animation Using **FuncAnimation**\n",
    "Creates an animation by repeatedly calling an update function."
   ]
  },
  {
   "cell_type": "code",
   "execution_count": null,
   "metadata": {
    "colab": {
     "base_uri": "https://localhost:8080/",
     "height": 586
    },
    "id": "xb3_Yw8-Rt8w",
    "outputId": "1f058ca6-0ae6-4aba-cc31-877e5fa47571"
   },
   "outputs": [],
   "source": [
    "# create cluster data\n",
    "# for each frame clustersave[frame] is 1d array of random integers between 0 and ncluster-1 for each data point\n",
    "nframe = 25\n",
    "clustersave = [np.random.randint(0,ncluster,(nsample)) for _ in range(nframe)]\n",
    "\n",
    "# create plotting object\n",
    "fig,ax = plt.subplots()\n",
    "# create scat to hold scatter plot information\n",
    "scat = ax.scatter(X[0,:], X[1,:], marker=\"o\", s=20)\n",
    "\n",
    "# the function that controls what is updated in the animation at each frame\n",
    "# must have at least 1 argument: frame_number is integer\n",
    "# scatter, clustersave, ncluster are optional\n",
    "# function updates color for each frame for scatter object\n",
    "def update(frame_number, scatter, clustersave, ncluster):\n",
    "    # compute color \n",
    "    array_color = cm.jet((1+clustersave[frame_number])/ncluster)\n",
    "    # update the color\n",
    "    scatter.set_color(array_color)\n",
    "    return scatter,\n",
    "\n",
    "# fargs are the optional arguments in the update function\n",
    "# interval is time between frame updates in milliseconds (500 = 0.5 seconds)\n",
    "ani = animation.FuncAnimation(fig=fig, func=update, frames=nframe, fargs=(scat, clustersave, ncluster),\n",
    "                                   interval=500, repeat = False, blit=True)\n",
    "\n",
    "# animation must be convereted to HTML video for displaying on Jupyter Notebooks\n",
    "vid = HTML(ani.to_html5_video())\n",
    "vid"
   ]
  },
  {
   "cell_type": "code",
   "execution_count": null,
   "metadata": {
    "id": "s-_KPQYIX4f9"
   },
   "outputs": [],
   "source": []
  }
 ],
 "metadata": {
  "colab": {
   "collapsed_sections": [],
   "name": "Animation-demo2.ipynb",
   "provenance": []
  },
  "kernelspec": {
   "display_name": "Python 3",
   "language": "python",
   "name": "python3"
  },
  "language_info": {
   "codemirror_mode": {
    "name": "ipython",
    "version": 3
   },
   "file_extension": ".py",
   "mimetype": "text/x-python",
   "name": "python",
   "nbconvert_exporter": "python",
   "pygments_lexer": "ipython3",
   "version": "3.8.3"
  }
 },
 "nbformat": 4,
 "nbformat_minor": 1
}
