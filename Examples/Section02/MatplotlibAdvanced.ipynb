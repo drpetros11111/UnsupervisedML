{
 "cells": [
  {
   "cell_type": "markdown",
   "metadata": {
    "id": "_3GgDlvWRgzw"
   },
   "source": [
    "# Matplotlib Advanced"
   ]
  },
  {
   "cell_type": "code",
   "execution_count": null,
   "metadata": {
    "id": "Ip0IvS6fnsJj"
   },
   "outputs": [],
   "source": [
    "%matplotlib inline\n",
    "from IPython.display import HTML\n",
    "import matplotlib.animation as animation\n",
    "import matplotlib.pyplot as plt\n",
    "from matplotlib import cm\n",
    "import numpy as np"
   ]
  },
  {
   "cell_type": "markdown",
   "metadata": {},
   "source": [
    "## Colormesh"
   ]
  },
  {
   "cell_type": "code",
   "execution_count": null,
   "metadata": {},
   "outputs": [],
   "source": [
    "# create dataset\n",
    "X = np.random.randn(5,5)\n",
    "X"
   ]
  },
  {
   "cell_type": "code",
   "execution_count": null,
   "metadata": {},
   "outputs": [],
   "source": [
    "# create \"colormesh\"\n",
    "fig,ax = plt.subplots()\n",
    "# smallest entry mapped to blue largest entry mapped to brown as per \"jet\" colormap\n",
    "# (0,0) entry of X is bottom left of image\n",
    "ax.pcolormesh(X,cmap = \"jet\",shading=\"auto\")"
   ]
  },
  {
   "cell_type": "code",
   "execution_count": null,
   "metadata": {},
   "outputs": [],
   "source": [
    "# apply flipud so (0,0) of np.flipud(X) is top left of image\n",
    "np.flipud(X)"
   ]
  },
  {
   "cell_type": "markdown",
   "metadata": {},
   "source": [
    "## Scatter Plots"
   ]
  },
  {
   "cell_type": "code",
   "execution_count": null,
   "metadata": {},
   "outputs": [],
   "source": [
    "# create random data set 2 dimensions and 50 samples\n",
    "ndimension = 2\n",
    "nsample = 50\n",
    "X = np.random.randn(ndimension,nsample)\n",
    "# print out first 5 columns\n",
    "X[:,0:5]"
   ]
  },
  {
   "cell_type": "markdown",
   "metadata": {},
   "source": [
    "### Basic Scatter Plot\n",
    "All data points in same color"
   ]
  },
  {
   "cell_type": "code",
   "execution_count": null,
   "metadata": {},
   "outputs": [],
   "source": [
    "fig, ax = plt.subplots()\n",
    "# plot points using row 0 as x coordinate and row 1 as y coordinate\n",
    "# marker \"o\" means dots, s is size\n",
    "# color cm.jet(value) uses value from jet colormap - here value is 0.0\n",
    "color = cm.jet(0.0)\n",
    "ax.scatter(X[0,:],X[1,:],color=color,marker=\"o\",s=20)\n",
    "plt.show()"
   ]
  },
  {
   "cell_type": "markdown",
   "metadata": {},
   "source": [
    "### Advanced Scatter Plot\n",
    "Color for each data point based on cluster label info"
   ]
  },
  {
   "cell_type": "code",
   "execution_count": null,
   "metadata": {},
   "outputs": [],
   "source": [
    "# ncluster is the number of different clusters\n",
    "ncluster = 4\n",
    "# generate random cluster label 0,1,2, or 3 for each sample\n",
    "cluster_value = np.random.randint(0,ncluster,nsample)\n",
    "cluster_value"
   ]
  },
  {
   "cell_type": "code",
   "execution_count": null,
   "metadata": {},
   "outputs": [],
   "source": [
    "fig, ax = plt.subplots()\n",
    "# generate color for each sample using jet colormap \n",
    "# each entry of (1+cluster_value)/ncluster is one of 0.25, 0.5, 0.75, or 1.00\n",
    "color = cm.jet((1+cluster_value)/ncluster)\n",
    "# point i will have color index i\n",
    "ax.scatter(X[0,:],X[1,:], color=color ,marker=\"o\",s=20)\n",
    "plt.show()"
   ]
  },
  {
   "cell_type": "markdown",
   "metadata": {},
   "source": [
    "Alternative approach looping over cluster_label values (allows addition of legend)"
   ]
  },
  {
   "cell_type": "code",
   "execution_count": null,
   "metadata": {},
   "outputs": [],
   "source": [
    "fig, ax = plt.subplots()\n",
    "for value in range(ncluster):\n",
    "    # find indices for value using np.where\n",
    "    idx_value = np.where(cluster_value==value)[0]\n",
    "    # specify color\n",
    "    color = cm.jet((1+value)/ncluster)\n",
    "    # scatter plot for points for specified value - include label for legend\n",
    "    ax.scatter(X[0,idx_value],X[1,idx_value], color=color ,marker=\"o\",s=20,label=str(value))\n",
    "plt.legend()\n",
    "plt.show()"
   ]
  },
  {
   "cell_type": "markdown",
   "metadata": {
    "id": "ID2yctcyRwSY"
   },
   "source": [
    "## Animation Using **FuncAnimation**\n",
    "Creates an animation (change color of points in scatter plot) by repeatedly calling an update function."
   ]
  },
  {
   "cell_type": "code",
   "execution_count": null,
   "metadata": {
    "colab": {
     "base_uri": "https://localhost:8080/",
     "height": 586
    },
    "id": "xb3_Yw8-Rt8w",
    "outputId": "1f058ca6-0ae6-4aba-cc31-877e5fa47571"
   },
   "outputs": [],
   "source": [
    "# create cluster data\n",
    "# for each frame clustersave[frame] is 1d array of random integers between 0 and ncluster-1 for each data point\n",
    "nframe = 25\n",
    "clustersave = [np.random.randint(0,ncluster,nsample) for _ in range(nframe)]\n",
    "\n",
    "# create plotting object\n",
    "fig,ax = plt.subplots()\n",
    "# create scat to hold scatter plot information\n",
    "scat = ax.scatter(X[0,:], X[1,:], marker=\"o\", s=20)\n",
    "\n",
    "# the function that controls what is updated in the animation at each frame\n",
    "# must have at least 1 argument: frame_number is integer\n",
    "# scatter, clustersave, ncluster are optional\n",
    "# function updates color for each frame for scatter object\n",
    "def update(frame_number, scatter, clustersave, ncluster):\n",
    "    # compute color \n",
    "    array_color = cm.jet((1+clustersave[frame_number])/ncluster)\n",
    "    # update the color\n",
    "    scatter.set_color(array_color)\n",
    "    return scatter,\n",
    "\n",
    "# fargs are the optional arguments in the update function\n",
    "# interval is time between frame updates in milliseconds (500 = 0.5 seconds)\n",
    "ani = animation.FuncAnimation(fig=fig, func=update, frames=nframe, fargs=(scat, clustersave, ncluster),\n",
    "                                   interval=500, repeat = False, blit=True)\n",
    "\n",
    "# animation must be convereted to HTML video for displaying on Jupyter Notebooks\n",
    "#vid = HTML(ani.to_html5_video())\n",
    "#vid\n",
    "plt.rcParams[\"animation.html\"] = \"jshtml\"\n",
    "plt.close()\n",
    "ani"
   ]
  },
  {
   "cell_type": "markdown",
   "metadata": {
    "id": "s-_KPQYIX4f9"
   },
   "source": [
    "Creates an animation (change location of points) by repeatedly calling an update function."
   ]
  },
  {
   "cell_type": "code",
   "execution_count": null,
   "metadata": {},
   "outputs": [],
   "source": [
    "# create of random list of datasets - each dataset is 5 points in 2 dimension\n",
    "nframe = 25\n",
    "ndimension = 2\n",
    "nsample = 5\n",
    "datasave = [np.random.randn(ndimension,nsample) for _ in range(nframe)]\n",
    "\n",
    "# create plotting object\n",
    "fig,ax = plt.subplots()\n",
    "ax.set_xlim(-5,5)\n",
    "ax.set_ylim(-5,5)\n",
    "# create scat to hold scatter plot information (use 0th frame of datasave) fix the color\n",
    "color = cm.jet((1+np.arange(0,nsample))/nsample)\n",
    "scat = ax.scatter(datasave[0][0,:],datasave[0][1,:], color = color, marker = \"s\", s=50)\n",
    "\n",
    "# the function that controls what is updated in the animation at each frame\n",
    "# must have at least 1 argument: frame_number is integer\n",
    "# scatter, datasave are optional\n",
    "# function updates location of dataponts for each frame for scatter object\n",
    "def update(frame_number, scatter, datasave):\n",
    "    # update location - should be 2d array with dimensions (nsample,ndimension) so take transpose of datasave[]\n",
    "    scatter.set_offsets(datasave[frame_number].T)\n",
    "    return scatter,\n",
    "\n",
    "# fargs are the optional arguments in the update function\n",
    "# interval is time between frame updates in milliseconds (500 = 0.5 seconds)\n",
    "ani = animation.FuncAnimation(fig=fig, func=update, frames=nframe, fargs=(scat, datasave),\n",
    "                                   interval=500, repeat = False, blit=True)\n",
    "\n",
    "# animation must be convereted to HTML video for displaying on Jupyter Notebooks\n",
    "#vid = HTML(ani.to_html5_video())\n",
    "#vid\n",
    "plt.rcParams[\"animation.html\"] = \"jshtml\"\n",
    "plt.close()\n",
    "ani"
   ]
  },
  {
   "cell_type": "code",
   "execution_count": null,
   "metadata": {},
   "outputs": [],
   "source": []
  }
 ],
 "metadata": {
  "colab": {
   "collapsed_sections": [],
   "name": "Animation-demo2.ipynb",
   "provenance": []
  },
  "kernelspec": {
   "display_name": "Python 3",
   "language": "python",
   "name": "python3"
  },
  "language_info": {
   "codemirror_mode": {
    "name": "ipython",
    "version": 3
   },
   "file_extension": ".py",
   "mimetype": "text/x-python",
   "name": "python",
   "nbconvert_exporter": "python",
   "pygments_lexer": "ipython3",
   "version": "3.8.3"
  }
 },
 "nbformat": 4,
 "nbformat_minor": 1
}
