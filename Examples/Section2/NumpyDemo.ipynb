{
 "cells": [
  {
   "cell_type": "markdown",
   "metadata": {},
   "source": [
    "# NumPy Demo\n",
    "NumPy is a package for scientific computing with Python."
   ]
  },
  {
   "cell_type": "code",
   "execution_count": null,
   "metadata": {},
   "outputs": [],
   "source": [
    "import numpy as np"
   ]
  },
  {
   "cell_type": "markdown",
   "metadata": {},
   "source": [
    "## Array Creation and Indexing"
   ]
  },
  {
   "cell_type": "code",
   "execution_count": null,
   "metadata": {},
   "outputs": [],
   "source": [
    "# convert list to numpy array\n",
    "a = np.array([2,7,1])\n",
    "print(\"1d array: a: {}\".format(a))\n",
    "print(\"1d array: a.shape: {}\".format(a.shape))\n",
    "print(\"Index into array entry index 2: {}\".format(a[2]))"
   ]
  },
  {
   "cell_type": "code",
   "execution_count": null,
   "metadata": {},
   "outputs": [],
   "source": [
    "# example: 2d-array as row vector\n",
    "# A = [2,7,1]\n",
    "# Define A as list of list for each row\n",
    "A = np.array([[2,7,1]])\n",
    "print(\"2d row matrix: A: {}\".format(A))\n",
    "print(\"2d row matrix: A.shape: {}\".format(A.shape))\n",
    "print(\"Index into matrix entry index row=0,col=2: {}\".format(A[0,2]))"
   ]
  },
  {
   "cell_type": "code",
   "execution_count": null,
   "metadata": {},
   "outputs": [],
   "source": [
    "# example: 2d-array as column vector\n",
    "# each row is a list\n",
    "# Define B as list of list for each row\n",
    "# B = [2]\n",
    "#     [7]\n",
    "#     [1]\n",
    "B = np.array([[2],[7],[1]])\n",
    "print(\"2d column matrix: B: \\n{}\".format(B))\n",
    "print(\"2d column matrix: B.shape: {}\".format(B.shape))\n",
    "print(\"Index into matrix entry index row=1,col=0: {}\".format(B[1,0]))"
   ]
  },
  {
   "cell_type": "code",
   "execution_count": null,
   "metadata": {},
   "outputs": [],
   "source": [
    "# example: matrix\n",
    "# X = [1 2 3]\n",
    "#     [4 5 6]\n",
    "# Define X as list of list for each row\n",
    "X = np.array([[1,2,3],[4,5,6]])\n",
    "print(\"2d array: X: \\n{}\".format(X))\n",
    "print(\"2d array: X.shape: {}\".format(X.shape))\n",
    "print(\"Index into matrix entry index row=1,col=1: {}\".format(X[1,1]))"
   ]
  },
  {
   "cell_type": "markdown",
   "metadata": {},
   "source": [
    "## Component-wise Operations"
   ]
  },
  {
   "cell_type": "code",
   "execution_count": null,
   "metadata": {},
   "outputs": [],
   "source": [
    "# X = [1 2 3]\n",
    "#     [4 5 6]\n",
    "# Y = [1 -1  2]\n",
    "#     [2  3 -2]\n",
    "X = np.array([[1,2,3],[4,5,6]])\n",
    "Y = np.array([[1,-1,2],[2,3,-2]])\n",
    "print(\"X: \\n{}\".format(X))\n",
    "print(\"Y: \\n{}\".format(Y))"
   ]
  },
  {
   "cell_type": "markdown",
   "metadata": {},
   "source": [
    "### Component-wise Addition\n",
    "Component-wise addition, the result will be an array of the same dimension as the inputs"
   ]
  },
  {
   "cell_type": "code",
   "execution_count": null,
   "metadata": {},
   "outputs": [],
   "source": [
    "Z1 = X + Y\n",
    "print(\"Z1=X+Y: \\n{}\".format(Z1))"
   ]
  },
  {
   "cell_type": "markdown",
   "metadata": {},
   "source": [
    "### Scalar Multiplication\n",
    "Multiply each element by a scalar"
   ]
  },
  {
   "cell_type": "code",
   "execution_count": null,
   "metadata": {},
   "outputs": [],
   "source": [
    "Z2 = 2*X\n",
    "print(\"Z2=2*X: \\n{}\".format(Z2))"
   ]
  },
  {
   "cell_type": "markdown",
   "metadata": {},
   "source": [
    "### Component-wise Multipication\n",
    "Component-wise multiplication (this is not matrix multiplication), the result will be an array of the same dimension as the inputs"
   ]
  },
  {
   "cell_type": "code",
   "execution_count": null,
   "metadata": {},
   "outputs": [],
   "source": [
    "Z3 = X*Y\n",
    "print(\"X: \\n{}\".format(X))\n",
    "print(\"Y: \\n{}\".format(Y))\n",
    "print(\"Z3=X*Y: \\n{}\".format(Z3))"
   ]
  },
  {
   "cell_type": "markdown",
   "metadata": {},
   "source": [
    "## Functions"
   ]
  },
  {
   "cell_type": "markdown",
   "metadata": {},
   "source": [
    "### Absolute Value\n",
    "Take the abslute value of each element"
   ]
  },
  {
   "cell_type": "code",
   "execution_count": null,
   "metadata": {},
   "outputs": [],
   "source": [
    "Yabs = np.absolute(Y)\n",
    "print(\"Y: \\n{}\".format(Y))\n",
    "print(\"Absolute Value of Y: \\n{}\".format(Yabs))"
   ]
  },
  {
   "cell_type": "markdown",
   "metadata": {},
   "source": [
    "### Square\n",
    "Take the square of each element"
   ]
  },
  {
   "cell_type": "code",
   "execution_count": null,
   "metadata": {},
   "outputs": [],
   "source": [
    "Xsq = np.square(X)\n",
    "print(\"X: \\n{}\".format(X))\n",
    "print(\"Square of X: \\n{}\".format(Xsq))"
   ]
  },
  {
   "cell_type": "markdown",
   "metadata": {},
   "source": [
    "## Concatenation"
   ]
  },
  {
   "cell_type": "code",
   "execution_count": null,
   "metadata": {},
   "outputs": [],
   "source": [
    "X = np.array([[1,2,3],[4,5,6]])\n",
    "Y = np.array([[1,-1,2],[2,3,-2]])\n",
    "print(\"X: \\n{}\".format(X))\n",
    "print(\"Y: \\n{}\".format(Y))\n",
    "# concatenation - in row direction - use axis=0 in 2nd input\n",
    "# result is [1  2  3]\n",
    "#           [4  5  6]\n",
    "#           [1 -1  2]\n",
    "#           [2  3 -2]\n",
    "XandYrow = np.concatenate((X,Y),axis=0)\n",
    "print(\"X and Y concatenated in row direction: \\n{}\".format(XandYrow))\n",
    "# concatenation X and Y - in column direction - use axis=1 in 2nd input\n",
    "# result is [1 2 3 1 -1  2]\n",
    "#           [4 5 6 2  3 -2]\n",
    "XandYcol = np.concatenate((X,Y),axis=1)\n",
    "print(\"X and Y concatenated in column direction: \\n{}\".format(XandYcol))"
   ]
  },
  {
   "cell_type": "markdown",
   "metadata": {},
   "source": [
    "## Summing Entries"
   ]
  },
  {
   "cell_type": "code",
   "execution_count": null,
   "metadata": {},
   "outputs": [],
   "source": [
    "# X = [1 2 3]\n",
    "#     [4 5 6]\n",
    "X = np.array([[1,2,3],[4,5,6]])\n",
    "print(\"X: \\n{}\".format(X))\n",
    "# sum all entries\n",
    "sum1 = np.sum(X)\n",
    "print(\"sum entries of x: {}\".format(sum1))"
   ]
  },
  {
   "cell_type": "code",
   "execution_count": null,
   "metadata": {},
   "outputs": [],
   "source": [
    "# sum in row direction - this removes an axis -> 1d array [5 7 9]\n",
    "rowsum1 = np.sum(X,axis=0)\n",
    "print(\"sum in row direction X: \\n{}\".format(rowsum1))\n",
    "print(\"rowsum1.shape: {}\".format(rowsum1.shape))"
   ]
  },
  {
   "cell_type": "code",
   "execution_count": null,
   "metadata": {},
   "outputs": [],
   "source": [
    "# sum in row direction - keep row axis -> row matrix [5 7 9]\n",
    "rowsum2 = np.sum(X,axis=0,keepdims=True)\n",
    "print(\"sum in row direction X keep row axis: \\n{}\".format(rowsum2))\n",
    "print(\"rowsum2.shape: {}\".format(rowsum2.shape))"
   ]
  },
  {
   "cell_type": "code",
   "execution_count": null,
   "metadata": {},
   "outputs": [],
   "source": [
    "# sum in column direction - keep column axis -> 2darray\n",
    "colsum1 = np.sum(X,axis=1,keepdims=True)\n",
    "print(\"sum in column direction keep col axis: \\n{}\".format(colsum1))\n",
    "print(\"colsum1.shape: {}\".format(colsum1.shape))"
   ]
  },
  {
   "cell_type": "markdown",
   "metadata": {},
   "source": [
    "## Array of Zeros"
   ]
  },
  {
   "cell_type": "code",
   "execution_count": null,
   "metadata": {},
   "outputs": [],
   "source": [
    "# generate zero matrix dimension (3,2)\n",
    "Z0 = np.zeros((3,2))\n",
    "print(\"zero matrix: \\n{}\".format(Z0))"
   ]
  },
  {
   "cell_type": "markdown",
   "metadata": {},
   "source": [
    "## Array of Random Numbers"
   ]
  },
  {
   "cell_type": "code",
   "execution_count": null,
   "metadata": {},
   "outputs": [],
   "source": [
    "# generate random matrix  dim (2,3) - uniform distribution\n",
    "Runiform = np.random.rand(2,3)\n",
    "print(\"Runiform: \\n{}\".format(Runiform))"
   ]
  },
  {
   "cell_type": "code",
   "execution_count": null,
   "metadata": {},
   "outputs": [],
   "source": [
    "# generate random matrix  dim (2,3) - normal distribution\n",
    "# set seed first\n",
    "np.random.seed(10)\n",
    "Rnormal = np.random.randn(2,3)\n",
    "print(\"Rnormal: \\n{}\".format(Rnormal))"
   ]
  }
 ],
 "metadata": {
  "kernelspec": {
   "display_name": "IntroML-env",
   "language": "python",
   "name": "introml-env"
  },
  "language_info": {
   "codemirror_mode": {
    "name": "ipython",
    "version": 3
   },
   "file_extension": ".py",
   "mimetype": "text/x-python",
   "name": "python",
   "nbconvert_exporter": "python",
   "pygments_lexer": "ipython3",
   "version": "3.7.1"
  }
 },
 "nbformat": 4,
 "nbformat_minor": 2
}
