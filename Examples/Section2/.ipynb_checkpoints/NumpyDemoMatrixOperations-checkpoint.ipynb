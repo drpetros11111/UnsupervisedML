{
 "cells": [
  {
   "cell_type": "markdown",
   "metadata": {},
   "source": [
    "# NumPy Demo Matrix Operations\n",
    "NumPy is a package for scientific computing with Python. This notebook has examples of matrix operations."
   ]
  },
  {
   "cell_type": "code",
   "execution_count": null,
   "metadata": {},
   "outputs": [],
   "source": [
    "import numpy as np"
   ]
  },
  {
   "cell_type": "markdown",
   "metadata": {},
   "source": [
    "## Dot Product\n",
    "Use np.dot() function to compute dot product of 1d arrays -> result is a scalar"
   ]
  },
  {
   "cell_type": "code",
   "execution_count": null,
   "metadata": {},
   "outputs": [],
   "source": [
    "# X and Y are 1d arrays\n",
    "X = np.array([1,2,3])\n",
    "Y = np.array([4,5,6])\n",
    "z = np.dot(X,Y)\n",
    "print(\"z: {}\".format(z))"
   ]
  },
  {
   "cell_type": "markdown",
   "metadata": {},
   "source": [
    "Use np.dot() function to compute dot product of 2d row vector and 2d column vector -> result is a 2d array (1x1)"
   ]
  },
  {
   "cell_type": "code",
   "execution_count": null,
   "metadata": {},
   "outputs": [],
   "source": [
    "# if X and Y are 2d arrays, then X needs to be a 2d row vector and Y needs to be a 2d column vector\n",
    "# X = [1,2,3]\n",
    "# Y = [4]\n",
    "#     [5]\n",
    "#     [6]\n",
    "X = np.array([[1,2,3]])\n",
    "Y = np.array([[4],[5],[6]])\n",
    "z = np.dot(X,Y)\n",
    "print(\"z: {}\".format(z))\n",
    "print(\"z.shape: {}\".format(z.shape))"
   ]
  },
  {
   "cell_type": "markdown",
   "metadata": {},
   "source": [
    "Use np.dot() function to compute dot product of 2d row vector and transpose of 2d column vector -> result is same as above"
   ]
  },
  {
   "cell_type": "code",
   "execution_count": null,
   "metadata": {},
   "outputs": [],
   "source": [
    "# if X and Y are 2d arrays row vectors, then take transpose of Y (using .T attribute) before computing dot producct\n",
    "# X = [1,2,3]\n",
    "# Y = [4,5,6]\n",
    "X = np.array([[1,2,3]])\n",
    "Y = np.array([[4,5,6]])\n",
    "z = np.dot(X,Y.T)\n",
    "print(\"z: {}\".format(z))\n",
    "print(\"z.shape: {}\".format(z.shape))"
   ]
  },
  {
   "cell_type": "markdown",
   "metadata": {},
   "source": [
    "## Matrix multiplication\n",
    "Use np.dot() function"
   ]
  },
  {
   "cell_type": "code",
   "execution_count": null,
   "metadata": {},
   "outputs": [],
   "source": [
    "# X = [1 2]\n",
    "#     [3 4]\n",
    "# Y = [5 6]\n",
    "#     [7 8]\n",
    "X = np.array([[1,2],[3,4]])\n",
    "Y = np.array([[5,6],[7,8]])\n",
    "Z = np.dot(X,Y)\n",
    "print(\"Z: \\n{}\".format(Z))"
   ]
  },
  {
   "cell_type": "markdown",
   "metadata": {},
   "source": [
    "## Matrix Inverse\n",
    "use np.linalg.inv() function"
   ]
  },
  {
   "cell_type": "code",
   "execution_count": null,
   "metadata": {},
   "outputs": [],
   "source": [
    "X = np.array([[1,2],[4,5]])\n",
    "Z = np.linalg.inv(X)\n",
    "print(\"X: \\n{}\".format(X))\n",
    "print(\"X inverse: \\n{}\".format(Z))\n",
    "# confirm inverse calculation\n",
    "XZ = np.dot(X,Z)\n",
    "print(\"Check X*Xinverse: \\n{}\".format(XZ))"
   ]
  },
  {
   "cell_type": "markdown",
   "metadata": {},
   "source": [
    "## Determinant\n",
    "use np.linalg.det() to compute determinant of a matrix"
   ]
  },
  {
   "cell_type": "code",
   "execution_count": null,
   "metadata": {},
   "outputs": [],
   "source": [
    "# X = [1 2]\n",
    "#     [3 4]\n",
    "X = np.array([[1,2],[3,4]])\n",
    "d = np.linalg.det(X)\n",
    "print(\"determinant of X: \\n{}\".format(d))"
   ]
  }
 ],
 "metadata": {
  "kernelspec": {
   "display_name": "IntroML-env",
   "language": "python",
   "name": "introml-env"
  },
  "language_info": {
   "codemirror_mode": {
    "name": "ipython",
    "version": 3
   },
   "file_extension": ".py",
   "mimetype": "text/x-python",
   "name": "python",
   "nbconvert_exporter": "python",
   "pygments_lexer": "ipython3",
   "version": "3.7.1"
  }
 },
 "nbformat": 4,
 "nbformat_minor": 2
}
