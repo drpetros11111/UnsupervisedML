{
 "cells": [
  {
   "cell_type": "markdown",
   "metadata": {
    "id": "_3GgDlvWRgzw"
   },
   "source": [
    "# **Animations with Matplotlib**"
   ]
  },
  {
   "cell_type": "code",
   "execution_count": null,
   "metadata": {
    "id": "Ip0IvS6fnsJj"
   },
   "outputs": [],
   "source": [
    "from IPython.display import HTML\n",
    "import matplotlib.animation as animation\n",
    "import matplotlib.pyplot as plt\n",
    "import numpy as np"
   ]
  },
  {
   "cell_type": "markdown",
   "metadata": {},
   "source": [
    "## Animation Using **ArtistAnimation**\n",
    "\n",
    "Creates an Animation using a fixed set of Artist objects. Click here to see the [documentation.](https://matplotlib.org/api/_as_gen/matplotlib.animation.ArtistAnimation.html#matplotlib.animation.ArtistAnimation)"
   ]
  },
  {
   "cell_type": "code",
   "execution_count": null,
   "metadata": {},
   "outputs": [],
   "source": [
    "# create random data 2 features and 200 samples\n",
    "nfeature = 2\n",
    "nsample = 200\n",
    "X = np.random.randn(nfeature,nsample)\n",
    "\n",
    "fig = plt.figure()\n",
    "plt.xlabel('x')\n",
    "plt.ylabel('y')\n",
    "plt.title('Animation Using ArtistAnimation')\n",
    "\n",
    "# create a list of scatter plots where list_frames[i] is the plot shown at frame_number i\n",
    "list_frames = []\n",
    "nframe = 25\n",
    "for frame_num in range(nframe):\n",
    "    # create a random label for each data point and plot \n",
    "    colors = np.random.randint(3, size=X.shape[1])\n",
    "    frame = plt.scatter(X[0,:],X[1,:], c=colors)\n",
    "    list_frames.append([frame])\n",
    "\n",
    "# create animation object: fig is the figure object, artists is the list of frames,\n",
    "# interval is time between frames in milliseconds\n",
    "ani = animation.ArtistAnimation(fig=fig, artists=list_frames, interval=500, blit=True)\n",
    "\n",
    "# animation must be convereted to HTML video for displaying on Jupyter Notebooks\n",
    "vid = HTML(ani.to_html5_video())\n",
    "vid"
   ]
  },
  {
   "cell_type": "markdown",
   "metadata": {
    "id": "ID2yctcyRwSY"
   },
   "source": [
    "## Animation Using **FuncAnimation**\n",
    "Creates an animation by repeatedly calling an update function.\n",
    "Click here to see the [documentation.](https://matplotlib.org/api/_as_gen/matplotlib.animation.FuncAnimation.html#matplotlib.animation.FuncAnimation)"
   ]
  },
  {
   "cell_type": "code",
   "execution_count": null,
   "metadata": {
    "colab": {
     "base_uri": "https://localhost:8080/",
     "height": 586
    },
    "id": "xb3_Yw8-Rt8w",
    "outputId": "1f058ca6-0ae6-4aba-cc31-877e5fa47571"
   },
   "outputs": [],
   "source": [
    "# the function that controls what is updated in the figure at at each frame\n",
    "# must have frame_number\n",
    "# nsample and scat are optional\n",
    "def update(frame_number, nsample, scat):\n",
    "    # create a random label for each data point\n",
    "    colors = np.random.randint(3, size=nsample)\n",
    "    scat.set_array(colors)\n",
    "    return scat,\n",
    "\n",
    "# create random data\n",
    "nfeature = 2\n",
    "nsample = 200\n",
    "data = np.random.randn(nfeature,nsample)\n",
    "\n",
    "fig = plt.figure()\n",
    "scat = plt.scatter(data[0,:], data[1,:])\n",
    "plt.xlabel('x')\n",
    "plt.ylabel('y')\n",
    "plt.title('Animation Using FuncAnimation')\n",
    "\n",
    "ani = animation.FuncAnimation(fig=fig, func=update, frames=25, fargs=(nsample, scat),\n",
    "                                   interval=500, blit=True)\n",
    "\n",
    "# animation must be convereted to HTML video for displaying on Jupyter Notebooks\n",
    "vid = HTML(ani.to_html5_video())\n",
    "vid"
   ]
  },
  {
   "cell_type": "code",
   "execution_count": null,
   "metadata": {
    "id": "s-_KPQYIX4f9"
   },
   "outputs": [],
   "source": []
  }
 ],
 "metadata": {
  "colab": {
   "collapsed_sections": [],
   "name": "Animation-demo2.ipynb",
   "provenance": []
  },
  "kernelspec": {
   "display_name": "Python 3",
   "language": "python",
   "name": "python3"
  },
  "language_info": {
   "codemirror_mode": {
    "name": "ipython",
    "version": 3
   },
   "file_extension": ".py",
   "mimetype": "text/x-python",
   "name": "python",
   "nbconvert_exporter": "python",
   "pygments_lexer": "ipython3",
   "version": "3.8.3"
  }
 },
 "nbformat": 4,
 "nbformat_minor": 1
}
