{
 "cells": [
  {
   "cell_type": "markdown",
   "metadata": {},
   "source": [
    "# Principal Component Analysis"
   ]
  },
  {
   "cell_type": "code",
   "execution_count": null,
   "metadata": {},
   "outputs": [],
   "source": [
    "%matplotlib inline\n",
    "import matplotlib.pyplot as plt\n",
    "import numpy as np"
   ]
  },
  {
   "cell_type": "markdown",
   "metadata": {},
   "source": [
    "### Sample Data"
   ]
  },
  {
   "cell_type": "code",
   "execution_count": null,
   "metadata": {},
   "outputs": [],
   "source": [
    "# 4 data points in 3d\n",
    "X = np.array([[1,1.6,-0.5,-1.6],[0.9,1.65,-0.6,-1.5]])\n",
    "print(\"X: \\n{}\".format(X))"
   ]
  },
  {
   "cell_type": "code",
   "execution_count": null,
   "metadata": {},
   "outputs": [],
   "source": [
    "# plot data points\n",
    "fig,ax = plt.subplots()\n",
    "ax.set_aspect(\"equal\")\n",
    "plt.xlim(-2,2)\n",
    "plt.ylim(-2,2)\n",
    "plt.plot([-2,2],[0,0],\"b\")\n",
    "plt.plot([0,0],[-2,2],\"b\")\n",
    "plt.arrow(0,0,X[0,0],X[1,0],length_includes_head=True,head_width=0.1,color=\"b\")\n",
    "plt.arrow(0,0,X[0,1],X[1,1],length_includes_head=True,head_width=0.1,color=\"r\")\n",
    "plt.arrow(0,0,X[0,2],X[1,2],length_includes_head=True,head_width=0.1,color=\"g\")\n",
    "plt.arrow(0,0,X[0,3],X[1,3],length_includes_head=True,head_width=0.1,color=\"c\")\n",
    "plt.text(1.2*X[0,0],X[1,0],\"X0\",fontsize=15)\n",
    "plt.text(1*X[0,1],X[1,1],\"X1\",fontsize=15)\n",
    "plt.text(0.7*X[0,2],X[1,2],\"X2\",fontsize=15)\n",
    "plt.text(0.8*X[0,3],X[1,3],\"X3\",fontsize=15)\n",
    "plt.arrow(0,0,1,0,length_includes_head=True,head_width=0.1,color=\"k\")\n",
    "plt.arrow(0,0,0,1,length_includes_head=True,head_width=0.1,color=\"k\")"
   ]
  },
  {
   "cell_type": "markdown",
   "metadata": {},
   "source": [
    "### SVD"
   ]
  },
  {
   "cell_type": "code",
   "execution_count": null,
   "metadata": {},
   "outputs": [],
   "source": [
    "# compute compact SVD\n",
    "U,Sigma,Vt = np.linalg.svd(X,full_matrices=False)\n",
    "print(\"U: \\n{}\".format(U))\n",
    "print(\"Sigma: {}\".format(Sigma))\n",
    "print(\"Vt: \\n{}\".format(Vt))"
   ]
  },
  {
   "cell_type": "markdown",
   "metadata": {},
   "source": [
    "### Sample Data with u0-u1 vectors"
   ]
  },
  {
   "cell_type": "code",
   "execution_count": null,
   "metadata": {},
   "outputs": [],
   "source": [
    "fig,ax = plt.subplots()\n",
    "ax.set_aspect(\"equal\")\n",
    "plt.xlim(-2,2)\n",
    "plt.ylim(-2,2)\n",
    "plt.plot([-2,2],[0,0],\"b\")\n",
    "plt.plot([0,0],[-2,2],\"b\")\n",
    "plt.arrow(0,0,X[0,0],X[1,0],length_includes_head=True,head_width=0.1,color=\"b\")\n",
    "plt.arrow(0,0,X[0,1],X[1,1],length_includes_head=True,head_width=0.1,color=\"r\")\n",
    "plt.arrow(0,0,X[0,2],X[1,2],length_includes_head=True,head_width=0.1,color=\"g\")\n",
    "plt.arrow(0,0,X[0,3],X[1,3],length_includes_head=True,head_width=0.1,color=\"c\")\n",
    "plt.text(1.2*X[0,0],X[1,0],\"X0\",fontsize=15)\n",
    "plt.text(1*X[0,1],X[1,1],\"X1\",fontsize=15)\n",
    "plt.text(0.7*X[0,2],X[1,2],\"X2\",fontsize=15)\n",
    "plt.text(0.8*X[0,3],X[1,3],\"X3\",fontsize=15)\n",
    "plt.arrow(0,0,U[0,0],U[1,0],length_includes_head=True,head_width=0.1,color=\"k\")\n",
    "plt.arrow(0,0,U[0,1],U[1,1],length_includes_head=True,head_width=0.1,color=\"k\")\n",
    "plt.text(0.3*U[0,0],1.1*U[1,0],\"u0\",fontsize=15)\n",
    "plt.text(1.1*U[0,1],1.1*U[1,1],\"u1\",fontsize=15)\n",
    "plt.arrow(0,0,1,0,length_includes_head=True,head_width=0.1,color=\"k\")\n",
    "plt.arrow(0,0,0,1,length_includes_head=True,head_width=0.1,color=\"k\")"
   ]
  },
  {
   "cell_type": "markdown",
   "metadata": {},
   "source": [
    "### Data points in new coordinate u0-u1 coordinate system"
   ]
  },
  {
   "cell_type": "code",
   "execution_count": null,
   "metadata": {},
   "outputs": [],
   "source": [
    "# represent data points U coordinate system\n",
    "# Row0 is number of units in u0 direction\n",
    "# Row1 is number of units in u1 direction\n",
    "R= np.matmul(np.diag(Sigma),Vt)\n",
    "print(\"R: \\n{}\".format(R))"
   ]
  },
  {
   "cell_type": "code",
   "execution_count": null,
   "metadata": {},
   "outputs": [],
   "source": [
    "fig,ax = plt.subplots()\n",
    "ax.set_aspect(\"equal\")\n",
    "plt.xlim(-3,3)\n",
    "plt.ylim(-3,3)\n",
    "plt.plot([-3,3],[0,0],\"b\")\n",
    "plt.plot([0,0],[-3,3],\"b\")\n",
    "plt.arrow(0,0,R[0,0],R[1,0],length_includes_head=True,head_width=0.1,color=\"b\")\n",
    "plt.arrow(0,0,R[0,1],R[1,1],length_includes_head=True,head_width=0.1,color=\"r\")\n",
    "plt.arrow(0,0,R[0,2],R[1,2],length_includes_head=True,head_width=0.1,color=\"g\")\n",
    "plt.arrow(0,0,R[0,3],R[1,3],length_includes_head=True,head_width=0.1,color=\"c\")\n",
    "plt.text(1*R[0,0],-0.4+R[1,0],\"R0\",fontsize=15)\n",
    "plt.text(1*R[0,1],+0.2+R[1,1],\"R1\",fontsize=15)\n",
    "plt.text(1.2*R[0,2],-0.4+R[1,2],\"R2\",fontsize=15)\n",
    "plt.text(1*R[0,3],0.2+R[1,3],\"R3\",fontsize=15)\n",
    "plt.text(0.7,0.1,\"u0\",fontsize=15)\n",
    "plt.text(0.1,0.9,\"u1\",fontsize=15)\n",
    "plt.arrow(0,0,1,0,length_includes_head=True,head_width=0.1,color=\"k\")\n",
    "plt.arrow(0,0,0,1,length_includes_head=True,head_width=0.1,color=\"k\")"
   ]
  },
  {
   "cell_type": "markdown",
   "metadata": {},
   "source": [
    "### Keep only only 1 principal component"
   ]
  },
  {
   "cell_type": "code",
   "execution_count": null,
   "metadata": {},
   "outputs": [],
   "source": [
    "# keep only component in u0 direction\n",
    "# R is the number of units in u0 direction for each data point\n",
    "# muliply 1x1 version of Sigma with 0th row of V transpose\n",
    "R = np.matmul(np.diag(Sigma[0:1]),Vt[0:1,:])\n",
    "print(\"R: \\n{}\".format(R))"
   ]
  },
  {
   "cell_type": "markdown",
   "metadata": {},
   "source": [
    "### Represent data using reduced number of principal components in original coordinate system"
   ]
  },
  {
   "cell_type": "code",
   "execution_count": null,
   "metadata": {},
   "outputs": [],
   "source": [
    "# multiply by first column of U\n",
    "XR = np.matmul(U[:,0:1],R)\n",
    "print(\"XR: \\n{}\".format(XR))"
   ]
  },
  {
   "cell_type": "code",
   "execution_count": null,
   "metadata": {},
   "outputs": [],
   "source": [
    "fig,ax = plt.subplots()\n",
    "ax.set_aspect(\"equal\")\n",
    "plt.xlim(-2,2)\n",
    "plt.ylim(-2,2)\n",
    "plt.plot([-2,2],[0,0],\"b\")\n",
    "plt.plot([0,0],[-2,2],\"b\")\n",
    "plt.arrow(0,0,XR[0,0],XR[1,0],length_includes_head=True,head_width=0.1,color=\"b\")\n",
    "plt.arrow(0,0,XR[0,1],XR[1,1],length_includes_head=True,head_width=0.1,color=\"r\")\n",
    "plt.arrow(0,0,XR[0,2],XR[1,2],length_includes_head=True,head_width=0.1,color=\"g\")\n",
    "plt.arrow(0,0,XR[0,3],XR[1,3],length_includes_head=True,head_width=0.1,color=\"c\")\n",
    "plt.text(1.2*XR[0,0],XR[1,0],\"XR0\",fontsize=15)\n",
    "plt.text(1*XR[0,1],XR[1,1],\"XR1\",fontsize=15)\n",
    "plt.text(0.7*XR[0,2],XR[1,2],\"XR2\",fontsize=15)\n",
    "plt.text(0.8*XR[0,3],XR[1,3],\"XR3\",fontsize=15)\n",
    "plt.arrow(0,0,U[0,0],U[1,0],length_includes_head=True,head_width=0.1,color=\"k\")\n",
    "plt.arrow(0,0,U[0,1],U[1,1],length_includes_head=True,head_width=0.1,color=\"k\")\n",
    "plt.text(0.3*U[0,0],1.1*U[1,0],\"u0\",fontsize=15)\n",
    "plt.text(1.1*U[0,1],1.1*U[1,1],\"u1\",fontsize=15)\n",
    "plt.arrow(0,0,1,0,length_includes_head=True,head_width=0.1,color=\"k\")\n",
    "plt.arrow(0,0,0,1,length_includes_head=True,head_width=0.1,color=\"k\")"
   ]
  },
  {
   "cell_type": "markdown",
   "metadata": {},
   "source": [
    "### Variance Capture"
   ]
  },
  {
   "cell_type": "code",
   "execution_count": null,
   "metadata": {},
   "outputs": [],
   "source": [
    "# use numpy cumsum to get running total of variance as a function of number of dimensions\n",
    "nsample = 4\n",
    "Sigma = np.array([4,3,2,1])\n",
    "# compute square of each singular value\n",
    "Sigma2 = Sigma**2\n",
    "# use numpy cumsum to compute cumulative sum \n",
    "cumulative_variance = np.cumsum(Sigma2)/(nsample-1)\n",
    "# divide by total cumulative variance (last entry) to get proportion\n",
    "cumulative_variance_proportion = cumulative_variance/cumulative_variance[-1]\n",
    "print(\"Cumulative Variance: {}\".format(cumulative_variance))\n",
    "print(\"Cumulative Variance Proportion: {}\".format(cumulative_variance_proportion))"
   ]
  },
  {
   "cell_type": "markdown",
   "metadata": {},
   "source": [
    "### Dimension Reduction Example\n",
    "Number of dimensions greater than number of data points"
   ]
  },
  {
   "cell_type": "code",
   "execution_count": null,
   "metadata": {},
   "outputs": [],
   "source": [
    "X = np.array([[1,2],[3,4],[4,6],[7,8]])\n",
    "print(\"X: \\n{}\".format(X))\n",
    "X0 = X[:,[0]]\n",
    "X1 = X[:,[1]]\n",
    "print(\"X0: \\n{}\".format(X0))\n",
    "print(\"X1: \\n{}\".format(X1))"
   ]
  },
  {
   "cell_type": "markdown",
   "metadata": {},
   "source": [
    "#### Compute SVD"
   ]
  },
  {
   "cell_type": "code",
   "execution_count": null,
   "metadata": {},
   "outputs": [],
   "source": [
    "# compute compact svd\n",
    "U,Sigma,Vt = np.linalg.svd(X,full_matrices=False)\n",
    "print(\"U: \\n{}\".format(U))\n",
    "print(\"Sigma: {}\".format(Sigma))\n",
    "print(\"Vt: {}\".format(Vt))"
   ]
  },
  {
   "cell_type": "markdown",
   "metadata": {},
   "source": [
    "#### Compute dataset in u0-u1 coordinate system"
   ]
  },
  {
   "cell_type": "code",
   "execution_count": null,
   "metadata": {},
   "outputs": [],
   "source": [
    "R = np.matmul(np.diag(Sigma),Vt)\n",
    "print(\"R: \\n{}\".format(R))\n",
    "# compute distance between R0 and R1\n",
    "R0 = R[:,[0]]\n",
    "R1 = R[:,[1]]\n",
    "print(\"R0: \\n{}\".format(R0))\n",
    "print(\"R1: \\n{}\".format(R1))"
   ]
  },
  {
   "cell_type": "markdown",
   "metadata": {},
   "source": [
    "#### Compute distances between X0 and X1 and R0 and R1"
   ]
  },
  {
   "cell_type": "code",
   "execution_count": null,
   "metadata": {},
   "outputs": [],
   "source": [
    "def dist(X,Y):\n",
    "    return np.sqrt(np.sum(np.square(X-Y)))"
   ]
  },
  {
   "cell_type": "code",
   "execution_count": null,
   "metadata": {},
   "outputs": [],
   "source": [
    "# compute distance between X0 and X1\n",
    "print(\"dist(X0,X1): {}\".format(dist(X0,X1)))"
   ]
  },
  {
   "cell_type": "code",
   "execution_count": null,
   "metadata": {},
   "outputs": [],
   "source": [
    "# compute distance between R0 and R1\n",
    "print(\"dist(R0,R1): {}\".format(dist(R0,R1)))"
   ]
  },
  {
   "cell_type": "code",
   "execution_count": null,
   "metadata": {},
   "outputs": [],
   "source": []
  }
 ],
 "metadata": {
  "kernelspec": {
   "display_name": "Python 3",
   "language": "python",
   "name": "python3"
  },
  "language_info": {
   "codemirror_mode": {
    "name": "ipython",
    "version": 3
   },
   "file_extension": ".py",
   "mimetype": "text/x-python",
   "name": "python",
   "nbconvert_exporter": "python",
   "pygments_lexer": "ipython3",
   "version": "3.8.3"
  }
 },
 "nbformat": 4,
 "nbformat_minor": 4
}
