{
 "cells": [
  {
   "cell_type": "markdown",
   "metadata": {},
   "source": [
    "# Distance Functions"
   ]
  },
  {
   "cell_type": "code",
   "execution_count": null,
   "metadata": {},
   "outputs": [],
   "source": [
    "import numpy as np"
   ]
  },
  {
   "cell_type": "markdown",
   "metadata": {},
   "source": [
    "### Compute L2 distance between 2 vectors"
   ]
  },
  {
   "cell_type": "code",
   "execution_count": null,
   "metadata": {},
   "outputs": [],
   "source": [
    "# X = [1]   Y = [6]\n",
    "#     [2]       [5]\n",
    "#     [3]       [4]\n",
    "X = np.array([[1],[2],[3]])\n",
    "Y = np.array([[6],[5],[4]])\n",
    "print(\"X: \\n{}\".format(X))\n",
    "print(\"Y: \\n{}\".format(Y))"
   ]
  },
  {
   "cell_type": "code",
   "execution_count": null,
   "metadata": {},
   "outputs": [],
   "source": [
    "distance = np.sqrt(np.sum(np.square(X-Y)))\n",
    "print(\"L2 distance: {}\".format(distance))"
   ]
  },
  {
   "cell_type": "markdown",
   "metadata": {},
   "source": [
    "### Compute distance between Y and each of many vectors in Xdata"
   ]
  },
  {
   "cell_type": "code",
   "execution_count": null,
   "metadata": {},
   "outputs": [],
   "source": [
    "# Xdata contains 3 data points\n",
    "# Xdata =[1] [4] [7]\n",
    "#        [2] [5] [8]\n",
    "#        [3] [6] [9]\n",
    "# create 2d array to hold the data\n",
    "Xdata = np.array([[1,4,7],[2,5,8],[3,6,9]])\n",
    "print(\"Xdata: \\n{}\".format(Xdata))\n",
    "print(\"Y: \\n{}\".format(Y))"
   ]
  },
  {
   "cell_type": "code",
   "execution_count": null,
   "metadata": {},
   "outputs": [],
   "source": [
    "distance = np.sqrt(np.sum(np.square(Xdata - Y), axis=0, keepdims=True))\n",
    "print(\"L2 distance between columns of Xdata and Y: {}\".format(distance))"
   ]
  },
  {
   "cell_type": "markdown",
   "metadata": {},
   "source": [
    "### Benefits of \"Vectorization\""
   ]
  },
  {
   "cell_type": "markdown",
   "metadata": {},
   "source": [
    "Compare timing of computing distance between Y and each entry of Xdata by looping versus using above vectorized approach"
   ]
  },
  {
   "cell_type": "code",
   "execution_count": null,
   "metadata": {},
   "outputs": [],
   "source": [
    "import time\n",
    "import matplotlib.pyplot as plt"
   ]
  },
  {
   "cell_type": "code",
   "execution_count": null,
   "metadata": {},
   "outputs": [],
   "source": [
    "list_ndata = [500*i  for i in range(20)]\n",
    "time_loop = []\n",
    "time_vec = []\n",
    "ndim = 2\n",
    "Y = np.random.randn(ndim,1)\n",
    "for ndata in list_ndata:\n",
    "    # Generate Xdata\n",
    "    Xdata = np.random.randn(ndim,ndata)\n",
    "    # Compute L2 distance between Y and each datapoint by looping\n",
    "    time_start_loop = time.time()\n",
    "    distance_loop = np.zeros((1,ndata))\n",
    "    for col in range(ndata):\n",
    "        distance_loop[0,col] = np.sqrt(np.sum(np.square(Xdata[:,[col]] - Y)))\n",
    "    time_loop.append(time.time() - time_start_loop)\n",
    "    # Compute L2 distance between Y and each datapoint all at once\n",
    "    time_start_vec = time.time()\n",
    "    distance_vec = np.sqrt(np.sum(np.square(Xdata - Y),axis=0,keepdims=True))\n",
    "    time_vec.append(time.time() - time_start_vec)\n",
    "    error = np.sqrt(np.sum(np.absolute(distance_loop - distance_vec)))/np.sqrt(np.sum(np.square(Y)))\n",
    "    if error> 1e-10:\n",
    "        print(\"Difference between looping and vectorization: {}\".format(error))\n",
    "# plot timing results\n",
    "plt.figure()\n",
    "plt.plot(list_ndata,time_loop,\"r-\",label=\"loop\")\n",
    "plt.plot(list_ndata,time_vec,\"b-\",label=\"vectorization\")\n",
    "plt.legend(loc=\"upper left\")"
   ]
  },
  {
   "cell_type": "code",
   "execution_count": null,
   "metadata": {},
   "outputs": [],
   "source": []
  }
 ],
 "metadata": {
  "kernelspec": {
   "display_name": "Python 3",
   "language": "python",
   "name": "python3"
  },
  "language_info": {
   "codemirror_mode": {
    "name": "ipython",
    "version": 3
   },
   "file_extension": ".py",
   "mimetype": "text/x-python",
   "name": "python",
   "nbconvert_exporter": "python",
   "pygments_lexer": "ipython3",
   "version": "3.8.3"
  }
 },
 "nbformat": 4,
 "nbformat_minor": 4
}
