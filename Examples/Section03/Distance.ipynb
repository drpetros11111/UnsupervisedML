{
 "cells": [
  {
   "cell_type": "markdown",
   "metadata": {},
   "source": [
    "# Distance Functions"
   ]
  },
  {
   "cell_type": "code",
   "execution_count": null,
   "metadata": {},
   "outputs": [],
   "source": [
    "import numpy as np\n",
    "import time"
   ]
  },
  {
   "cell_type": "markdown",
   "metadata": {},
   "source": [
    "### Compute L2 distance between 2 vectors"
   ]
  },
  {
   "cell_type": "code",
   "execution_count": null,
   "metadata": {},
   "outputs": [],
   "source": [
    "# X = [1]   Y = [6]\n",
    "#     [2]       [5]\n",
    "#     [3]       [4]\n",
    "X = np.array([[1],[2],[3]])\n",
    "Y = np.array([[6],[5],[4]])\n",
    "print(\"X: \\n{}\".format(X))\n",
    "print(\"Y: \\n{}\".format(Y))"
   ]
  },
  {
   "cell_type": "code",
   "execution_count": null,
   "metadata": {},
   "outputs": [],
   "source": [
    "distance = np.sqrt(np.sum(np.square(X-Y),axis=0))\n",
    "print(\"L2 distance: {}\".format(distance))"
   ]
  },
  {
   "cell_type": "markdown",
   "metadata": {},
   "source": [
    "### Compute distance between Y and each of many vectors in Xdata"
   ]
  },
  {
   "cell_type": "code",
   "execution_count": null,
   "metadata": {},
   "outputs": [],
   "source": [
    "# loop over points in Xdata\n",
    "def distance1(Xdata,Y):\n",
    "    # Xdata is dataset/feature matrix with d rows and nsample columns\n",
    "    # Y is a single data point with d rows and 1 column\n",
    "    # ouptut is 1 row and nsample columns\n",
    "    nsample = Xdata.shape[1]\n",
    "    output = np.zeros((1,nsample))\n",
    "    for i in range(nsample):\n",
    "        output[0,i] = np.sqrt(np.sum(np.square(Xdata[:,[i]]-Y),axis=0))\n",
    "    return output"
   ]
  },
  {
   "cell_type": "code",
   "execution_count": null,
   "metadata": {},
   "outputs": [],
   "source": [
    "# use vectorized approach\n",
    "def distance2(Xdata,Y):\n",
    "    # Xdata is dataset/feature matrix with d rows and nsample columns\n",
    "    # Y is a single data point with d rows and 1\n",
    "    # output is 1 row and nsample columns\n",
    "    return np.sqrt(np.sum(np.square(Xdata - Y),axis=0,keepdims=True))"
   ]
  },
  {
   "cell_type": "code",
   "execution_count": null,
   "metadata": {},
   "outputs": [],
   "source": [
    "# Xdata contains 3 data points\n",
    "# Xdata =[1] [4] [7]\n",
    "#        [2] [5] [8]\n",
    "#        [3] [6] [9]\n",
    "# create 2d array to hold the data\n",
    "Xdata = np.array([[1,4,7],[2,5,8],[3,6,9]])\n",
    "print(\"Xdata: \\n{}\".format(Xdata))\n",
    "print(\"Y: \\n{}\".format(Y))"
   ]
  },
  {
   "cell_type": "code",
   "execution_count": null,
   "metadata": {},
   "outputs": [],
   "source": [
    "# compute distance between Xdata and Y: looping approach\n",
    "dist_loop = distance1(Xdata,Y)\n",
    "print(\"distance_loop: {}\".format(dist_loop))\n",
    "dist_vec = distance2(Xdata,Y)\n",
    "print(\"distance_vec: {}\".format(dist_vec))"
   ]
  },
  {
   "cell_type": "markdown",
   "metadata": {},
   "source": [
    "### Timing comparison looping versus vectorized approach"
   ]
  },
  {
   "cell_type": "code",
   "execution_count": null,
   "metadata": {},
   "outputs": [],
   "source": [
    "# create dataset 5 dimensions, 10000 samples\n",
    "Xdata = np.random.randn(5,1000)\n",
    "Y = np.random.randn(5,1)"
   ]
  },
  {
   "cell_type": "code",
   "execution_count": null,
   "metadata": {},
   "outputs": [],
   "source": [
    "# looping case\n",
    "time_start_loop = time.time()\n",
    "dist_loop = distance1(Xdata,Y)\n",
    "time_end_loop = time.time()\n",
    "print(\"Time loop: {}\".format(time_end_loop - time_start_loop))"
   ]
  },
  {
   "cell_type": "code",
   "execution_count": null,
   "metadata": {},
   "outputs": [],
   "source": [
    "# vectorized case\n",
    "time_start_vec = time.time()\n",
    "dist_vec = distance2(Xdata,Y)\n",
    "time_end_vec = time.time()\n",
    "print(\"Time vectorized: {}\".format(time_end_vec - time_start_vec))"
   ]
  },
  {
   "cell_type": "code",
   "execution_count": null,
   "metadata": {},
   "outputs": [],
   "source": [
    "print(\"diff: {}\".format(np.max(np.absolute(dist_loop-dist_vec))))"
   ]
  },
  {
   "cell_type": "code",
   "execution_count": null,
   "metadata": {},
   "outputs": [],
   "source": []
  },
  {
   "cell_type": "code",
   "execution_count": null,
   "metadata": {},
   "outputs": [],
   "source": []
  }
 ],
 "metadata": {
  "kernelspec": {
   "display_name": "Python 3",
   "language": "python",
   "name": "python3"
  },
  "language_info": {
   "codemirror_mode": {
    "name": "ipython",
    "version": 3
   },
   "file_extension": ".py",
   "mimetype": "text/x-python",
   "name": "python",
   "nbconvert_exporter": "python",
   "pygments_lexer": "ipython3",
   "version": "3.8.3"
  }
 },
 "nbformat": 4,
 "nbformat_minor": 4
}
