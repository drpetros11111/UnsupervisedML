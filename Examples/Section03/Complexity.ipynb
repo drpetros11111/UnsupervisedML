{
 "cells": [
  {
   "cell_type": "markdown",
   "metadata": {},
   "source": [
    "# Complexity Computation\n",
    "This notebook shows how to determine power p in complexity O(M^p) as M->infinity. As an example, we look at matrix vector multiplication, where p is 2"
   ]
  },
  {
   "cell_type": "code",
   "execution_count": null,
   "metadata": {},
   "outputs": [],
   "source": [
    "%matplotlib inline\n",
    "import matplotlib.pyplot as plt\n",
    "import numpy as np\n",
    "import time"
   ]
  },
  {
   "cell_type": "markdown",
   "metadata": {},
   "source": [
    "### Set up data\n",
    "Create matrix A and vector x"
   ]
  },
  {
   "cell_type": "code",
   "execution_count": null,
   "metadata": {},
   "outputs": [],
   "source": [
    "# set up A (max_dim x max_dim) and x (max_dim,1)\n",
    "max_ndim = 7000\n",
    "A = np.random.randn(max_ndim,max_ndim)\n",
    "x = np.random.randn(max_ndim,1)"
   ]
  },
  {
   "cell_type": "markdown",
   "metadata": {},
   "source": [
    "### Compute processing time for A*x matrix vector multiplication"
   ]
  },
  {
   "cell_type": "code",
   "execution_count": null,
   "metadata": {},
   "outputs": [],
   "source": [
    "# set up list of dimension lengths\n",
    "array_ndim = [1000,2000,3000,4000,5000,6000,7000]\n",
    "# create initial array of zeros for time calculation\n",
    "array_time = np.zeros(np.size(array_ndim))\n",
    "# repeat experiment nrun times to smooth out results\n",
    "nrun = 50\n",
    "# record time to compute A[0:ndim,0:ndim]*x[0:ndim] over nrun cases\n",
    "for i in range(np.size(array_ndim)):\n",
    "    ndim = array_ndim[i]\n",
    "    time_start = time.time()\n",
    "    for count in range(nrun):\n",
    "        y = np.matmul(A[0:ndim,0:ndim],x[0:ndim,0])\n",
    "    time_end = time.time()\n",
    "    array_time[i] = time_end - time_start\n",
    "print(\"array_ndim: {}\".format(array_ndim))\n",
    "print(\"array_time: {}\".format(array_time))"
   ]
  },
  {
   "cell_type": "markdown",
   "metadata": {},
   "source": [
    "### Plot results\n",
    "Plot results using raw data"
   ]
  },
  {
   "cell_type": "code",
   "execution_count": null,
   "metadata": {},
   "outputs": [],
   "source": [
    "plt.figure()\n",
    "plt.title(\"Raw data\")\n",
    "plt.xlabel(\"Dimension\")\n",
    "plt.ylabel(\"Time\")\n",
    "plt.plot(array_ndim,array_time,\"ro\")\n",
    "plt.show()"
   ]
  },
  {
   "cell_type": "markdown",
   "metadata": {},
   "source": [
    "Take log of dimension and time and plot"
   ]
  },
  {
   "cell_type": "code",
   "execution_count": null,
   "metadata": {},
   "outputs": [],
   "source": [
    "log_ndim = np.log(array_ndim)\n",
    "log_time = np.log(array_time)\n",
    "plt.figure()\n",
    "plt.title(\"Data\")\n",
    "plt.xlabel(\"log Dimension\")\n",
    "plt.ylabel(\"log Time\")\n",
    "plt.plot(log_ndim,log_time,\"ro\")\n",
    "plt.show()"
   ]
  },
  {
   "cell_type": "markdown",
   "metadata": {},
   "source": [
    "### Determine complexity power\n",
    "Fit log ndim/log time data to a linear function using np.polyfit"
   ]
  },
  {
   "cell_type": "code",
   "execution_count": null,
   "metadata": {},
   "outputs": [],
   "source": [
    "# fit log ndim/log time data to linear function using polyfit \n",
    "# input 1 means fit to linear function\n",
    "coeff = np.polyfit(log_ndim,log_time,1)\n",
    "print(\"Coefficients: {}\".format(coeff))\n",
    "print(\"Complexity power: {}\".format(coeff[0]))"
   ]
  },
  {
   "cell_type": "code",
   "execution_count": null,
   "metadata": {},
   "outputs": [],
   "source": [
    "# create polynomial(linear function) based on coefficients\n",
    "p = np.poly1d(coeff)\n",
    "# evaluate poloynomaial at log_ndim points\n",
    "plogndim = p(log_ndim)\n",
    "plt.figure()\n",
    "# plot orginal data again on loglog plot\n",
    "plt.plot(log_ndim,log_time,\"ro\",label=\"data\")\n",
    "# plot fit line on loglog plot\n",
    "plt.plot(log_ndim,plogndim,\"b-\",label=\"fit\")\n",
    "plt.legend()\n",
    "plt.title(\"Data and Fit\")\n",
    "plt.ylabel(\"log Time\")\n",
    "plt.xlabel(\"log Dimension\")\n",
    "plt.show()"
   ]
  },
  {
   "cell_type": "code",
   "execution_count": null,
   "metadata": {},
   "outputs": [],
   "source": []
  },
  {
   "cell_type": "code",
   "execution_count": null,
   "metadata": {},
   "outputs": [],
   "source": []
  }
 ],
 "metadata": {
  "kernelspec": {
   "display_name": "Python 3",
   "language": "python",
   "name": "python3"
  },
  "language_info": {
   "codemirror_mode": {
    "name": "ipython",
    "version": 3
   },
   "file_extension": ".py",
   "mimetype": "text/x-python",
   "name": "python",
   "nbconvert_exporter": "python",
   "pygments_lexer": "ipython3",
   "version": "3.8.3"
  }
 },
 "nbformat": 4,
 "nbformat_minor": 4
}
