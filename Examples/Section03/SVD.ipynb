{
 "cells": [
  {
   "cell_type": "markdown",
   "metadata": {},
   "source": [
    "# Singluar Value Decomposition"
   ]
  },
  {
   "cell_type": "code",
   "execution_count": 1,
   "metadata": {},
   "outputs": [],
   "source": [
    "import matplotlib.pyplot as plt\n",
    "import matplotlib\n",
    "import numpy as np"
   ]
  },
  {
   "cell_type": "markdown",
   "metadata": {},
   "source": [
    "### Example"
   ]
  },
  {
   "cell_type": "code",
   "execution_count": 2,
   "metadata": {},
   "outputs": [],
   "source": [
    "# matrix is\n",
    "# A = [1  -1]\n",
    "#     [0.5  1]\n",
    "A = np.array([[1, -1],[0.5,1]])"
   ]
  },
  {
   "cell_type": "code",
   "execution_count": 3,
   "metadata": {},
   "outputs": [],
   "source": [
    "# svd (set full_matrices = False for compact version)\n",
    "# in this case compact version = regular version since A is square\n",
    "U,Sigma,Vt = np.linalg.svd(A,full_matrices=False)"
   ]
  },
  {
   "cell_type": "code",
   "execution_count": 4,
   "metadata": {},
   "outputs": [
    {
     "name": "stdout",
     "output_type": "stream",
     "text": [
      "U: \n",
      "[[-0.89442719  0.4472136 ]\n",
      " [ 0.4472136   0.89442719]]\n"
     ]
    }
   ],
   "source": [
    "print(\"U: \\n{}\".format(U))"
   ]
  },
  {
   "cell_type": "code",
   "execution_count": 5,
   "metadata": {},
   "outputs": [
    {
     "name": "stdout",
     "output_type": "stream",
     "text": [
      "Sigma: [1.5 1. ]\n",
      "diag Sigma: \n",
      "[[1.5 0. ]\n",
      " [0.  1. ]]\n"
     ]
    }
   ],
   "source": [
    "# print singular values (non-negative and in descending order)\n",
    "print(\"Sigma: {}\".format(Sigma))\n",
    "print(\"diag Sigma: \\n{}\".format(np.diag(Sigma)))"
   ]
  },
  {
   "cell_type": "code",
   "execution_count": 7,
   "metadata": {},
   "outputs": [
    {
     "name": "stdout",
     "output_type": "stream",
     "text": [
      "Vt: \n",
      "[[-0.4472136   0.89442719]\n",
      " [ 0.89442719  0.4472136 ]]\n",
      "v: \n",
      "[[-0.4472136   0.89442719]\n",
      " [ 0.89442719  0.4472136 ]]\n"
     ]
    }
   ],
   "source": [
    "print(\"Vt: \\n{}\".format(Vt))\n",
    "V = Vt.T\n",
    "print(\"v: \\n{}\".format(Vt.T))"
   ]
  },
  {
   "cell_type": "code",
   "execution_count": 6,
   "metadata": {},
   "outputs": [
    {
     "name": "stdout",
     "output_type": "stream",
     "text": [
      "A - U*Sigma*Vt =  \n",
      "[[ 3.33066907e-16 -4.44089210e-16]\n",
      " [ 2.22044605e-16  0.00000000e+00]]\n"
     ]
    }
   ],
   "source": [
    "# confirm svd check A - U*Sigma*Vt is near 0\n",
    "diff = A - np.matmul(np.matmul(U,np.diag(Sigma)),Vt)\n",
    "print(\"A - U*Sigma*Vt =  \\n{}\".format(diff))"
   ]
  },
  {
   "cell_type": "code",
   "execution_count": 8,
   "metadata": {},
   "outputs": [
    {
     "name": "stdout",
     "output_type": "stream",
     "text": [
      "x: \n",
      "[[0]\n",
      " [1]]\n",
      "y: \n",
      "[[-1.]\n",
      " [ 1.]]\n"
     ]
    }
   ],
   "source": [
    "# Compute y = Ax\n",
    "x = np.array([[0],[1]])\n",
    "y = np.matmul(A,x)\n",
    "print(\"x: \\n{}\".format(x))\n",
    "print(\"y: \\n{}\".format(y))"
   ]
  },
  {
   "cell_type": "markdown",
   "metadata": {},
   "source": [
    "### Plot results"
   ]
  },
  {
   "cell_type": "markdown",
   "metadata": {},
   "source": [
    "#### Plot in V space"
   ]
  },
  {
   "cell_type": "code",
   "execution_count": 9,
   "metadata": {},
   "outputs": [
    {
     "data": {
      "text/plain": [
       "<matplotlib.patches.Ellipse at 0x1ec62aca3a0>"
      ]
     },
     "execution_count": 9,
     "metadata": {},
     "output_type": "execute_result"
    },
    {
     "data": {
      "image/png": "[encoded data removed]",
      "text/plain": [
       "<Figure size 432x288 with 1 Axes>"
      ]
     },
     "metadata": {
      "needs_background": "light"
     },
     "output_type": "display_data"
    }
   ],
   "source": [
    "# Plot v0 and v1\n",
    "fig, ax = plt.subplots()\n",
    "scale = np.max(Sigma)\n",
    "plt.xlim(-1.2*scale,1.2*scale)\n",
    "plt.ylim(-1.2*scale,1.2*scale)\n",
    "ax.set_aspect(\"equal\")\n",
    "plt.arrow(0,0,V[0,0],V[1,0],color=\"r\",width=0.01,length_includes_head=True,head_width=0.08)\n",
    "plt.arrow(0,0,V[0,1],V[1,1],color=\"r\",width=0.01,length_includes_head=True,head_width=0.08)\n",
    "plt.arrow(0,0,x[0,0],x[1,0],color=\"k\",width=0.01,length_includes_head=True,head_width=0.08)\n",
    "ax.text(1.2*V[0,0],1.2*V[1,0],\"$v_0$\",fontsize=15)\n",
    "ax.text(1.2*V[0,1],1.2*V[1,1],\"$v_1$\",fontsize=15)\n",
    "ax.text(1.2*x[0,0],1.2*x[1,0],\"x\",fontsize=15)\n",
    "# create ellipse width = diameter in long direction, height = diameter in short direction for unit circle width=height=2\n",
    "ellipse0 = matplotlib.patches.Ellipse(xy=[0,0],height=2,width=2)\n",
    "ax.add_patch(ellipse0)"
   ]
  },
  {
   "cell_type": "markdown",
   "metadata": {},
   "source": [
    "#### Plot in U space"
   ]
  },
  {
   "cell_type": "code",
   "execution_count": 10,
   "metadata": {},
   "outputs": [
    {
     "data": {
      "text/plain": [
       "<matplotlib.patches.Ellipse at 0x1ec62bc5c10>"
      ]
     },
     "execution_count": 10,
     "metadata": {},
     "output_type": "execute_result"
    },
    {
     "data": {
      "image/png": "[encoded data removed]",
      "text/plain": [
       "<Figure size 432x288 with 1 Axes>"
      ]
     },
     "metadata": {
      "needs_background": "light"
     },
     "output_type": "display_data"
    }
   ],
   "source": [
    "# plot s0*u0 and s1*u1\n",
    "fig, ax = plt.subplots()\n",
    "plt.xlim(-1.5*scale,1.5*scale)\n",
    "plt.ylim(-1.5*scale,1.5*scale)\n",
    "ax.set_aspect(\"equal\")\n",
    "plt.arrow(0,0,Sigma[0]*U[0,0],Sigma[0]*U[1,0],color=\"r\",width=0.01,length_includes_head=True,head_width=0.08)\n",
    "plt.arrow(0,0,Sigma[1]*U[0,1],Sigma[1]*U[1,1],color=\"r\",width=0.01,length_includes_head=True,head_width=0.08)\n",
    "plt.arrow(0,0,y[0,0],y[1,0],color=\"k\",width=0.01,length_includes_head=True,head_width=0.08)\n",
    "ax.text(1.6*Sigma[0]*U[0,0],1.2*Sigma[0]*U[1,0],\"$\\sigma_0u_0$\",fontsize=15)\n",
    "ax.text(1.2*Sigma[1]*U[0,1],1.2*Sigma[1]*U[1,1],\"$\\sigma_1u_1$\",fontsize=15)\n",
    "ax.text(1.2*y[0,0],1.2*y[1,0],\"y\",fontsize=15)\n",
    "# create ellipse: width = diameter in long direction, height = diameter in short direction\n",
    "# angle is angle of long direction wrt horizontal (u0 points in long direction)\n",
    "angle = np.arctan(U[1,0]/(U[0,0]+1e-10))\n",
    "ellipse1 = matplotlib.patches.Ellipse(xy=[0,0],width=2*Sigma[0],height=2*Sigma[1],angle=angle*180/np.pi)\n",
    "ax.add_patch(ellipse1)"
   ]
  },
  {
   "cell_type": "code",
   "execution_count": null,
   "metadata": {},
   "outputs": [],
   "source": []
  }
 ],
 "metadata": {
  "kernelspec": {
   "display_name": "Python 3",
   "language": "python",
   "name": "python3"
  },
  "language_info": {
   "codemirror_mode": {
    "name": "ipython",
    "version": 3
   },
   "file_extension": ".py",
   "mimetype": "text/x-python",
   "name": "python",
   "nbconvert_exporter": "python",
   "pygments_lexer": "ipython3",
   "version": "3.8.3"
  }
 },
 "nbformat": 4,
 "nbformat_minor": 2
}
