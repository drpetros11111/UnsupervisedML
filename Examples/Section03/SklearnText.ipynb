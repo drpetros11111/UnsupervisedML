{
 "cells": [
  {
   "cell_type": "markdown",
   "metadata": {},
   "source": [
    "# Sklearn Text\n",
    "Demo of text processing functionality in sklearn"
   ]
  },
  {
   "cell_type": "code",
   "execution_count": null,
   "metadata": {},
   "outputs": [],
   "source": [
    "%matplotlib inline\n",
    "import matplotlib.pyplot as plt\n",
    "import numpy as np\n",
    "from sklearn.feature_extraction.text import CountVectorizer\n",
    "from sklearn.feature_extraction.text import TfidfVectorizer\n",
    "from wordcloud import WordCloud"
   ]
  },
  {
   "cell_type": "markdown",
   "metadata": {},
   "source": [
    "### Create messages\n",
    "List of 3 messages"
   ]
  },
  {
   "cell_type": "code",
   "execution_count": null,
   "metadata": {},
   "outputs": [],
   "source": [
    "#dataset\n",
    "list_message = [\"Call me soon\", \"CALL to win\", \"Pick me up soon\"]"
   ]
  },
  {
   "cell_type": "markdown",
   "metadata": {},
   "source": [
    "### Process text: using sklearn CountVectorizer"
   ]
  },
  {
   "cell_type": "code",
   "execution_count": null,
   "metadata": {},
   "outputs": [],
   "source": [
    "# Create instance of count vectorizer\n",
    "vectorizer = CountVectorizer()\n",
    "# Perform word counts\n",
    "Xfit = vectorizer.fit_transform(list_message)\n",
    "# Generate feature matrix (transpose so sample axis is in column direction)\n",
    "X = Xfit.toarray().T\n",
    "print(\"X: \\n{}\".format(X))\n",
    "# list words in vocabulary (turn into numpy array)\n",
    "words = np.array(vectorizer.get_feature_names())\n",
    "print(\"words: {}\".format(words))"
   ]
  },
  {
   "cell_type": "code",
   "execution_count": null,
   "metadata": {},
   "outputs": [],
   "source": [
    "# Count number of times each word appears in all messages\n",
    "# sum in column direction\n",
    "word_count = np.sum(X,axis=1)\n",
    "for i,word in enumerate(words):\n",
    "    print(\"{}  \\t count: {}\".format(word,word_count[i]))"
   ]
  },
  {
   "cell_type": "markdown",
   "metadata": {},
   "source": [
    "### Word Cloud\n",
    "Create a word cloud using \"frequencies\" approach"
   ]
  },
  {
   "cell_type": "code",
   "execution_count": null,
   "metadata": {},
   "outputs": [],
   "source": [
    "# create a dictionary key = word and value = word_count for each word\n",
    "dict_freq = {words[i]:word_count[i] for i in range(np.size(words))}\n",
    "print(\"dictionary: {}\".format(dict_freq))"
   ]
  },
  {
   "cell_type": "code",
   "execution_count": null,
   "metadata": {},
   "outputs": [],
   "source": [
    "# use generate_from_frequencies approach for WordCloud\n",
    "wc = WordCloud(background_color=\"white\",width=1000,height=600, random_state=11).generate_from_frequencies(dict_freq)\n",
    "plt.figure()\n",
    "plt.imshow(wc)\n",
    "plt.show()"
   ]
  },
  {
   "cell_type": "markdown",
   "metadata": {},
   "source": [
    "### Process text: using sklearn TfidfVectorizer"
   ]
  },
  {
   "cell_type": "code",
   "execution_count": null,
   "metadata": {},
   "outputs": [],
   "source": [
    "# Create instance of vectorizer\n",
    "vectorizer_tfidf = TfidfVectorizer()\n",
    "# Perform tfidf calculation\n",
    "Xfit_tfidf = vectorizer_tfidf.fit_transform(list_message)\n",
    "# Generate feature matrix (transpose so sample axis is in column direction)\n",
    "X_tfidf = Xfit_tfidf.toarray().T\n",
    "print(\"X_tfidf: \\n{}\".format(X_tfidf))\n",
    "# list words in vocabulary (turn into numpy array)\n",
    "words_tfidf = np.array(vectorizer_tfidf.get_feature_names())\n",
    "print(\"Words: {}\".format(words_tfidf))"
   ]
  },
  {
   "cell_type": "markdown",
   "metadata": {},
   "source": [
    "### Generate Word Cloud\n",
    "Use tfidf data"
   ]
  },
  {
   "cell_type": "code",
   "execution_count": null,
   "metadata": {},
   "outputs": [],
   "source": [
    "# Sum in the column direction\n",
    "word_weight_tfidf = np.sum(X_tfidf,axis=1)\n",
    "for i,word in enumerate(words_tfidf):\n",
    "    print(\"{}  \\t weight: {}\".format(word,word_weight_tfidf[i]))"
   ]
  },
  {
   "cell_type": "code",
   "execution_count": null,
   "metadata": {},
   "outputs": [],
   "source": [
    "# create a dictionary key = word and value = word_weight for each word\n",
    "dict_freq_tfidf = {words_tfidf[i]:word_weight_tfidf[i] for i in range(np.size(words_tfidf))}\n",
    "print(\"dictionary: {}\".format(dict_freq_tfidf))"
   ]
  },
  {
   "cell_type": "code",
   "execution_count": null,
   "metadata": {},
   "outputs": [],
   "source": [
    "# use generate_from_frequencies approach for WordCloud\n",
    "wc = WordCloud(background_color=\"white\",width=1000,height=600, random_state=11).generate_from_frequencies(dict_freq_tfidf)\n",
    "plt.figure()\n",
    "plt.imshow(wc)\n",
    "plt.show()"
   ]
  },
  {
   "cell_type": "code",
   "execution_count": null,
   "metadata": {},
   "outputs": [],
   "source": []
  }
 ],
 "metadata": {
  "kernelspec": {
   "display_name": "Python 3",
   "language": "python",
   "name": "python3"
  },
  "language_info": {
   "codemirror_mode": {
    "name": "ipython",
    "version": 3
   },
   "file_extension": ".py",
   "mimetype": "text/x-python",
   "name": "python",
   "nbconvert_exporter": "python",
   "pygments_lexer": "ipython3",
   "version": "3.8.3"
  }
 },
 "nbformat": 4,
 "nbformat_minor": 2
}
